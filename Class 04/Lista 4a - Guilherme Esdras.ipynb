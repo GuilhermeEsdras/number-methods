{
 "cells": [
  {
   "cell_type": "markdown",
   "id": "a2b27bb3-0a00-4487-af7c-01a7dbb36579",
   "metadata": {},
   "source": [
    "<h1 style=\"border: 1.5px solid #ccc; \n",
    "           padding: 8px 12px; \n",
    "           color:#56BFCB;\"\n",
    "    >\n",
    "    <center> <br/>\n",
    "        Lista de Exercícios 4a <br/>\n",
    "        <span style=\"font-size:18px;\"> Guilherme Esdras </span>\n",
    "    </center>\n",
    "</h1>"
   ]
  },
  {
   "cell_type": "markdown",
   "id": "04d6e764-8a77-49c4-a406-a0fbe5fce874",
   "metadata": {},
   "source": [
    "---"
   ]
  },
  {
   "cell_type": "markdown",
   "id": "83b97414-05e1-4d97-9cea-80905e97f69f",
   "metadata": {},
   "source": [
    "<b>\n",
    "    <center>\n",
    "        Imports\n",
    "    </center>\n",
    "</b>"
   ]
  },
  {
   "cell_type": "code",
   "execution_count": 1,
   "id": "0eceb645-a5ce-4579-8e26-c42276c0827e",
   "metadata": {},
   "outputs": [
    {
     "data": {
      "image/png": "[encoded data removed]",
      "text/latex": [
       "$\\displaystyle \\left( x, \\  y\\right)$"
      ],
      "text/plain": [
       "(x, y)"
      ]
     },
     "execution_count": 1,
     "metadata": {},
     "output_type": "execute_result"
    }
   ],
   "source": [
    "import warnings\n",
    "warnings.filterwarnings('ignore')\n",
    "\n",
    "import numpy as np\n",
    "import pandas as pd\n",
    "from scipy import optimize\n",
    "\n",
    "import matplotlib as mpl\n",
    "import matplotlib.pyplot as plt\n",
    "%matplotlib inline\n",
    "plt.style.use('seaborn-poster')\n",
    "\n",
    "import sympy as sp\n",
    "sp.init_printing()\n",
    "sp.var('x, y')"
   ]
  },
  {
   "cell_type": "markdown",
   "id": "374d6a91-cdc6-437c-bf27-c2ef59a58ce6",
   "metadata": {},
   "source": [
    "---"
   ]
  },
  {
   "cell_type": "markdown",
   "id": "f7b907d8-ead4-4802-9935-61c93545c52b",
   "metadata": {},
   "source": [
    "<div class=\"alert alert-block alert-info\" style=\"color:#20484d;\">\n",
    "    <b>Exercicio 1:</b> Implemente o método da Bisseção descrito pelo algoritmo 1.1 no texto. Para testar o algoritmo, use os exemplos do material textual.\n",
    "</div>"
   ]
  },
  {
   "cell_type": "code",
   "execution_count": 2,
   "id": "40096a1a-a694-4fba-bf9d-a399e1f0e2b7",
   "metadata": {
    "jupyter": {
     "source_hidden": true
    },
    "tags": []
   },
   "outputs": [],
   "source": [
    "# Implementando função do Método da Bisseção\n",
    "\n",
    "# Versão 1 (antes da aula de quinta-feira)\n",
    "\n",
    "def bissecao_old(f, a, b, n_its, tol, verbose=False, r_tb=False):\n",
    "    '''\n",
    "    Método da Bisseção v1\n",
    "        [by guilherme esdras]\n",
    "    \n",
    "    Parâmetros:\n",
    "    ----------\n",
    "        f (function) : \n",
    "            A função na qual busca-se encontrar uma solução aproximada para f(x) = 0.\n",
    "        a (int), b (int): \n",
    "            Limites inferior e superior, respectivamente, do intervalo.\n",
    "        n_its (int): \n",
    "            Número máximo de iterações.\n",
    "        tol (float): \n",
    "            Tolerância mínima ou Erro aceitável (critério de parada).\n",
    "        verbose (boolean):\n",
    "            True = exibe as tabelas e prints;\n",
    "            False (padrão) = não exibe.\n",
    "        r_tb (boolean):\n",
    "            True = retorna uma tabela de dados para uso com Pandas;\n",
    "            False (padrão) = não retorna.\n",
    "            \n",
    "        \n",
    "    Retornos:\n",
    "    -------\n",
    "        xi (int): \n",
    "            O ponto médio do intervalo computado na i-ésima iteração.\n",
    "        i (int): \n",
    "            O número máximo de iterações que foi preciso para encontrar a solução.\n",
    "    \n",
    "    '''\n",
    "    \n",
    "    # Inicializa as variaveis de entrada\n",
    "    i = 0\n",
    "    ai = a\n",
    "    bi = b\n",
    "    \n",
    "    ''' Opcional... '''\n",
    "    if verbose or r_tb: tb = []\n",
    "    \n",
    "    # Verifica a existencia da raiz,\n",
    "    # primeiro testando:\n",
    "    if np.sign(f(a)) * np.sign(f(b)) != -1:\n",
    "        if verbose: print('Não existe raiz no intervalo. Encerrando!')\n",
    "        return\n",
    "    \n",
    "    # Caso não contrário...\n",
    "    else:\n",
    "        # Enquanto a tolerância for aceitável e o número de iterações não tiver sido atingido...\n",
    "        while ( ((bi - ai) / 2.0) > tol ) and ( i < n_its ):\n",
    "            \n",
    "            ''' Opcional... ''' \n",
    "            if verbose or r_tb: tb.append([]); tb[i].append(ai); tb[i].append(bi);\n",
    "            \n",
    "            # calcula o ponto médio do intervalo...\n",
    "            xi = (ai + bi) / 2.0\n",
    "            \n",
    "            ''' Opcional... '''\n",
    "            if verbose or r_tb: tb[i].append(xi); tb[i].append(f(xi));\n",
    "            \n",
    "            # verifica se este ponto médio é a raiz...\n",
    "            if f(xi) == 0:\n",
    "                ''' Opcional... ''' \n",
    "                if verbose: print('A raiz é o valor atual de x!')\n",
    "                    \n",
    "                return ( xi, i )\n",
    "            \n",
    "            # caso contrário, verificar em que subintervalo está a raiz...\n",
    "            else:\n",
    "                \n",
    "                # se o primeiro subintervalo tem a raiz...\n",
    "                if np.sign(f(ai)) * np.sign(f(xi)) == -1:\n",
    "                    # atualiza o limite superior:\n",
    "                    bi = xi\n",
    "                \n",
    "                # caso contrário (se o segundo subintervalo tem a raiz)...\n",
    "                else:\n",
    "                    # atualiza o limite inferior:\n",
    "                    ai = xi\n",
    "                \n",
    "                # atualiza o iterador, incrementado-o\n",
    "                i += 1\n",
    "        \n",
    "        ''' Opcional... '''\n",
    "        if verbose:\n",
    "            msg = f'Raiz encontrada: {xi} | Em {i} iterações'\n",
    "            print(pd.DataFrame(tb, columns=[\"a\", \"b\", \"x\", \"f(x)\"]))\n",
    "            print('-'*len(msg))\n",
    "            print(msg)\n",
    "            print('-'*len(msg))\n",
    "        ''' ----------- '''\n",
    "        \n",
    "        # ao fim, retorna o valor exato ou aproximado da raiz\n",
    "        if not r_tb: return ( xi, i )\n",
    "        else: return ( xi, i, tb )"
   ]
  },
  {
   "cell_type": "code",
   "execution_count": 3,
   "id": "c357f706-c7cd-4987-ab8b-4881db968bb9",
   "metadata": {
    "jupyter": {
     "source_hidden": true
    },
    "tags": []
   },
   "outputs": [],
   "source": [
    "def bissecao_do_professor(f, a, b, tol=1e-10):\n",
    "    i  = 0;\n",
    "    erro, x_ant = 1, a\n",
    "    while(erro > tol):\n",
    "        inf = np.sign(f(a))\n",
    "        sup = np.sign(f(b))\n",
    "        if inf*sup != -1:\n",
    "            print(\"Não há raiz nesse intervalo\")\n",
    "            return\n",
    "        else:\n",
    "            x = (a + b)/2.\n",
    "            if f(x) == 0:\n",
    "                print(\"A raíz é\", x)\n",
    "                return\n",
    "            elif inf*np.sign(f(x)) == -1:\n",
    "                b = x\n",
    "            else: a = x\n",
    "        erro = np.abs((x - x_ant)/np.abs(x))\n",
    "        x_ant = x\n",
    "    return x"
   ]
  },
  {
   "cell_type": "code",
   "execution_count": 4,
   "id": "c60827e7-01d4-433e-9957-4afa2d5b30b2",
   "metadata": {},
   "outputs": [],
   "source": [
    "# Implementando função do Método da Bisseção\n",
    "\n",
    "def bissecao(f, a, b, n_its=9999, tol=1e-10, verbose=False, r_tb=False, p_err=False):\n",
    "    '''\n",
    "    Método da Bisseção\n",
    "        [by guilherme esdras]\n",
    "    \n",
    "    Parâmetros:\n",
    "    ----------\n",
    "        f (function): \n",
    "            A função na qual busca-se encontrar uma solução aproximada para f(x) = 0.\n",
    "        a (int), b (int): \n",
    "            Limites inferior e superior, respectivamente, do intervalo.\n",
    "        n_its (int) [Opcional | Default: 9999]: \n",
    "            Número máximo de iterações.\n",
    "        tol (float) [Opcional | Default: 1e-10]: \n",
    "            Tolerância mínima ou Erro aceitável (critério de parada). Se nenhum valor for passado o padrão será 10^-10.\n",
    "        verbose (boolean):\n",
    "            True:\n",
    "                Exibe as tabelas e prints;\n",
    "            False (default):\n",
    "                Não exibe.\n",
    "        r_tb (boolean):\n",
    "            True:\n",
    "                Retorna uma tabela de dados para uso com Pandas;\n",
    "            False (default):\n",
    "                Não retorna.\n",
    "        p_err (boolean):\n",
    "            True:\n",
    "                Imprime o erro em cada iteração;\n",
    "            False (default):\n",
    "                Não imprime.\n",
    "            \n",
    "        \n",
    "    Retornos:\n",
    "    -------\n",
    "        xi (int): \n",
    "            O ponto médio do intervalo computado na i-ésima iteração.\n",
    "        i (int): \n",
    "            O número máximo de iterações que foi preciso para encontrar a solução.\n",
    "    \n",
    "    '''\n",
    "    \n",
    "    # Inicializa as variaveis de entrada\n",
    "    i = 0\n",
    "    ai = a\n",
    "    bi = b\n",
    "    \n",
    "    ''' Opcional... '''\n",
    "    if verbose or r_tb: tb = []\n",
    "    \n",
    "    # Verifica a existencia da raiz,\n",
    "    # primeiro testando:\n",
    "    if np.sign(f(a)) * np.sign(f(b)) != -1:\n",
    "        ''' Opcional... '''\n",
    "        if verbose: print('Não existe raiz no intervalo. Encerrando!')\n",
    "        return\n",
    "    \n",
    "    # Caso não contrário...\n",
    "    else:\n",
    "        erro, x_ant = 1, a\n",
    "        # Enquanto a tolerância for aceitável e o número de iterações não tiver sido atingido...\n",
    "        while ( erro > tol ) and ( i < n_its ):\n",
    "            ''' Opcional... ''' \n",
    "            if verbose or r_tb: tb.append([]); tb[i].append(ai); tb[i].append(bi);\n",
    "                \n",
    "            # calcula o ponto médio do intervalo...\n",
    "            x = ai + 0.5 * (bi - ai) # (ai + bi) / 2.0\n",
    "            \n",
    "            ''' Opcional... '''\n",
    "            if verbose or r_tb: tb[i].append(x); tb[i].append(f(x));\n",
    "            \n",
    "            # verifica se este ponto médio é a raiz...\n",
    "            if f(x) == 0:\n",
    "                ''' Opcional... ''' \n",
    "                if verbose: print('A raiz é o valor atual de x!')\n",
    "                return ( x, i )\n",
    "            # caso contrário, verificar em que subintervalo está a raiz...\n",
    "            else:\n",
    "                # se o primeiro subintervalo tem a raiz...\n",
    "                if np.sign(f(ai)) * np.sign(f(x)) == -1:\n",
    "                    # atualiza o limite superior:\n",
    "                    bi = x\n",
    "                # caso contrário (se o segundo subintervalo tem a raiz)...\n",
    "                else:\n",
    "                    # atualiza o limite inferior:\n",
    "                    ai = x\n",
    "                # atualiza o iterador, incrementado-o\n",
    "                i += 1\n",
    "            \n",
    "            # calcula o erro\n",
    "            erro = np.abs((x - x_ant) / np.abs(x))\n",
    "            x_ant = x\n",
    "            if p_err: print(f'Erro {i}: {erro:.5f}')\n",
    "        \n",
    "        ''' Opcional... '''\n",
    "        if verbose:\n",
    "            msg = f'Raiz encontrada: {x} | Em {i} iterações'\n",
    "            print('-'*len(msg))\n",
    "            print(pd.DataFrame(tb, columns=[\"a\", \"b\", \"x\", \"f(x)\"]))\n",
    "            print('-'*len(msg))\n",
    "            print(msg)\n",
    "            print('-'*len(msg))\n",
    "        ''' ----------- '''\n",
    "        \n",
    "        # ao fim, retorna o valor exato ou aproximado da raiz\n",
    "        if not r_tb: return ( x, i )\n",
    "        else: return ( x, i, tb )"
   ]
  },
  {
   "cell_type": "markdown",
   "id": "78141fed-648e-4fc3-831b-0f4b1664f9ee",
   "metadata": {},
   "source": [
    "---"
   ]
  },
  {
   "cell_type": "markdown",
   "id": "faab018e-9726-4ec0-9f66-c2f0922c0676",
   "metadata": {},
   "source": [
    "**Realizando Teste 01**"
   ]
  },
  {
   "cell_type": "code",
   "execution_count": 5,
   "id": "a7fc5adf-2f51-4174-b161-e09c64d69383",
   "metadata": {},
   "outputs": [
    {
     "data": {
      "image/png": "[encoded data removed]",
      "text/latex": [
       "$\\displaystyle \\left( x \\mapsto x^{5} + 2 x^{3} - 5 x - 2 \\right)$"
      ],
      "text/plain": [
       "     5      3          \n",
       "x ↦ x  + 2⋅x  - 5⋅x - 2"
      ]
     },
     "execution_count": 5,
     "metadata": {},
     "output_type": "execute_result"
    }
   ],
   "source": [
    "f = lambda x: ( x**5+2*x**3-5*x-2 )\n",
    "sp.var('x')\n",
    "f_sp = sp.Lambda(x, x**5+2*x**3-5*x-2)\n",
    "f_sp"
   ]
  },
  {
   "cell_type": "code",
   "execution_count": 6,
   "id": "28d33dad-837d-48f1-8627-574687029bc0",
   "metadata": {},
   "outputs": [
    {
     "data": {
      "image/png": "[encoded data removed]",
      "text/plain": [
       "<Figure size 921.6x633.6 with 1 Axes>"
      ]
     },
     "metadata": {
      "needs_background": "light"
     },
     "output_type": "display_data"
    }
   ],
   "source": [
    "x = np.linspace(-5, 5, 100)\n",
    "plt.plot(x, f(x))\n",
    "plt.grid()"
   ]
  },
  {
   "cell_type": "markdown",
   "id": "c55e83f3-532a-4cef-8013-23630afee679",
   "metadata": {},
   "source": [
    " "
   ]
  },
  {
   "cell_type": "code",
   "execution_count": 7,
   "id": "707b93e8-50ef-4beb-9685-604d56f18669",
   "metadata": {},
   "outputs": [
    {
     "name": "stdout",
     "output_type": "stream",
     "text": [
      "----------------------------------------------------\n",
      "           a         b         x          f(x)\n",
      "0  -2.000000  2.000000  0.000000 -2.000000e+00\n",
      "1   0.000000  2.000000  1.000000 -4.000000e+00\n",
      "2   1.000000  2.000000  1.500000  4.843750e+00\n",
      "3   1.000000  1.500000  1.250000 -1.291992e+00\n",
      "4   1.250000  1.500000  1.375000  1.239105e+00\n",
      "5   1.250000  1.375000  1.312500 -1.456251e-01\n",
      "6   1.312500  1.375000  1.343750  5.151652e-01\n",
      "7   1.312500  1.343750  1.328125  1.771047e-01\n",
      "8   1.312500  1.328125  1.320312  1.385145e-02\n",
      "9   1.312500  1.320312  1.316406 -6.635544e-02\n",
      "10  1.316406  1.320312  1.318359 -2.636958e-02\n",
      "11  1.318359  1.320312  1.319336 -6.288519e-03\n",
      "12  1.319336  1.320312  1.319824  3.774095e-03\n",
      "13  1.319336  1.319824  1.319580 -1.259053e-03\n",
      "14  1.319580  1.319824  1.319702  1.257060e-03\n",
      "15  1.319580  1.319702  1.319641 -1.111565e-06\n",
      "16  1.319641  1.319702  1.319672  6.279456e-04\n",
      "17  1.319641  1.319672  1.319656  3.134098e-04\n",
      "18  1.319641  1.319656  1.319649  1.561473e-04\n",
      "19  1.319641  1.319649  1.319645  7.751744e-05\n",
      "20  1.319641  1.319645  1.319643  3.820282e-05\n",
      "21  1.319641  1.319643  1.319642  1.854560e-05\n",
      "22  1.319641  1.319642  1.319642  8.717010e-06\n",
      "23  1.319641  1.319642  1.319641  3.802721e-06\n",
      "24  1.319641  1.319641  1.319641  1.345577e-06\n",
      "25  1.319641  1.319641  1.319641  1.170058e-07\n",
      "26  1.319641  1.319641  1.319641 -4.972799e-07\n",
      "27  1.319641  1.319641  1.319641 -1.901371e-07\n",
      "28  1.319641  1.319641  1.319641 -3.656565e-08\n",
      "29  1.319641  1.319641  1.319641  4.022005e-08\n",
      "30  1.319641  1.319641  1.319641  1.827202e-09\n",
      "31  1.319641  1.319641  1.319641 -1.736922e-08\n",
      "32  1.319641  1.319641  1.319641 -7.771011e-09\n",
      "33  1.319641  1.319641  1.319641 -2.971905e-09\n",
      "34  1.319641  1.319641  1.319641 -5.723511e-10\n",
      "----------------------------------------------------\n",
      "Raiz encontrada: 1.319641167181544 | Em 35 iterações\n",
      "----------------------------------------------------\n"
     ]
    },
    {
     "data": {
      "image/png": "[encoded data removed]",
      "text/latex": [
       "$\\displaystyle \\left( 1.31964116718154, \\  35\\right)$"
      ],
      "text/plain": [
       "(1.319641167181544, 35)"
      ]
     },
     "execution_count": 7,
     "metadata": {},
     "output_type": "execute_result"
    }
   ],
   "source": [
    "bissecao(f, -2, 2, verbose=True)"
   ]
  },
  {
   "cell_type": "code",
   "execution_count": 8,
   "id": "f094c408-ec0f-4e93-bf64-5b39985cebc7",
   "metadata": {
    "jupyter": {
     "source_hidden": true
    },
    "tags": []
   },
   "outputs": [
    {
     "data": {
      "image/png": "[encoded data removed]",
      "text/latex": [
       "$\\displaystyle 1.31964116718154$"
      ],
      "text/plain": [
       "1.319641167181544"
      ]
     },
     "execution_count": 8,
     "metadata": {},
     "output_type": "execute_result"
    }
   ],
   "source": [
    "bissecao_do_professor(f, -2, 2)"
   ]
  },
  {
   "cell_type": "markdown",
   "id": "962f4a6b-6d44-4f38-80e0-00b1e5bf9fc0",
   "metadata": {},
   "source": [
    "---"
   ]
  },
  {
   "cell_type": "markdown",
   "id": "5dcffb38-cb95-4994-a3aa-d60c3a282976",
   "metadata": {},
   "source": [
    "**Realizando Teste 02**"
   ]
  },
  {
   "cell_type": "code",
   "execution_count": 9,
   "id": "eb0d9fda-5b13-4f3a-a81c-9f32485fab29",
   "metadata": {},
   "outputs": [
    {
     "data": {
      "image/png": "[encoded data removed]",
      "text/latex": [
       "$\\displaystyle \\left( x \\mapsto x e^{x} - \\sin{\\left(8 x \\right)} - 1 \\right)$"
      ],
      "text/plain": [
       "       x               \n",
       "x ↦ x⋅ℯ  - sin(8⋅x) - 1"
      ]
     },
     "execution_count": 9,
     "metadata": {},
     "output_type": "execute_result"
    }
   ],
   "source": [
    "f = lambda x: ( x * np.exp(x) - np.sin(8 * x) - 1)\n",
    "\n",
    "sp.var('x')\n",
    "f_sp = sp.Lambda(x, x * sp.exp(x) - sp.sin(8 * x) - 1)\n",
    "f_sp"
   ]
  },
  {
   "cell_type": "markdown",
   "id": "4e23c17d-2e24-4f6c-890c-bead2af7b37f",
   "metadata": {},
   "source": [
    " "
   ]
  },
  {
   "cell_type": "code",
   "execution_count": 10,
   "id": "0486dfb9-e1d0-4ca9-affd-eddfc8f71773",
   "metadata": {},
   "outputs": [
    {
     "name": "stdout",
     "output_type": "stream",
     "text": [
      "\n",
      "Raiz 0.43458593652030686 encontrada em 36 iterações.\n",
      "Como mostrado na tabela:\n",
      "\n"
     ]
    },
    {
     "data": {
      "text/html": [
       "<div>\n",
       "<style scoped>\n",
       "    .dataframe tbody tr th:only-of-type {\n",
       "        vertical-align: middle;\n",
       "    }\n",
       "\n",
       "    .dataframe tbody tr th {\n",
       "        vertical-align: top;\n",
       "    }\n",
       "\n",
       "    .dataframe thead th {\n",
       "        text-align: right;\n",
       "    }\n",
       "</style>\n",
       "<table border=\"1\" class=\"dataframe\">\n",
       "  <thead>\n",
       "    <tr style=\"text-align: right;\">\n",
       "      <th></th>\n",
       "      <th>a</th>\n",
       "      <th>b</th>\n",
       "      <th>x</th>\n",
       "      <th>f(x)</th>\n",
       "    </tr>\n",
       "  </thead>\n",
       "  <tbody>\n",
       "    <tr>\n",
       "      <th>0</th>\n",
       "      <td>-0.500000</td>\n",
       "      <td>1.000000</td>\n",
       "      <td>0.250000</td>\n",
       "      <td>-1.588291e+00</td>\n",
       "    </tr>\n",
       "    <tr>\n",
       "      <th>1</th>\n",
       "      <td>0.250000</td>\n",
       "      <td>1.000000</td>\n",
       "      <td>0.625000</td>\n",
       "      <td>1.126578e+00</td>\n",
       "    </tr>\n",
       "    <tr>\n",
       "      <th>2</th>\n",
       "      <td>0.250000</td>\n",
       "      <td>0.625000</td>\n",
       "      <td>0.437500</td>\n",
       "      <td>2.839648e-02</td>\n",
       "    </tr>\n",
       "    <tr>\n",
       "      <th>3</th>\n",
       "      <td>0.250000</td>\n",
       "      <td>0.437500</td>\n",
       "      <td>0.343750</td>\n",
       "      <td>-8.968958e-01</td>\n",
       "    </tr>\n",
       "    <tr>\n",
       "      <th>4</th>\n",
       "      <td>0.343750</td>\n",
       "      <td>0.437500</td>\n",
       "      <td>0.390625</td>\n",
       "      <td>-4.392856e-01</td>\n",
       "    </tr>\n",
       "    <tr>\n",
       "      <th>5</th>\n",
       "      <td>0.390625</td>\n",
       "      <td>0.437500</td>\n",
       "      <td>0.414062</td>\n",
       "      <td>-2.034669e-01</td>\n",
       "    </tr>\n",
       "    <tr>\n",
       "      <th>6</th>\n",
       "      <td>0.414062</td>\n",
       "      <td>0.437500</td>\n",
       "      <td>0.425781</td>\n",
       "      <td>-8.664151e-02</td>\n",
       "    </tr>\n",
       "    <tr>\n",
       "      <th>7</th>\n",
       "      <td>0.425781</td>\n",
       "      <td>0.437500</td>\n",
       "      <td>0.431641</td>\n",
       "      <td>-2.885010e-02</td>\n",
       "    </tr>\n",
       "    <tr>\n",
       "      <th>8</th>\n",
       "      <td>0.431641</td>\n",
       "      <td>0.437500</td>\n",
       "      <td>0.434570</td>\n",
       "      <td>-1.526564e-04</td>\n",
       "    </tr>\n",
       "    <tr>\n",
       "      <th>9</th>\n",
       "      <td>0.434570</td>\n",
       "      <td>0.437500</td>\n",
       "      <td>0.436035</td>\n",
       "      <td>1.414120e-02</td>\n",
       "    </tr>\n",
       "    <tr>\n",
       "      <th>10</th>\n",
       "      <td>0.434570</td>\n",
       "      <td>0.436035</td>\n",
       "      <td>0.435303</td>\n",
       "      <td>6.999002e-03</td>\n",
       "    </tr>\n",
       "    <tr>\n",
       "      <th>11</th>\n",
       "      <td>0.434570</td>\n",
       "      <td>0.435303</td>\n",
       "      <td>0.434937</td>\n",
       "      <td>3.424343e-03</td>\n",
       "    </tr>\n",
       "    <tr>\n",
       "      <th>12</th>\n",
       "      <td>0.434570</td>\n",
       "      <td>0.434937</td>\n",
       "      <td>0.434753</td>\n",
       "      <td>1.636134e-03</td>\n",
       "    </tr>\n",
       "    <tr>\n",
       "      <th>13</th>\n",
       "      <td>0.434570</td>\n",
       "      <td>0.434753</td>\n",
       "      <td>0.434662</td>\n",
       "      <td>7.418116e-04</td>\n",
       "    </tr>\n",
       "    <tr>\n",
       "      <th>14</th>\n",
       "      <td>0.434570</td>\n",
       "      <td>0.434662</td>\n",
       "      <td>0.434616</td>\n",
       "      <td>2.945957e-04</td>\n",
       "    </tr>\n",
       "    <tr>\n",
       "      <th>15</th>\n",
       "      <td>0.434570</td>\n",
       "      <td>0.434616</td>\n",
       "      <td>0.434593</td>\n",
       "      <td>7.097419e-05</td>\n",
       "    </tr>\n",
       "    <tr>\n",
       "      <th>16</th>\n",
       "      <td>0.434570</td>\n",
       "      <td>0.434593</td>\n",
       "      <td>0.434582</td>\n",
       "      <td>-4.083998e-05</td>\n",
       "    </tr>\n",
       "    <tr>\n",
       "      <th>17</th>\n",
       "      <td>0.434582</td>\n",
       "      <td>0.434593</td>\n",
       "      <td>0.434587</td>\n",
       "      <td>1.506739e-05</td>\n",
       "    </tr>\n",
       "    <tr>\n",
       "      <th>18</th>\n",
       "      <td>0.434582</td>\n",
       "      <td>0.434587</td>\n",
       "      <td>0.434585</td>\n",
       "      <td>-1.288622e-05</td>\n",
       "    </tr>\n",
       "    <tr>\n",
       "      <th>19</th>\n",
       "      <td>0.434585</td>\n",
       "      <td>0.434587</td>\n",
       "      <td>0.434586</td>\n",
       "      <td>1.090601e-06</td>\n",
       "    </tr>\n",
       "    <tr>\n",
       "      <th>20</th>\n",
       "      <td>0.434585</td>\n",
       "      <td>0.434586</td>\n",
       "      <td>0.434585</td>\n",
       "      <td>-5.897806e-06</td>\n",
       "    </tr>\n",
       "    <tr>\n",
       "      <th>21</th>\n",
       "      <td>0.434585</td>\n",
       "      <td>0.434586</td>\n",
       "      <td>0.434586</td>\n",
       "      <td>-2.403602e-06</td>\n",
       "    </tr>\n",
       "    <tr>\n",
       "      <th>22</th>\n",
       "      <td>0.434586</td>\n",
       "      <td>0.434586</td>\n",
       "      <td>0.434586</td>\n",
       "      <td>-6.564999e-07</td>\n",
       "    </tr>\n",
       "    <tr>\n",
       "      <th>23</th>\n",
       "      <td>0.434586</td>\n",
       "      <td>0.434586</td>\n",
       "      <td>0.434586</td>\n",
       "      <td>2.170507e-07</td>\n",
       "    </tr>\n",
       "    <tr>\n",
       "      <th>24</th>\n",
       "      <td>0.434586</td>\n",
       "      <td>0.434586</td>\n",
       "      <td>0.434586</td>\n",
       "      <td>-2.197246e-07</td>\n",
       "    </tr>\n",
       "    <tr>\n",
       "      <th>25</th>\n",
       "      <td>0.434586</td>\n",
       "      <td>0.434586</td>\n",
       "      <td>0.434586</td>\n",
       "      <td>-1.336925e-09</td>\n",
       "    </tr>\n",
       "    <tr>\n",
       "      <th>26</th>\n",
       "      <td>0.434586</td>\n",
       "      <td>0.434586</td>\n",
       "      <td>0.434586</td>\n",
       "      <td>1.078569e-07</td>\n",
       "    </tr>\n",
       "    <tr>\n",
       "      <th>27</th>\n",
       "      <td>0.434586</td>\n",
       "      <td>0.434586</td>\n",
       "      <td>0.434586</td>\n",
       "      <td>5.325999e-08</td>\n",
       "    </tr>\n",
       "    <tr>\n",
       "      <th>28</th>\n",
       "      <td>0.434586</td>\n",
       "      <td>0.434586</td>\n",
       "      <td>0.434586</td>\n",
       "      <td>2.596153e-08</td>\n",
       "    </tr>\n",
       "    <tr>\n",
       "      <th>29</th>\n",
       "      <td>0.434586</td>\n",
       "      <td>0.434586</td>\n",
       "      <td>0.434586</td>\n",
       "      <td>1.231230e-08</td>\n",
       "    </tr>\n",
       "    <tr>\n",
       "      <th>30</th>\n",
       "      <td>0.434586</td>\n",
       "      <td>0.434586</td>\n",
       "      <td>0.434586</td>\n",
       "      <td>5.487689e-09</td>\n",
       "    </tr>\n",
       "    <tr>\n",
       "      <th>31</th>\n",
       "      <td>0.434586</td>\n",
       "      <td>0.434586</td>\n",
       "      <td>0.434586</td>\n",
       "      <td>2.075382e-09</td>\n",
       "    </tr>\n",
       "    <tr>\n",
       "      <th>32</th>\n",
       "      <td>0.434586</td>\n",
       "      <td>0.434586</td>\n",
       "      <td>0.434586</td>\n",
       "      <td>3.692286e-10</td>\n",
       "    </tr>\n",
       "    <tr>\n",
       "      <th>33</th>\n",
       "      <td>0.434586</td>\n",
       "      <td>0.434586</td>\n",
       "      <td>0.434586</td>\n",
       "      <td>-4.838481e-10</td>\n",
       "    </tr>\n",
       "    <tr>\n",
       "      <th>34</th>\n",
       "      <td>0.434586</td>\n",
       "      <td>0.434586</td>\n",
       "      <td>0.434586</td>\n",
       "      <td>-5.730971e-11</td>\n",
       "    </tr>\n",
       "    <tr>\n",
       "      <th>35</th>\n",
       "      <td>0.434586</td>\n",
       "      <td>0.434586</td>\n",
       "      <td>0.434586</td>\n",
       "      <td>1.559597e-10</td>\n",
       "    </tr>\n",
       "  </tbody>\n",
       "</table>\n",
       "</div>"
      ],
      "text/plain": [
       "           a         b         x          f(x)\n",
       "0  -0.500000  1.000000  0.250000 -1.588291e+00\n",
       "1   0.250000  1.000000  0.625000  1.126578e+00\n",
       "2   0.250000  0.625000  0.437500  2.839648e-02\n",
       "3   0.250000  0.437500  0.343750 -8.968958e-01\n",
       "4   0.343750  0.437500  0.390625 -4.392856e-01\n",
       "5   0.390625  0.437500  0.414062 -2.034669e-01\n",
       "6   0.414062  0.437500  0.425781 -8.664151e-02\n",
       "7   0.425781  0.437500  0.431641 -2.885010e-02\n",
       "8   0.431641  0.437500  0.434570 -1.526564e-04\n",
       "9   0.434570  0.437500  0.436035  1.414120e-02\n",
       "10  0.434570  0.436035  0.435303  6.999002e-03\n",
       "11  0.434570  0.435303  0.434937  3.424343e-03\n",
       "12  0.434570  0.434937  0.434753  1.636134e-03\n",
       "13  0.434570  0.434753  0.434662  7.418116e-04\n",
       "14  0.434570  0.434662  0.434616  2.945957e-04\n",
       "15  0.434570  0.434616  0.434593  7.097419e-05\n",
       "16  0.434570  0.434593  0.434582 -4.083998e-05\n",
       "17  0.434582  0.434593  0.434587  1.506739e-05\n",
       "18  0.434582  0.434587  0.434585 -1.288622e-05\n",
       "19  0.434585  0.434587  0.434586  1.090601e-06\n",
       "20  0.434585  0.434586  0.434585 -5.897806e-06\n",
       "21  0.434585  0.434586  0.434586 -2.403602e-06\n",
       "22  0.434586  0.434586  0.434586 -6.564999e-07\n",
       "23  0.434586  0.434586  0.434586  2.170507e-07\n",
       "24  0.434586  0.434586  0.434586 -2.197246e-07\n",
       "25  0.434586  0.434586  0.434586 -1.336925e-09\n",
       "26  0.434586  0.434586  0.434586  1.078569e-07\n",
       "27  0.434586  0.434586  0.434586  5.325999e-08\n",
       "28  0.434586  0.434586  0.434586  2.596153e-08\n",
       "29  0.434586  0.434586  0.434586  1.231230e-08\n",
       "30  0.434586  0.434586  0.434586  5.487689e-09\n",
       "31  0.434586  0.434586  0.434586  2.075382e-09\n",
       "32  0.434586  0.434586  0.434586  3.692286e-10\n",
       "33  0.434586  0.434586  0.434586 -4.838481e-10\n",
       "34  0.434586  0.434586  0.434586 -5.730971e-11\n",
       "35  0.434586  0.434586  0.434586  1.559597e-10"
      ]
     },
     "execution_count": 10,
     "metadata": {},
     "output_type": "execute_result"
    }
   ],
   "source": [
    "x, i, tb = bissecao(f, -0.5, 1, r_tb=True)\n",
    "\n",
    "print('\\nRaiz {} encontrada em {} iterações.\\nComo mostrado na tabela:\\n'.format(x, i))\n",
    "\n",
    "pd.DataFrame(tb, columns=[\"a\", \"b\", \"x\", \"f(x)\"])"
   ]
  },
  {
   "cell_type": "markdown",
   "id": "6c595e05-2391-44a8-b7f9-a7189269d2be",
   "metadata": {},
   "source": [
    "---"
   ]
  },
  {
   "cell_type": "markdown",
   "id": "937a268b-20c6-4228-857b-9ea18d4c913f",
   "metadata": {},
   "source": [
    "<div class=\"alert alert-block alert-info\" style=\"color:#20484d;\">\n",
    "    <b>Exercicio 2</b> - Determine as raízes reais de $f(x) = −0.5x^2 + 2.5x + 4.5$\n",
    "</div>"
   ]
  },
  {
   "cell_type": "code",
   "execution_count": 11,
   "id": "f9c0a476-2f7d-4afe-b8fc-66820366eb03",
   "metadata": {},
   "outputs": [
    {
     "data": {
      "image/png": "[encoded data removed]",
      "text/latex": [
       "$\\displaystyle \\left( x \\mapsto - 0.5 x^{2} + 2.5 x + 4.5 \\right)$"
      ],
      "text/plain": [
       "           2              \n",
       "x ↦ - 0.5⋅x  + 2.5⋅x + 4.5"
      ]
     },
     "execution_count": 11,
     "metadata": {},
     "output_type": "execute_result"
    }
   ],
   "source": [
    "# Exibindo\n",
    "f = lambda x: ( ((-0.5)*(x**2)) + (2.5*x) + (4.5) )\n",
    "sp.var('x')\n",
    "f_sp = sp.Lambda(x, ((-0.5)*(x**2)) + (2.5*x) + (4.5))\n",
    "f_sp"
   ]
  },
  {
   "cell_type": "code",
   "execution_count": 12,
   "id": "de28aa23-0a6c-4a0c-84d5-26b2b1cf59be",
   "metadata": {},
   "outputs": [
    {
     "data": {
      "text/plain": [
       "array([-0.5,  2.5,  4.5])"
      ]
     },
     "execution_count": 12,
     "metadata": {},
     "output_type": "execute_result"
    }
   ],
   "source": [
    "a = (-0.5)\n",
    "b = 2.5\n",
    "c = 4.5\n",
    "\n",
    "coefs = np.array([a, b, c])\n",
    "coefs"
   ]
  },
  {
   "cell_type": "markdown",
   "id": "fe332880-5548-4adf-a9a1-55aa7ffef81a",
   "metadata": {},
   "source": [
    "<ul class=\"alert alert-block alert-info\" style=\"color:#20484d;\">\n",
    "    <b>(a)</b> Graficamente\n",
    "</ul>"
   ]
  },
  {
   "cell_type": "code",
   "execution_count": 13,
   "id": "c5823285-b105-483b-b2fe-c58aaf2bed02",
   "metadata": {},
   "outputs": [
    {
     "data": {
      "image/png": "[encoded data removed]",
      "text/plain": [
       "<Figure size 720x576 with 1 Axes>"
      ]
     },
     "metadata": {
      "needs_background": "light"
     },
     "output_type": "display_data"
    }
   ],
   "source": [
    "x = np.linspace(-6, 10, 500)\n",
    "\n",
    "y = f(x)\n",
    "\n",
    "raiz1 = optimize.root(f, -2)\n",
    "raiz2 = optimize.root(f, 7)\n",
    "raizes = np.array([raiz1.x, raiz2.x])\n",
    "\n",
    "fig = plt.figure(figsize=(10, 8))\n",
    "ax = fig.add_subplot(111)\n",
    "\n",
    "plt.vlines(x=raiz1.x, ymin=f(-6), ymax=0, colors='gray', ls=':', lw=2)\n",
    "plt.vlines(x=raiz2.x, ymin=f(-6), ymax=0, colors='gray', ls=':', lw=2)\n",
    "\n",
    "ax.axhline(0, color='b')\n",
    "\n",
    "ax.plot(x, f(x), 'r', label=\"$f(x)$\")\n",
    "ax.plot(raizes, f(raizes), 'kv', label=\"$Raizes$\")\n",
    "\n",
    "ax.legend(loc='best')\n",
    "ax.set_xlabel('$x$')\n",
    "ax.set_ylabel('$f(x)$')\n",
    "\n",
    "plt.show()"
   ]
  },
  {
   "cell_type": "markdown",
   "id": "bc40b373-1bd9-4b7a-8c0f-09ae373aa426",
   "metadata": {},
   "source": [
    "<ul class=\"alert alert-block alert-info\" style=\"color:#20484d;\">\n",
    "    <b>(b)</b> Usando a fórmula quadrática\n",
    "</ul>"
   ]
  },
  {
   "cell_type": "markdown",
   "id": "36271bba-33af-46c6-8c98-0320bbe9944f",
   "metadata": {},
   "source": [
    "**Forma 1: \"na raça\" com Bhaskara**"
   ]
  },
  {
   "cell_type": "code",
   "execution_count": 14,
   "id": "81d03a8b-47b2-45ed-a804-c47fd8f0947b",
   "metadata": {},
   "outputs": [],
   "source": [
    "def formula_quadratica(coefs, verbose=False):\n",
    "    \n",
    "    a = coefs[0]\n",
    "    b = coefs[1]\n",
    "    c = coefs[2]\n",
    "    \n",
    "    if a == 0:\n",
    "        return\n",
    "  \n",
    "    bhask = (b**2) - 4*a*c \n",
    "    delta = np.sqrt(np.abs(bhask)) \n",
    "    \n",
    "    if bhask > 0: \n",
    "        if verbose: print(\" raizes reais e diferentes \")\n",
    "        x1 = (-b + delta) / (2 * a)\n",
    "        x2 = (-b - delta) / (2 * a)\n",
    "        return x1, x2\n",
    "      \n",
    "    elif bhask == 0: \n",
    "        if verbose: print(\" raizes reais e iguais \") \n",
    "        x = ( -b / (2 * a) )\n",
    "        return x\n",
    "      \n",
    "    else:\n",
    "        if verbose: print(\" raizes complexas \"); print(-b / (2 * a), \" + i\", delta); print(-b / (2 * a), \" - i\", delta);\n",
    "        x = -b / (2 * a)\n",
    "        return x\n",
    "    \n",
    "    return"
   ]
  },
  {
   "cell_type": "code",
   "execution_count": 15,
   "id": "dc3a6e21-0220-4ed0-96ad-0d4dbdff0172",
   "metadata": {},
   "outputs": [
    {
     "name": "stdout",
     "output_type": "stream",
     "text": [
      " raizes reais e diferentes \n"
     ]
    },
    {
     "data": {
      "image/png": "[encoded data removed]",
      "text/latex": [
       "$\\displaystyle \\left( -1.40512483795333, \\  6.40512483795333\\right)$"
      ],
      "text/plain": [
       "(-1.405124837953327, 6.405124837953327)"
      ]
     },
     "execution_count": 15,
     "metadata": {},
     "output_type": "execute_result"
    }
   ],
   "source": [
    "formula_quadratica(coefs, True)"
   ]
  },
  {
   "cell_type": "markdown",
   "id": "4de4d335-e941-49db-859e-2dd8abb6f60c",
   "metadata": {},
   "source": [
    " "
   ]
  },
  {
   "cell_type": "markdown",
   "id": "963eba48-4521-4453-88bb-94147a70ae0f",
   "metadata": {},
   "source": [
    "**Forma 2: Usando Numpy**"
   ]
  },
  {
   "cell_type": "code",
   "execution_count": 16,
   "id": "b31551ac-b258-46c9-9be3-69f11951d4c6",
   "metadata": {},
   "outputs": [
    {
     "data": {
      "image/png": "[encoded data removed]",
      "text/latex": [
       "$\\displaystyle \\left( -1.40512483795333, \\  6.40512483795333\\right)$"
      ],
      "text/plain": [
       "(-1.4051248379533272, 6.405124837953327)"
      ]
     },
     "execution_count": 16,
     "metadata": {},
     "output_type": "execute_result"
    }
   ],
   "source": [
    "coefs = np.array([a, b, c])\n",
    "x1, x2 = np.roots(coefs)\n",
    "x2, x1"
   ]
  },
  {
   "cell_type": "markdown",
   "id": "743db3fd-ede0-4fdf-b6bc-55717403d279",
   "metadata": {},
   "source": [
    " "
   ]
  },
  {
   "cell_type": "markdown",
   "id": "6760b2ee-c1ec-44f8-89bc-749275f765ed",
   "metadata": {},
   "source": [
    "**Forma 3: Usando SymPy (apenas simbólico)**"
   ]
  },
  {
   "cell_type": "code",
   "execution_count": 17,
   "id": "702356fe-aa04-45f1-a91b-dad7c4359f46",
   "metadata": {},
   "outputs": [
    {
     "data": {
      "image/png": "[encoded data removed]",
      "text/latex": [
       "$\\displaystyle \\left[ -1.40512483795333, \\  6.40512483795333\\right]$"
      ],
      "text/plain": [
       "[-1.40512483795333, 6.40512483795333]"
      ]
     },
     "execution_count": 17,
     "metadata": {},
     "output_type": "execute_result"
    }
   ],
   "source": [
    "sp.var('x')\n",
    "sp.solve(((-0.5)*(x**2)) + (2.5*x) + (4.5), x)"
   ]
  },
  {
   "cell_type": "markdown",
   "id": "fb3f9779-3ecb-4045-a9c7-0a255382d1f8",
   "metadata": {},
   "source": [
    "<ul class=\"alert alert-block alert-info\" style=\"color:#20484d;\">\n",
    "    <b>(c)</b> Usando três iterações do método da bisseção para determinar a maior raiz. Use as aproximações iniciais $x_l = 5$ e $x_u = 10$. Calcule o erro relativo obtido entre cada iteração, e o erro entre os valores verdadeiros encontrados no item b e o valor de cada iteração.\n",
    "</ul>"
   ]
  },
  {
   "cell_type": "code",
   "execution_count": 18,
   "id": "db724127-507f-4951-812a-48c669f81e75",
   "metadata": {},
   "outputs": [
    {
     "name": "stdout",
     "output_type": "stream",
     "text": [
      "Erro 1: 0.33333\n",
      "Erro 2: 0.20000\n",
      "Erro 3: 0.09091\n",
      "---------------------------------------\n",
      "      a     b      x      f(x)\n",
      "0  5.00  10.0  7.500 -4.875000\n",
      "1  5.00   7.5  6.250  0.593750\n",
      "2  6.25   7.5  6.875 -1.945312\n",
      "---------------------------------------\n",
      "Raiz encontrada: 6.875 | Em 3 iterações\n",
      "---------------------------------------\n"
     ]
    },
    {
     "data": {
      "image/png": "[encoded data removed]",
      "text/latex": [
       "$\\displaystyle \\left( 6.875, \\  3\\right)$"
      ],
      "text/plain": [
       "(6.875, 3)"
      ]
     },
     "execution_count": 18,
     "metadata": {},
     "output_type": "execute_result"
    }
   ],
   "source": [
    "bissecao(f, 5, 10, 3, verbose=True, p_err=True)"
   ]
  },
  {
   "cell_type": "markdown",
   "id": "6f8f2ac9-b387-4f56-8afe-6c469e40d963",
   "metadata": {},
   "source": [
    "---"
   ]
  },
  {
   "cell_type": "markdown",
   "id": "ac741da7-595f-49ae-b0b3-dd160e8c0087",
   "metadata": {},
   "source": [
    "<div class=\"alert alert-block alert-info\" style=\"color:#20484d;\">\n",
    "    <b>Exercicio 3:</b> Localize a primeira raiz não-trivial de $sin \\ x = x^3$, onde x está em radianos. Use uma técnica gráfica e a bisseção com o intervalo inicial de 0,5 a 1. Faça os cálculos até que o erro seja inferior a 2%.\n",
    "</div>"
   ]
  },
  {
   "cell_type": "code",
   "execution_count": 19,
   "id": "2035de5a-adc9-4e83-86cd-e29820f6c1aa",
   "metadata": {},
   "outputs": [],
   "source": [
    "f = lambda x: np.sin(x) - x**3"
   ]
  },
  {
   "cell_type": "code",
   "execution_count": 20,
   "id": "b1a435d4-fb01-477f-93f3-559744e85ed6",
   "metadata": {},
   "outputs": [
    {
     "data": {
      "image/png": "[encoded data removed]",
      "text/plain": [
       "<Figure size 720x576 with 1 Axes>"
      ]
     },
     "metadata": {
      "needs_background": "light"
     },
     "output_type": "display_data"
    }
   ],
   "source": [
    "# gráfico\n",
    "x = np.linspace(-np.pi, np.pi, 500)\n",
    "y = f(x)\n",
    "\n",
    "raiz1 = optimize.root(f, -2)\n",
    "raiz2 = optimize.root(f, 7)\n",
    "raizes = np.array([raiz1.x, raiz2.x])\n",
    "\n",
    "fig = plt.figure(figsize=(10, 8))\n",
    "ax = fig.add_subplot(111)\n",
    "\n",
    "ax.axhline(0, color='b')\n",
    "\n",
    "plt.vlines(x=raiz1.x, ymin=f(3), ymax=0, colors='gray', ls=':', lw=2)\n",
    "plt.vlines(x=raiz2.x, ymin=f(3), ymax=0, colors='gray', ls=':', lw=2)\n",
    "\n",
    "ax.plot(x, f(x), 'r', label=\"$f(x)$\")\n",
    "ax.plot(raizes, f(raizes), 'kv', label=\"$Raizes$\")\n",
    "\n",
    "ax.legend(loc='best')\n",
    "ax.set_xlabel('$x$')\n",
    "ax.set_ylabel('$f(x)$')\n",
    "\n",
    "plt.show()"
   ]
  },
  {
   "cell_type": "code",
   "execution_count": 21,
   "id": "4d4736ad-ab5a-4572-8cfd-16c849b241c1",
   "metadata": {},
   "outputs": [
    {
     "name": "stdout",
     "output_type": "stream",
     "text": [
      "------------------------------------------\n",
      "         a       b         x      f(x)\n",
      "0  0.50000  1.0000  0.750000  0.259764\n",
      "1  0.75000  1.0000  0.875000  0.097622\n",
      "2  0.87500  1.0000  0.937500 -0.017894\n",
      "3  0.87500  0.9375  0.906250  0.042903\n",
      "4  0.90625  0.9375  0.921875  0.013277\n",
      "------------------------------------------\n",
      "Raiz encontrada: 0.921875 | Em 5 iterações\n",
      "------------------------------------------\n"
     ]
    },
    {
     "data": {
      "image/png": "[encoded data removed]",
      "text/latex": [
       "$\\displaystyle \\left( 0.921875, \\  5\\right)$"
      ],
      "text/plain": [
       "(0.921875, 5)"
      ]
     },
     "execution_count": 21,
     "metadata": {},
     "output_type": "execute_result"
    }
   ],
   "source": [
    "# bisseção\n",
    "bissecao(f, 0.5, 1, tol=0.02, verbose=True)"
   ]
  },
  {
   "cell_type": "markdown",
   "id": "0f9ee9c7-44c1-4581-86b4-eeb5375c7862",
   "metadata": {},
   "source": [
    "---"
   ]
  },
  {
   "cell_type": "markdown",
   "id": "ff11f266-582e-42a0-8ca5-05bf855a71fc",
   "metadata": {},
   "source": [
    "<div class=\"alert alert-block alert-info\" style=\"color:#20484d;\">\n",
    "    <b>Exercicio 4:</b> Dada $f(x) = −2x^6 − 1.5x^4 + 10x + 20$, encontre o máximo dessa função ($f'(x) = 0$) usando o método da bisseção, considerando o intervalo $[0, 1]$ e um erro limite de 5%.\n",
    "</div>"
   ]
  },
  {
   "cell_type": "code",
   "execution_count": 22,
   "id": "39e02041-4692-4862-ba65-f9cac8969c7f",
   "metadata": {},
   "outputs": [
    {
     "data": {
      "image/png": "[encoded data removed]",
      "text/latex": [
       "$\\displaystyle \\left( x \\mapsto - 2 x^{6} - 1.5 x^{4} + 10 x + 20 \\right)$"
      ],
      "text/plain": [
       "         6        4            \n",
       "x ↦ - 2⋅x  - 1.5⋅x  + 10⋅x + 20"
      ]
     },
     "execution_count": 22,
     "metadata": {},
     "output_type": "execute_result"
    }
   ],
   "source": [
    "f = lambda x: ( (-2*x**6) - (1.5*x**4) + (10*x) + 20 )\n",
    "sp.var('x')\n",
    "f_sp = sp.Lambda(x, (-2*x**6) - (1.5*x**4) + (10*x) + 20)\n",
    "f_sp"
   ]
  },
  {
   "cell_type": "code",
   "execution_count": 23,
   "id": "bbf10a03-3d98-43d5-8900-82e18f06d80d",
   "metadata": {},
   "outputs": [
    {
     "data": {
      "image/png": "[encoded data removed]",
      "text/latex": [
       "$\\displaystyle - 12 x^{5} - 6.0 x^{3} + 10$"
      ],
      "text/plain": [
       "      5        3     \n",
       "- 12⋅x  - 6.0⋅x  + 10"
      ]
     },
     "execution_count": 23,
     "metadata": {},
     "output_type": "execute_result"
    }
   ],
   "source": [
    "# derivada\n",
    "sp.diff(f_sp(x), x)"
   ]
  },
  {
   "cell_type": "code",
   "execution_count": 24,
   "id": "5783accb-c0ad-4fe3-b10d-22cf9536b132",
   "metadata": {},
   "outputs": [],
   "source": [
    "f_ = lambda x: ( (-12*x**5) - (6*x**3) + 10 )"
   ]
  },
  {
   "cell_type": "code",
   "execution_count": 25,
   "id": "1a036b56-a7b8-4bb2-af10-cba8e250e9d4",
   "metadata": {},
   "outputs": [
    {
     "data": {
      "text/plain": [
       "'O máximo é 0.84375 encontrado em 5 iterações'"
      ]
     },
     "execution_count": 25,
     "metadata": {},
     "output_type": "execute_result"
    }
   ],
   "source": [
    "x, i = bissecao(f_, 0, 1, tol=0.05)\n",
    "\n",
    "f'O máximo é {x} encontrado em {i} iterações'"
   ]
  },
  {
   "cell_type": "markdown",
   "id": "b518154d-a487-4461-ae1b-5fdc56356156",
   "metadata": {},
   "source": [
    "---"
   ]
  },
  {
   "cell_type": "markdown",
   "id": "37ce94b1-0e43-402e-9eba-d0897aef3ecd",
   "metadata": {},
   "source": [
    "<div class=\"alert alert-block alert-info\" style=\"color:#20484d;\">\n",
    "    <b>Exercicio 5</b>\n",
    "</div>"
   ]
  },
  {
   "cell_type": "code",
   "execution_count": 26,
   "id": "eb4ff9ae-5a87-4f33-b315-76cbc79c5def",
   "metadata": {},
   "outputs": [],
   "source": [
    "def regula_falsi(f, xl, xu, tol=1e-10):\n",
    "    \n",
    "    if (f(xl) * f(xu) >= 0):\n",
    "        return -1\n",
    "    \n",
    "    i = 0\n",
    "    x = xl\n",
    "    erro, x_ant = 1, x\n",
    "    \n",
    "    while erro > tol:\n",
    "        \n",
    "        x = xu - ( ( f(xu)*(xl-xu) ) / (f(xl)-f(xu)) )\n",
    "            \n",
    "        if f(x) * f(xl) < 0:\n",
    "            xu = x\n",
    "        \n",
    "        else:\n",
    "            xl = x\n",
    "            \n",
    "        erro = np.abs((x - x_ant) / np.abs(x))\n",
    "        x_ant = x\n",
    "        i += 1\n",
    "    \n",
    "    return ( x, i )"
   ]
  },
  {
   "cell_type": "code",
   "execution_count": 27,
   "id": "f759b588-f1f1-4091-a64c-15fa98d10496",
   "metadata": {},
   "outputs": [],
   "source": [
    "f = lambda x: ( x**5+2*x**3-5*x-2 )"
   ]
  },
  {
   "cell_type": "code",
   "execution_count": 28,
   "id": "52c86108-3760-4237-94ca-4f2786cbcca6",
   "metadata": {},
   "outputs": [
    {
     "name": "stdout",
     "output_type": "stream",
     "text": [
      "Método da Bisseção: \t (1.319641167181544, 35)\n",
      "Método Regula Falsi: \t (1.3196411670137347, 51)\n"
     ]
    }
   ],
   "source": [
    "# Comparativo de métodos\n",
    "print(f'Método da Bisseção: \\t {bissecao(f, -2, 2)}')\n",
    "print(f'Método Regula Falsi: \\t {regula_falsi(f, -2, 2)}')"
   ]
  },
  {
   "cell_type": "markdown",
   "id": "2d48215d-8334-43a4-bee0-8071c32c9d72",
   "metadata": {},
   "source": [
    "Como podemos notar, o método **Regula Falsi** conseguiu ainda mais casas decimais, utilizando mais iterações e chegando a um valor ainda mais preciso que o método da **Bisseção**."
   ]
  }
 ],
 "metadata": {
  "kernelspec": {
   "display_name": "Python 3",
   "language": "python",
   "name": "python3"
  },
  "language_info": {
   "codemirror_mode": {
    "name": "ipython",
    "version": 3
   },
   "file_extension": ".py",
   "mimetype": "text/x-python",
   "name": "python",
   "nbconvert_exporter": "python",
   "pygments_lexer": "ipython3",
   "version": "3.8.8"
  }
 },
 "nbformat": 4,
 "nbformat_minor": 5
}
