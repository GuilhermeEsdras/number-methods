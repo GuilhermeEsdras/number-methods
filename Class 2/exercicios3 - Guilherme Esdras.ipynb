{
 "cells": [
  {
   "cell_type": "markdown",
   "id": "1c9b5905-1f30-4e9e-9263-c06333c90fe7",
   "metadata": {},
   "source": [
    "<h1 style=\"border: 1.5px solid #ccc; \n",
    "           padding: 8px 12px; \n",
    "           color:#56BFCB;\"\n",
    "    >\n",
    "    <center> <br/>\n",
    "        Lista de Exercícios da Semana 3 <br/>\n",
    "        <span style=\"font-size:18px;\"> Guilherme Esdras </span>\n",
    "    </center>\n",
    "</h1>"
   ]
  },
  {
   "cell_type": "code",
   "execution_count": 9,
   "id": "6c267b4c-acf3-4e0e-b1c3-c946fbe38285",
   "metadata": {},
   "outputs": [],
   "source": [
    "import numpy as np\n",
    "import math"
   ]
  },
  {
   "cell_type": "markdown",
   "id": "928769da-854e-4d1b-a676-ba557c1519c8",
   "metadata": {},
   "source": [
    "<div class=\"alert alert-block alert-info\" style=\"color:#20484d;\">\n",
    "    <b>Exercicio 1.1</b>\n",
    "</div>"
   ]
  },
  {
   "cell_type": "code",
   "execution_count": 63,
   "id": "493f561b-59bb-41df-80b6-1760b2dd82ce",
   "metadata": {},
   "outputs": [
    {
     "name": "stdout",
     "output_type": "stream",
     "text": [
      "x = 6.00000000 \t | x_ = 18.50000000 \t | erro relativo = 2.08333333\n",
      "x = 6.00000000 \t | x_ = 10.22297297 \t | erro relativo = 0.70382883\n",
      "x = 6.00000000 \t | x_ = 6.87222674 \t | erro relativo = 0.14537112\n",
      "x = 6.00000000 \t | x_ = 6.05535174 \t | erro relativo = 0.00922529\n",
      "x = 6.00000000 \t | x_ = 6.00025298 \t | erro relativo = 0.00004216\n",
      "x = 6.00000000 \t | x_ = 6.00000001 \t | erro relativo = 0.00000000\n",
      "x = 6.00000000 \t | x_ = 6.00000000 \t | erro relativo = 0.00000000\n",
      "x = 6.00000000 \t | x_ = 6.00000000 \t | erro relativo = 0.00000000\n",
      "x = 6.00000000 \t | x_ = 6.00000000 \t | erro relativo = 0.00000000\n",
      "x = 6.00000000 \t | x_ = 6.00000000 \t | erro relativo = 0.00000000\n"
     ]
    }
   ],
   "source": [
    "def ex1(num, it):\n",
    "    \n",
    "    # Divisao e media:\n",
    "    lista = []\n",
    "    for y in range(it):\n",
    "        x = 1 if y == 0 else lista[y - 1]\n",
    "        lista.append((x + num / x) / 2)\n",
    "    \n",
    "    # Erro relativo:\n",
    "    for i in lista:\n",
    "        err_rel = np.abs(1 - i / num**(1/2))\n",
    "        print(f'x = {num**(1/2):8.8f} \\t | x_ = {i:8.8f} \\t | erro relativo = {err_rel:8.8f}')\n",
    "    \n",
    "ex1(36, 10)"
   ]
  },
  {
   "cell_type": "markdown",
   "id": "efaa0515-b38c-4b62-bfd5-d2ac8b669039",
   "metadata": {},
   "source": [
    "<div class=\"alert alert-block alert-info\" style=\"color:#20484d;\">\n",
    "    <b>Exercício 1.2</b>\n",
    "</div>"
   ]
  },
  {
   "cell_type": "code",
   "execution_count": 3,
   "id": "fd07fbbb-0531-433d-9aa6-57986b7b412f",
   "metadata": {},
   "outputs": [
    {
     "name": "stdout",
     "output_type": "stream",
     "text": [
      "2.220446049250313e-16\n",
      "2.220446049250313e-16\n"
     ]
    }
   ],
   "source": [
    "def ex2():\n",
    "    e = 1\n",
    "    while True:\n",
    "        if (1 + e <= 1):\n",
    "            e = 2 * e\n",
    "            break\n",
    "        else:\n",
    "            e = e/2\n",
    "    return e\n",
    "\n",
    "print(ex2())\n",
    "print(np.finfo(float).eps)"
   ]
  },
  {
   "cell_type": "markdown",
   "id": "25690139-19c5-43dd-b44a-aba6745214ff",
   "metadata": {},
   "source": [
    "<div class=\"alert alert-block alert-info\" style=\"color:#20484d;\">\n",
    "    <b>Exercício 1.3</b>\n",
    "</div>"
   ]
  },
  {
   "cell_type": "code",
   "execution_count": 26,
   "id": "10ed3aaa-99c4-470d-ab85-3a30d09dbecb",
   "metadata": {},
   "outputs": [
    {
     "name": "stdout",
     "output_type": "stream",
     "text": [
      "0.33333333333333326\n",
      "0.33333333333333304\n",
      "0.33333333333333215\n",
      "0.3333333333333286\n",
      "0.3333333333333144\n",
      "0.33333333333325754\n",
      "0.33333333333303017\n",
      "0.3333333333321207\n",
      "0.3333333333284827\n",
      "0.3333333333139308\n",
      "0.3333333332557231\n",
      "0.3333333330228925\n",
      "0.3333333320915699\n",
      "0.3333333283662796\n",
      "0.3333333134651184\n",
      "0.33333325386047363\n",
      "0.33333301544189453\n",
      "0.3333320617675781\n",
      "0.3333282470703125\n",
      "0.33331298828125\n",
      "0.333251953125\n",
      "0.3330078125\n",
      "0.33203125\n",
      "0.328125\n",
      "0.3125\n",
      "0.25\n",
      "0.0\n",
      "-1.0\n",
      "-5.0\n",
      "-21.0\n",
      "-85.0\n",
      "-341.0\n",
      "-1365.0\n",
      "-5461.0\n",
      "-21845.0\n",
      "-87381.0\n",
      "-349525.0\n",
      "-1398101.0\n",
      "-5592405.0\n",
      "-22369621.0\n",
      "-89478485.0\n",
      "-357913941.0\n",
      "-1431655765.0\n",
      "-5726623061.0\n",
      "-22906492245.0\n",
      "-91625968981.0\n",
      "-366503875925.0\n",
      "-1466015503701.0\n",
      "-5864062014805.0\n",
      "-23456248059221.0\n",
      "-93824992236885.0\n",
      "-375299968947541.0\n",
      "-1501199875790165.0\n",
      "-6004799503160661.0\n",
      "-2.4019198012642644e+16\n",
      "-9.607679205057058e+16\n",
      "-3.843071682022823e+17\n",
      "-1.5372286728091292e+18\n",
      "-6.148914691236517e+18\n",
      "-2.4595658764946067e+19\n",
      "-9.838263505978427e+19\n",
      "-3.935305402391371e+20\n",
      "-1.5741221609565483e+21\n",
      "-6.296488643826193e+21\n",
      "-2.5185954575304773e+22\n",
      "-1.007438183012191e+23\n",
      "-4.029752732048764e+23\n",
      "-1.6119010928195055e+24\n",
      "-6.447604371278022e+24\n",
      "-2.5790417485112088e+25\n",
      "-1.0316166994044835e+26\n",
      "-4.126466797617934e+26\n",
      "-1.6505867190471736e+27\n",
      "-6.602346876188694e+27\n",
      "-2.6409387504754778e+28\n",
      "-1.0563755001901911e+29\n",
      "-4.2255020007607644e+29\n",
      "-1.6902008003043058e+30\n",
      "-6.760803201217223e+30\n",
      "-2.7043212804868892e+31\n",
      "-1.0817285121947557e+32\n",
      "-4.326914048779023e+32\n",
      "-1.730765619511609e+33\n",
      "-6.923062478046436e+33\n",
      "-2.7692249912185746e+34\n",
      "-1.1076899964874298e+35\n",
      "-4.430759985949719e+35\n",
      "-1.7723039943798877e+36\n",
      "-7.089215977519551e+36\n",
      "-2.8356863910078204e+37\n",
      "-1.1342745564031281e+38\n",
      "-4.5370982256125126e+38\n",
      "-1.814839290245005e+39\n",
      "-7.25935716098002e+39\n",
      "-2.903742864392008e+40\n",
      "-1.1614971457568032e+41\n",
      "-4.645988583027213e+41\n",
      "-1.8583954332108852e+42\n",
      "-7.433581732843541e+42\n",
      "-2.9734326931374163e+43\n"
     ]
    }
   ],
   "source": [
    "def ex3():\n",
    "    x = (1/3)\n",
    "    for i in range(100):\n",
    "        x = 4 * x - 1\n",
    "        print(x)\n",
    "\n",
    "ex3()"
   ]
  },
  {
   "cell_type": "markdown",
   "id": "2a4c215c-bfdb-4274-b5f9-2a9e08a06d24",
   "metadata": {},
   "source": [
    "<b> A convergência não ocorre. De fato, o que obtemos é uma divergência para o infinito. </b>"
   ]
  },
  {
   "cell_type": "markdown",
   "id": "65c66eb2-2cc5-45c9-857c-e7138c4b8a7b",
   "metadata": {},
   "source": [
    "<div class=\"alert alert-block alert-info\" style=\"color:#20484d;\">\n",
    "    <b>Exercício 1.4</b>\n",
    "</div>"
   ]
  },
  {
   "cell_type": "code",
   "execution_count": 39,
   "id": "b1f37f92-ca19-411f-8165-4babb74f3976",
   "metadata": {},
   "outputs": [
    {
     "name": "stdout",
     "output_type": "stream",
     "text": [
      "exp1(0.1) = 0.9999546021312976\n",
      "exp1(0.01) = 1.0\n",
      "exp1(0.001) = math range error\n",
      "---\n",
      "exp2(0.1) = 0.9999546021312976\n",
      "exp2(0.01) = 1.0\n",
      "exp2(0.0001) = 1.0\n",
      "exp2(1e-05) = 1.0\n",
      "exp2(1e-06) = 1.0\n",
      "exp2(1e-07) = 1.0\n"
     ]
    }
   ],
   "source": [
    "# Exercicio 1.4\n",
    "def ex4_1(mi):\n",
    "    try:\n",
    "        print(f'exp1({mi}) = {math.exp(1/mi) / (1 + math.exp(1/mi))}')\n",
    "    except OverflowError as err: \n",
    "        print(f'exp1({mi}) = {str(err)}')\n",
    "\n",
    "ex4_1(0.1)\n",
    "ex4_1(0.01)\n",
    "ex4_1(0.001)\n",
    "\n",
    "print('---')\n",
    "\n",
    "def ex4_2(mi):\n",
    "    try:\n",
    "        print(f'exp2({mi}) = {1 / (math.exp(-1/mi) + 1)}')\n",
    "    except OverflowError as err: \n",
    "        print(f'exp2({mi}) = {err}')\n",
    "\n",
    "ex4_2(0.1)\n",
    "ex4_2(0.01)\n",
    "ex4_2(0.0001)\n",
    "ex4_2(0.00001)\n",
    "ex4_2(0.000001)\n",
    "ex4_2(0.0000001)"
   ]
  },
  {
   "cell_type": "markdown",
   "id": "efb59195-3b0f-47c9-ab52-f0b74e43ff15",
   "metadata": {},
   "source": [
    " <b>Como pode se observar, a segunda expressão é a mais adequada quando operada com números pequenos. Pois o mesmo não cai em um Overflow.</b>"
   ]
  },
  {
   "cell_type": "markdown",
   "id": "9630659f-a98e-4e93-a135-83ba7b4c0b66",
   "metadata": {},
   "source": [
    "<div class=\"alert alert-block alert-info\" style=\"color:#20484d;\">\n",
    "    <b>Exercício 1.5</b>\n",
    "</div>"
   ]
  },
  {
   "cell_type": "code",
   "execution_count": 58,
   "id": "85d544ab-6c43-4c87-b266-def450e0548e",
   "metadata": {},
   "outputs": [
    {
     "name": "stdout",
     "output_type": "stream",
     "text": [
      "ex5(10) = 1.0\n",
      "ex5(1.0) = 1.0\n",
      "ex5(0.0001) = 0.9999999999998899\n",
      "ex5(1e-08) = 0.999999993922529\n",
      "ex5(1e-12) = 1.000088900582341\n",
      "ex5(1e-15) = 1.1102230246251565\n",
      "ex5(1e-17) = 0.0\n"
     ]
    }
   ],
   "source": [
    "def ex5(x):\n",
    "    print(f'ex5({x}) = {( (1+x) - 1 ) / x}')\n",
    "\n",
    "ex5(10)\n",
    "ex5(10e-01)\n",
    "ex5(10e-05)\n",
    "ex5(10e-09)\n",
    "ex5(10e-13)\n",
    "ex5(10e-16)\n",
    "ex5(10e-18)"
   ]
  },
  {
   "cell_type": "markdown",
   "id": "fe0597f5-173c-44d7-828b-6c6c4e41e497",
   "metadata": {},
   "source": [
    "<b> Acabou perdendo precisão devido a um underflow. </b>"
   ]
  },
  {
   "cell_type": "markdown",
   "id": "bfa13f52-c08f-4b1d-961f-37649f7fc454",
   "metadata": {},
   "source": []
  }
 ],
 "metadata": {
  "kernelspec": {
   "display_name": "Python 3",
   "language": "python",
   "name": "python3"
  },
  "language_info": {
   "codemirror_mode": {
    "name": "ipython",
    "version": 3
   },
   "file_extension": ".py",
   "mimetype": "text/x-python",
   "name": "python",
   "nbconvert_exporter": "python",
   "pygments_lexer": "ipython3",
   "version": "3.8.8"
  }
 },
 "nbformat": 4,
 "nbformat_minor": 5
}
