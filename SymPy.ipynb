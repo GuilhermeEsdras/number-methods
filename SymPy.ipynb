{
 "cells": [
  {
   "cell_type": "code",
   "execution_count": 1,
   "id": "1001cd2f-577c-4493-ae91-00e25a706b00",
   "metadata": {},
   "outputs": [],
   "source": [
    "from IPython.display import display, Math, Latex\n",
    "import matplotlib.pyplot as plt\n",
    "%matplotlib inline\n",
    "#display(Math(r'F(K) = \\int_{-\\infty}^{\\infty} f(x) e^{2\\pi i k} dx'))  #exemplo"
   ]
  },
  {
   "cell_type": "markdown",
   "id": "cd076924-ab18-4a92-a87d-f3937ce10190",
   "metadata": {},
   "source": [
    "<div style=\"font-family: 'Times New Roman', Times, serif; font-size: 16px;\">\n",
    "    \n",
    "    <h1>SymPy</h1>\n",
    "    \n",
    "    <p>Usando a biblioteca <b style=\"color: blue;\">SymPy</b> de matemática simbólica para computar:</p>\n",
    "    \n",
    "    <ul style=\"font-weight: bold\">\n",
    "        <li>derivadas</li>\n",
    "        <li>retas tangentes</li>\n",
    "        <li>derivadas de ordem mais altas</li>\n",
    "        <li>máximos e mínimos</li>\n",
    "    </ul>\n",
    "    \n",
    "</div>"
   ]
  },
  {
   "cell_type": "code",
   "execution_count": 2,
   "id": "87e2afb3-3810-4ece-82a6-7718df4d2672",
   "metadata": {},
   "outputs": [],
   "source": [
    "import sympy as sp"
   ]
  },
  {
   "cell_type": "code",
   "execution_count": 3,
   "id": "1d99d86c-dd91-4dad-9a76-bad83162ee82",
   "metadata": {},
   "outputs": [
    {
     "data": {
      "image/png": "[encoded data removed]",
      "text/latex": [
       "$\\displaystyle \\left( x, \\  y\\right)$"
      ],
      "text/plain": [
       "(x, y)"
      ]
     },
     "execution_count": 3,
     "metadata": {},
     "output_type": "execute_result"
    }
   ],
   "source": [
    "sp.init_printing()\n",
    "sp.var('x, y')"
   ]
  },
  {
   "cell_type": "markdown",
   "id": "f5a9c069-b9a1-401b-a4c0-7beb11ee6cd9",
   "metadata": {},
   "source": [
    "$f(x) = (x^3 - 3x + 2)e^{-x/4} - 1$"
   ]
  },
  {
   "cell_type": "code",
   "execution_count": 4,
   "id": "7bc9b62b-6405-49ff-84c4-7b87d3eeff5c",
   "metadata": {},
   "outputs": [
    {
     "data": {
      "image/png": "[encoded data removed]",
      "text/latex": [
       "$\\displaystyle \\left( x \\mapsto \\left(x^{3} - 3 x + 2\\right) e^{- \\frac{x}{4}} - 1 \\right)$"
      ],
      "text/plain": [
       "                    -x     \n",
       "                    ───    \n",
       "    ⎛ 3          ⎞   4     \n",
       "x ↦ ⎝x  - 3⋅x + 2⎠⋅ℯ    - 1"
      ]
     },
     "execution_count": 4,
     "metadata": {},
     "output_type": "execute_result"
    }
   ],
   "source": [
    "f = sp.Lambda(x, (x**3 - 3*x + 2)*sp.exp(-x/4) - 1)\n",
    "f"
   ]
  },
  {
   "cell_type": "markdown",
   "id": "af53470b-352e-4d6b-b7dc-db0d24ff4651",
   "metadata": {},
   "source": [
    "<div style=\"font-family: 'Times New Roman', Times, serif; font-size: 16px;\">\n",
    "    \n",
    "    <h2>Derivadas</h2>\n",
    "    \n",
    "    <p>Usando a biblioteca <b style=\"color: blue;\">Sympy</b> de matemática simbólica para computar a derivada da função</p>\n",
    "    \n",
    "</div>\n",
    "\n",
    "$ f' = \\dfrac{df}{dx} $."
   ]
  },
  {
   "cell_type": "code",
   "execution_count": 5,
   "id": "f8560af1-c638-4e47-8c0d-6dec0f6dd7a9",
   "metadata": {},
   "outputs": [
    {
     "ename": "NameError",
     "evalue": "name 'diff' is not defined",
     "output_type": "error",
     "traceback": [
      "\u001b[0;31m---------------------------------------------------------------------------\u001b[0m",
      "\u001b[0;31mNameError\u001b[0m                                 Traceback (most recent call last)",
      "\u001b[0;32m<ipython-input-5-4a01c3b05bcc>\u001b[0m in \u001b[0;36m<module>\u001b[0;34m\u001b[0m\n\u001b[0;32m----> 1\u001b[0;31m \u001b[0mdiff\u001b[0m\u001b[0;34m(\u001b[0m \u001b[0mf\u001b[0m\u001b[0;34m(\u001b[0m\u001b[0mx\u001b[0m\u001b[0;34m)\u001b[0m\u001b[0;34m,\u001b[0m \u001b[0mx\u001b[0m \u001b[0;34m)\u001b[0m\u001b[0;34m\u001b[0m\u001b[0;34m\u001b[0m\u001b[0m\n\u001b[0m",
      "\u001b[0;31mNameError\u001b[0m: name 'diff' is not defined"
     ]
    }
   ],
   "source": [
    "diff( f(x), x )"
   ]
  },
  {
   "cell_type": "markdown",
   "id": "8b3a6d7a-69f2-4f6b-98b8-5e27d46e51e8",
   "metadata": {},
   "source": [
    "Para avaliar a derivada em um ponto, por exemplo, para calcular $f'(1)$:"
   ]
  },
  {
   "cell_type": "code",
   "execution_count": null,
   "id": "c6bb088b-ffe3-4667-9448-6b3a7959a562",
   "metadata": {},
   "outputs": [],
   "source": [
    "diff( f(x),x ).subs(x, 1)"
   ]
  },
  {
   "cell_type": "markdown",
   "id": "b8952a58-a7c3-4373-a232-0c190989ea93",
   "metadata": {},
   "source": [
    "Também podemos definir a função derivada de $f$:"
   ]
  },
  {
   "cell_type": "code",
   "execution_count": null,
   "id": "a74c844b-f6aa-4f19-8f17-646154a0a6eb",
   "metadata": {},
   "outputs": [],
   "source": [
    "fl = Lambda(x, diff(f(x), x))\n",
    "fl"
   ]
  },
  {
   "cell_type": "markdown",
   "id": "7cc31970-dba7-4606-923c-2cf8180e9cf2",
   "metadata": {},
   "source": [
    "Com isso, $f'(1)$ pode ser computada com:"
   ]
  },
  {
   "cell_type": "code",
   "execution_count": null,
   "id": "b0614290-32eb-4b0d-b02b-b5d24f8f4b89",
   "metadata": {},
   "outputs": [],
   "source": [
    "fl(1)"
   ]
  },
  {
   "cell_type": "markdown",
   "id": "fee53b5e-5954-4f84-a848-b124eb26c260",
   "metadata": {},
   "source": [
    "**Exercício**\n",
    "\n",
    "Sengo $g(x) = x^2 + \\dfrac{1}{2}$ calcule $g'(1)$."
   ]
  },
  {
   "cell_type": "code",
   "execution_count": null,
   "id": "1bfcf94b-d99b-4de1-90b7-21014f528c0b",
   "metadata": {},
   "outputs": [],
   "source": [
    "# Solução\n",
    "g = Lambda(x, (x**2) + Rational(1, 2))\n",
    "g"
   ]
  },
  {
   "cell_type": "code",
   "execution_count": null,
   "id": "68b6e3a8-a369-4b92-991b-20b424e3cb5e",
   "metadata": {},
   "outputs": [],
   "source": [
    "gl = Lambda(x, diff(g(x), x))\n",
    "gl"
   ]
  },
  {
   "cell_type": "markdown",
   "id": "027d2088-8d9e-4321-885e-4407dc79189b",
   "metadata": {},
   "source": [
    "<div style=\"font-family: 'Times New Roman', Times, serif; font-size: 16px;\">\n",
    "    \n",
    "    <h2>Reta Tangente</h2>\n",
    "    \n",
    "</div>\n",
    "\n",
    "Aqui, vamos ver como computar a reta tangente ao gráfico da função $f$ no ponto $x_0 = - \\dfrac{1}{2}$. Lembremos que tal reta tangente tem equação:\n",
    "\n",
    "$y = f'(x_0)(x - x_0) + f(x_0)$\n",
    "\n",
    "Assim sendo, podemos definir a função affim cujo gráfico é a reta tangente com o seguinte comando:"
   ]
  },
  {
   "cell_type": "code",
   "execution_count": null,
   "id": "e2cccd70-fc3c-4941-98f8-d1081adeef17",
   "metadata": {},
   "outputs": [],
   "source": [
    "x0 = -1/2\n",
    "r = Lambda(x, fl(x0)*(x-x0) + f(x0))\n",
    "r"
   ]
  },
  {
   "cell_type": "markdown",
   "id": "a81f2558-53aa-4f98-bc61-3db8d284ee0d",
   "metadata": {},
   "source": [
    "Vejamos os gráficos de $f(x)$ e da reta tangente computada."
   ]
  },
  {
   "cell_type": "code",
   "execution_count": null,
   "id": "50b49a7c-dd82-4f20-8d02-edcd6bfe28ed",
   "metadata": {},
   "outputs": [],
   "source": [
    "p = plot(f(x), (x, -2,   2), line_color='blue', show=False)\n",
    "q = plot(r(x), (x, -1.5, 1), line_color='red',  show=False)\n",
    "p.extend(q)\n",
    "p.show()"
   ]
  },
  {
   "cell_type": "markdown",
   "id": "d16a6134-8469-4db2-92d4-09e075a8ec2c",
   "metadata": {},
   "source": [
    "**Exercício**\n",
    "\n",
    "Encontre a reta tangente ao gráfico de $y = \\dfrac{1}{x}$ em $x = 1$. Faça os esboços dos gráficos e da reta tangente em um mesmo gráfico."
   ]
  },
  {
   "cell_type": "code",
   "execution_count": null,
   "id": "4047d675-e353-4aba-9b00-9b4e699868c2",
   "metadata": {},
   "outputs": [],
   "source": [
    "reta_ex_y = Lambda(x, 1 / x)\n",
    "reta_ex_y"
   ]
  },
  {
   "cell_type": "code",
   "execution_count": null,
   "id": "d4f9cef6-8874-4c7c-adfe-50a8b1efb12a",
   "metadata": {},
   "outputs": [],
   "source": [
    "reta_ex_yl = Lambda(x, diff(reta_ex_y(x), x))\n",
    "reta_ex_yl"
   ]
  },
  {
   "cell_type": "code",
   "execution_count": null,
   "id": "adc275f4-5765-4d4c-af63-f6e2bd100e7c",
   "metadata": {},
   "outputs": [],
   "source": [
    "reta_ex_x = 1\n",
    "reta_ex_r = Lambda(x, reta_ex_yl(reta_ex_x)*(x-reta_ex_x) + reta_ex_y(reta_ex_x))\n",
    "reta_ex_r"
   ]
  },
  {
   "cell_type": "code",
   "execution_count": null,
   "id": "34d4b56b-8319-4b66-90ce-5ffdab503760",
   "metadata": {},
   "outputs": [],
   "source": [
    "reta_ex_p = plot(reta_ex_y(x), (x, -2,   2), line_color='blue', show=False)\n",
    "reta_ex_q = plot(reta_ex_r(x), (x, -1.5, 1), line_color='red',  show=False)\n",
    "reta_ex_p.extend(reta_ex_q)\n",
    "reta_ex_p.show()"
   ]
  },
  {
   "cell_type": "code",
   "execution_count": null,
   "id": "20979d9d-2e7f-4dd8-bddf-f20ba7467646",
   "metadata": {},
   "outputs": [],
   "source": [
    "f = lambda x: ( ((-0.5)*(x**2)) + (2.5*x) + (4.5) )\n",
    "sp.solve(((-0.5)*(x**2)) + (2.5*x) + (4.5), x)"
   ]
  },
  {
   "cell_type": "code",
   "execution_count": null,
   "id": "a2e7c9e5-8a04-4d4b-b204-feab921e4c2d",
   "metadata": {},
   "outputs": [],
   "source": []
  }
 ],
 "metadata": {
  "kernelspec": {
   "display_name": "Python 3",
   "language": "python",
   "name": "python3"
  },
  "language_info": {
   "codemirror_mode": {
    "name": "ipython",
    "version": 3
   },
   "file_extension": ".py",
   "mimetype": "text/x-python",
   "name": "python",
   "nbconvert_exporter": "python",
   "pygments_lexer": "ipython3",
   "version": "3.8.8"
  }
 },
 "nbformat": 4,
 "nbformat_minor": 5
}
