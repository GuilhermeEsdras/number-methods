{
 "cells": [
  {
   "cell_type": "markdown",
   "id": "9ad9e7c9-edc1-4f71-9f75-95d52a481744",
   "metadata": {},
   "source": [
    "<h1 style=\"border: 1.5px solid #ccc; \n",
    "           padding: 8px 12px; \n",
    "           color:#56BFCB;\"\n",
    "    >\n",
    "    <center> <br/>\n",
    "        Projeto I <br/>\n",
    "        <span style=\"font-size:18px;\"> Guilherme Esdras </span>\n",
    "    </center>\n",
    "</h1>"
   ]
  },
  {
   "cell_type": "code",
   "execution_count": 1,
   "id": "b9cf1fcc-3c47-4dd2-af1f-9a8def1cec3e",
   "metadata": {},
   "outputs": [],
   "source": [
    "import warnings\n",
    "warnings.filterwarnings('ignore')\n",
    "\n",
    "import numpy as np\n",
    "import pandas as pd\n",
    "from scipy import optimize as opt, stats\n",
    "\n",
    "import matplotlib as mpl\n",
    "import matplotlib.pyplot as plt\n",
    "%matplotlib inline\n",
    "plt.style.use('seaborn-poster')\n",
    "\n",
    "import sympy as sp\n",
    "sp.init_printing()"
   ]
  },
  {
   "cell_type": "markdown",
   "id": "357f1323-f014-4433-8359-60a62b12de9e",
   "metadata": {},
   "source": [
    "# Parte 1: Implementação do Algoritmo"
   ]
  },
  {
   "cell_type": "code",
   "execution_count": 2,
   "id": "27cf0bf5-7d47-4942-99a5-abafd371621e",
   "metadata": {},
   "outputs": [],
   "source": [
    "def proposed_method(f, fD, a, b, tol=1e-10, maxiter=500):\n",
    "    \n",
    "    # Variáveis foram criadas apenas para fins de praticidade na hora do debugging\n",
    "    # e melhorias de desempenho (evitar chamadas repetidas das funções)\n",
    "    \n",
    "    fa = f(a)\n",
    "    fb = f(b)\n",
    "    fa_x_fb = np.sign(fa) * np.sign(fb)\n",
    "\n",
    "    # Verifica se os intervalos passados são válidos\n",
    "    if fa_x_fb > 0:\n",
    "        print(\"Incapaz de prosseguir! Não existe raíz com os intervalos dados.\")\n",
    "        return None\n",
    "    \n",
    "    tb = [] # Lista responsável por armazenar os dados de cada iteração para a tabela do Pandas\n",
    "\n",
    "    an = a\n",
    "    bn = b\n",
    "    xn = an\n",
    "\n",
    "    n = 0\n",
    "    while n < maxiter:\n",
    "\n",
    "        # Se por acaso a derivada de an for zero, poderá ocasionar uma divisão por zero no método de Newton–Raphson\n",
    "        if fD(an) == 0:\n",
    "            an, bn = interchange(an, bn)  # Esta troca de valores previne isto\n",
    "\n",
    "        f_an = f(an)\n",
    "        f_bn = f(bn)\n",
    "\n",
    "        xant = xn  # \"Salva\" o valor de x antes dos cálculos para calcular o erro posteriormente.\n",
    "\n",
    "        xn_eq3 = (an * f_bn - bn * f_an) / (f_bn - f_an)  # Calcula a raíz através do método Regula-Falsi\n",
    "        xn_eq4 = an - (f_an / fD(an))  # Calcula a raíz através do método Newton–Raphson\n",
    "        xn = (xn_eq3 + xn_eq4) / 2  # O algoritmo proposto calcula a média dos dois\n",
    "\n",
    "        f_xn = f(xn)\n",
    "\n",
    "        err = np.abs((xn-xant)/xn)*100  # Calcula o erro verificando o valor de x atual com o da iteração anterior\n",
    "        \n",
    "        # Tabela do Pandas\n",
    "        cases = lambda x: f'{x:.9f}'\n",
    "        tb.append([])\n",
    "        tb[n].append(cases(an))\n",
    "        tb[n].append(cases(bn))\n",
    "        tb[n].append(cases(xn))\n",
    "        tb[n].append(cases(err))\n",
    "        # -----\n",
    "        \n",
    "        if err <= tol:\n",
    "            msg = f'Erro abaixo da tolerância! A raíz encontrada foi {xn} em {n} iterações.'\n",
    "            print('-'*len(msg) + '\\n' + msg + '\\n' + '-'*len(msg))\n",
    "            return xn, n, tb\n",
    "        elif f_xn == 0:\n",
    "            msg = f'f(x) == 0 | Raíz {xn} encontrada com um total de {n} iterações.'\n",
    "            print('-'*len(msg) + '\\n' + msg + '\\n' + '-'*len(msg))\n",
    "            return xn, n, tb\n",
    "        else:\n",
    "            # Esta etapa é responsável por aproximar os valores de an e bn para o valor calculado de xn\n",
    "            # efetuando trocas e mudanças que fazem convergir para a raíz mais rapidamente\n",
    "            # É um método muito semelhante ao da Secante e mais eficaz que a do Método Proposto\n",
    "            f_an_x_f_xn = np.sign(f_an) * np.sign(f_xn)\n",
    "            if f_an_x_f_xn < 0:\n",
    "                if np.abs(f_an) >= np.abs(f_xn):\n",
    "                    bn = an\n",
    "                    an = xn\n",
    "            elif f_an_x_f_xn > 0:\n",
    "                if np.abs(f_xn) < np.abs(f_bn):\n",
    "                    an = xn\n",
    "                else:\n",
    "                    an = bn\n",
    "                    bn = xn\n",
    "            n += 1\n",
    "    else:\n",
    "        print(f'O número de iterações extrapolou o limite de {maxiter} sem encontrar a raíz! :(')\n",
    "        print(f'\\tO último valor encontrado foi {xn}.')\n",
    "    return None\n",
    "\n",
    "\n",
    "def interchange(a, b):\n",
    "    '''\n",
    "    Função responsável por efetuar a troca de dois valores passados como argumento\n",
    "    '''\n",
    "    temp = a\n",
    "    a = b\n",
    "    b = temp\n",
    "    return a, b"
   ]
  },
  {
   "cell_type": "code",
   "execution_count": 3,
   "id": "301f74b2-99e7-4389-86c5-ea13f09feda2",
   "metadata": {
    "jupyter": {
     "source_hidden": true
    },
    "tags": []
   },
   "outputs": [],
   "source": [
    "# Método da Falsa Posição (para fins de comparação)\n",
    "\n",
    "def regula_falsi(f, xl, xu, tol=1e-10):\n",
    "    \n",
    "    if (f(xl) * f(xu) >= 0):\n",
    "        return -1\n",
    "    \n",
    "    i = 0\n",
    "    x = xl\n",
    "    erro, x_ant = 1, x\n",
    "    \n",
    "    while erro > tol:\n",
    "        \n",
    "        x = xu - ( ( f(xu)*(xl-xu) ) / (f(xl)-f(xu)) )\n",
    "            \n",
    "        if f(x) * f(xl) < 0:\n",
    "            xu = x\n",
    "        \n",
    "        else:\n",
    "            xl = x\n",
    "            \n",
    "        erro = np.abs((x - x_ant) / np.abs(x))\n",
    "        x_ant = x\n",
    "        i += 1\n",
    "    \n",
    "    return ( x, i )"
   ]
  },
  {
   "cell_type": "code",
   "execution_count": 4,
   "id": "8968c58f-4b22-4f07-a8b0-fbc31b4d494a",
   "metadata": {},
   "outputs": [],
   "source": [
    "# Auxiliares\n",
    "cols = [\"a\", \"b\", \"x\", \"Erro (%)\"]\n",
    "comp_cols = ['BM', 'R-F', 'N-R', 'PM']\n",
    "cases = lambda x: f'{x:.12f}'"
   ]
  },
  {
   "cell_type": "markdown",
   "id": "f76ca11d-3e7d-4d00-8d06-192de2398117",
   "metadata": {},
   "source": [
    "## Exemplo 3"
   ]
  },
  {
   "cell_type": "code",
   "execution_count": 5,
   "id": "8eb845f2-4626-43de-a2ae-d09f5a271a43",
   "metadata": {
    "tags": []
   },
   "outputs": [],
   "source": [
    "## Intervalos\n",
    "a3 = 0\n",
    "b3 = 1\n",
    "\n",
    "## Funções\n",
    "f3 = lambda x, t='np': (x * np.exp(x) - np.cos(x)) if t != 'sp' else (x * sp.exp(x) - sp.cos(x))\n",
    "fd3 = lambda x, t='np': (x * np.exp(x) + np.exp(x) + np.sin(x)) if t != 'sp' else (x * sp.exp(x) + sp.exp(x) + sp.sin(x))\n",
    "\n",
    "# Tabela de comparação para o Exemplo 3\n",
    "comp_tb = [[]]"
   ]
  },
  {
   "cell_type": "code",
   "execution_count": 6,
   "id": "8cb4863e-b357-4e49-b238-58d5b486d0d5",
   "metadata": {},
   "outputs": [
    {
     "data": {
      "image/png": "[encoded data removed]",
      "text/latex": [
       "$\\displaystyle \\left( x \\mapsto x e^{x} - \\cos{\\left(x \\right)} \\right)$"
      ],
      "text/plain": [
       "       x         \n",
       "x ↦ x⋅ℯ  - cos(x)"
      ]
     },
     "execution_count": 6,
     "metadata": {},
     "output_type": "execute_result"
    }
   ],
   "source": [
    "sp.var('x')\n",
    "f3_sp = sp.Lambda(x, f3(x, 'sp'))\n",
    "f3_sp"
   ]
  },
  {
   "cell_type": "code",
   "execution_count": 7,
   "id": "708a4c30-38dc-4197-8054-557c4ad989cc",
   "metadata": {},
   "outputs": [
    {
     "data": {
      "image/png": "[encoded data removed]",
      "text/latex": [
       "$\\displaystyle \\left( x \\mapsto x e^{x} + e^{x} + \\sin{\\left(x \\right)} \\right)$"
      ],
      "text/plain": [
       "       x    x         \n",
       "x ↦ x⋅ℯ  + ℯ  + sin(x)"
      ]
     },
     "execution_count": 7,
     "metadata": {},
     "output_type": "execute_result"
    }
   ],
   "source": [
    "sp.var('x')\n",
    "f3d_sp = sp.Lambda(x, fd3(x, 'sp'))\n",
    "f3d_sp"
   ]
  },
  {
   "cell_type": "markdown",
   "id": "41abba26-9b73-4a79-9616-527ea59418d0",
   "metadata": {},
   "source": [
    "### Resultado de outros métodos para fins de comparação"
   ]
  },
  {
   "cell_type": "code",
   "execution_count": 8,
   "id": "38a780fe-1a71-4242-9217-679880ac4956",
   "metadata": {},
   "outputs": [
    {
     "data": {
      "text/plain": [
       "      converged: True\n",
       "           flag: 'converged'\n",
       " function_calls: 41\n",
       "     iterations: 39\n",
       "           root: 0.5177573636810848"
      ]
     },
     "execution_count": 8,
     "metadata": {},
     "output_type": "execute_result"
    }
   ],
   "source": [
    "comp_tb[0].append(cases(opt.root_scalar(f3, bracket=[a3, b3], method='bisect').root))\n",
    "opt.root_scalar(f3, bracket=[a3, b3], method='bisect')"
   ]
  },
  {
   "cell_type": "code",
   "execution_count": 9,
   "id": "3ab03277-a95c-4b04-b9b6-29aee7358b31",
   "metadata": {},
   "outputs": [
    {
     "data": {
      "image/png": "[encoded data removed]",
      "text/latex": [
       "$\\displaystyle \\left( 0.517757363668578, \\  22\\right)$"
      ],
      "text/plain": [
       "(0.5177573636685784, 22)"
      ]
     },
     "execution_count": 9,
     "metadata": {},
     "output_type": "execute_result"
    }
   ],
   "source": [
    "x, i = regula_falsi(f3, a3, b3)\n",
    "comp_tb[0].append(cases(x))\n",
    "regula_falsi(f3, a3, b3)"
   ]
  },
  {
   "cell_type": "code",
   "execution_count": 10,
   "id": "b16e0e15-182a-4411-8ed9-e8a90111ebf0",
   "metadata": {},
   "outputs": [
    {
     "data": {
      "text/plain": [
       "      converged: True\n",
       "           flag: 'converged'\n",
       " function_calls: 14\n",
       "     iterations: 7\n",
       "           root: 0.5177573636824583"
      ]
     },
     "execution_count": 10,
     "metadata": {},
     "output_type": "execute_result"
    }
   ],
   "source": [
    "comp_tb[0].append(cases(opt.root_scalar(f3, fprime=fd3, x0=a3, method='newton').root))\n",
    "opt.root_scalar(f3, fprime=fd3, x0=a3, method='newton')"
   ]
  },
  {
   "cell_type": "markdown",
   "id": "e7bdc6a3-4c76-4866-adf7-6361ca1eabd3",
   "metadata": {},
   "source": [
    "### Minha implementação do Método Proposto"
   ]
  },
  {
   "cell_type": "code",
   "execution_count": 11,
   "id": "613730c8-817f-4e3c-a0a6-dd7f2c34d7b3",
   "metadata": {},
   "outputs": [
    {
     "name": "stdout",
     "output_type": "stream",
     "text": [
      "------------------------------------------------------------------------------------\n",
      "Erro abaixo da tolerância! A raíz encontrada foi 0.5177573636824528 em 11 iterações.\n",
      "------------------------------------------------------------------------------------\n"
     ]
    },
    {
     "data": {
      "text/html": [
       "<div>\n",
       "<style scoped>\n",
       "    .dataframe tbody tr th:only-of-type {\n",
       "        vertical-align: middle;\n",
       "    }\n",
       "\n",
       "    .dataframe tbody tr th {\n",
       "        vertical-align: top;\n",
       "    }\n",
       "\n",
       "    .dataframe thead th {\n",
       "        text-align: right;\n",
       "    }\n",
       "</style>\n",
       "<table border=\"1\" class=\"dataframe\">\n",
       "  <thead>\n",
       "    <tr style=\"text-align: right;\">\n",
       "      <th></th>\n",
       "      <th>a</th>\n",
       "      <th>b</th>\n",
       "      <th>x</th>\n",
       "      <th>Erro (%)</th>\n",
       "    </tr>\n",
       "  </thead>\n",
       "  <tbody>\n",
       "    <tr>\n",
       "      <th>0</th>\n",
       "      <td>0.000000000</td>\n",
       "      <td>1.000000000</td>\n",
       "      <td>0.657332669</td>\n",
       "      <td>100.000000000</td>\n",
       "    </tr>\n",
       "    <tr>\n",
       "      <th>1</th>\n",
       "      <td>0.657332669</td>\n",
       "      <td>0.000000000</td>\n",
       "      <td>0.488634695</td>\n",
       "      <td>34.524354463</td>\n",
       "    </tr>\n",
       "    <tr>\n",
       "      <th>2</th>\n",
       "      <td>0.488634695</td>\n",
       "      <td>0.657332669</td>\n",
       "      <td>0.516508729</td>\n",
       "      <td>5.396624083</td>\n",
       "    </tr>\n",
       "    <tr>\n",
       "      <th>3</th>\n",
       "      <td>0.516508729</td>\n",
       "      <td>0.657332669</td>\n",
       "      <td>0.517689649</td>\n",
       "      <td>0.228113490</td>\n",
       "    </tr>\n",
       "    <tr>\n",
       "      <th>4</th>\n",
       "      <td>0.517689649</td>\n",
       "      <td>0.657332669</td>\n",
       "      <td>0.517753660</td>\n",
       "      <td>0.012363141</td>\n",
       "    </tr>\n",
       "    <tr>\n",
       "      <th>5</th>\n",
       "      <td>0.517753660</td>\n",
       "      <td>0.657332669</td>\n",
       "      <td>0.517757161</td>\n",
       "      <td>0.000676215</td>\n",
       "    </tr>\n",
       "    <tr>\n",
       "      <th>6</th>\n",
       "      <td>0.517757161</td>\n",
       "      <td>0.657332669</td>\n",
       "      <td>0.517757353</td>\n",
       "      <td>0.000037005</td>\n",
       "    </tr>\n",
       "    <tr>\n",
       "      <th>7</th>\n",
       "      <td>0.517757353</td>\n",
       "      <td>0.657332669</td>\n",
       "      <td>0.517757363</td>\n",
       "      <td>0.000002025</td>\n",
       "    </tr>\n",
       "    <tr>\n",
       "      <th>8</th>\n",
       "      <td>0.517757363</td>\n",
       "      <td>0.657332669</td>\n",
       "      <td>0.517757364</td>\n",
       "      <td>0.000000111</td>\n",
       "    </tr>\n",
       "    <tr>\n",
       "      <th>9</th>\n",
       "      <td>0.517757364</td>\n",
       "      <td>0.657332669</td>\n",
       "      <td>0.517757364</td>\n",
       "      <td>0.000000006</td>\n",
       "    </tr>\n",
       "    <tr>\n",
       "      <th>10</th>\n",
       "      <td>0.517757364</td>\n",
       "      <td>0.657332669</td>\n",
       "      <td>0.517757364</td>\n",
       "      <td>0.000000000</td>\n",
       "    </tr>\n",
       "    <tr>\n",
       "      <th>11</th>\n",
       "      <td>0.517757364</td>\n",
       "      <td>0.657332669</td>\n",
       "      <td>0.517757364</td>\n",
       "      <td>0.000000000</td>\n",
       "    </tr>\n",
       "  </tbody>\n",
       "</table>\n",
       "</div>"
      ],
      "text/plain": [
       "              a            b            x       Erro (%)\n",
       "0   0.000000000  1.000000000  0.657332669  100.000000000\n",
       "1   0.657332669  0.000000000  0.488634695   34.524354463\n",
       "2   0.488634695  0.657332669  0.516508729    5.396624083\n",
       "3   0.516508729  0.657332669  0.517689649    0.228113490\n",
       "4   0.517689649  0.657332669  0.517753660    0.012363141\n",
       "5   0.517753660  0.657332669  0.517757161    0.000676215\n",
       "6   0.517757161  0.657332669  0.517757353    0.000037005\n",
       "7   0.517757353  0.657332669  0.517757363    0.000002025\n",
       "8   0.517757363  0.657332669  0.517757364    0.000000111\n",
       "9   0.517757364  0.657332669  0.517757364    0.000000006\n",
       "10  0.517757364  0.657332669  0.517757364    0.000000000\n",
       "11  0.517757364  0.657332669  0.517757364    0.000000000"
      ]
     },
     "execution_count": 11,
     "metadata": {},
     "output_type": "execute_result"
    }
   ],
   "source": [
    "x, i, tb = proposed_method(f3, fd3, a3, b3)\n",
    "comp_tb[0].append(cases(x))\n",
    "pd.DataFrame(tb, columns=cols)"
   ]
  },
  {
   "cell_type": "markdown",
   "id": "816343ab-1b9f-4d7e-8dde-7c6ed8f68cc4",
   "metadata": {},
   "source": [
    "#### Tabela de Comparação Exemplo 3"
   ]
  },
  {
   "cell_type": "code",
   "execution_count": 12,
   "id": "29b5aa9f-9c38-4899-862b-38ed24d85b09",
   "metadata": {},
   "outputs": [
    {
     "data": {
      "text/html": [
       "<div>\n",
       "<style scoped>\n",
       "    .dataframe tbody tr th:only-of-type {\n",
       "        vertical-align: middle;\n",
       "    }\n",
       "\n",
       "    .dataframe tbody tr th {\n",
       "        vertical-align: top;\n",
       "    }\n",
       "\n",
       "    .dataframe thead th {\n",
       "        text-align: right;\n",
       "    }\n",
       "</style>\n",
       "<table border=\"1\" class=\"dataframe\">\n",
       "  <thead>\n",
       "    <tr style=\"text-align: right;\">\n",
       "      <th></th>\n",
       "      <th>BM</th>\n",
       "      <th>R-F</th>\n",
       "      <th>N-R</th>\n",
       "      <th>PM</th>\n",
       "    </tr>\n",
       "  </thead>\n",
       "  <tbody>\n",
       "    <tr>\n",
       "      <th>0</th>\n",
       "      <td>0.517757363681</td>\n",
       "      <td>0.517757363669</td>\n",
       "      <td>0.517757363682</td>\n",
       "      <td>0.517757363682</td>\n",
       "    </tr>\n",
       "  </tbody>\n",
       "</table>\n",
       "</div>"
      ],
      "text/plain": [
       "               BM             R-F             N-R              PM\n",
       "0  0.517757363681  0.517757363669  0.517757363682  0.517757363682"
      ]
     },
     "execution_count": 12,
     "metadata": {},
     "output_type": "execute_result"
    }
   ],
   "source": [
    "pd.DataFrame(comp_tb, columns=comp_cols)"
   ]
  },
  {
   "cell_type": "markdown",
   "id": "0adb3867-fc88-43e5-a2ed-e81e780c3b6d",
   "metadata": {},
   "source": [
    "## Exemplo 4"
   ]
  },
  {
   "cell_type": "code",
   "execution_count": 13,
   "id": "cc2b679a-3833-4da4-ae45-17b1ac6eb5ac",
   "metadata": {},
   "outputs": [],
   "source": [
    "## Intervalos\n",
    "a4 = 1\n",
    "b4 = 3\n",
    "\n",
    "## Funções\n",
    "f4 = lambda x, t='np': (x * np.log10(x) - 1.2) if t != 'sp' else (x * sp.log(x) - 1.2)\n",
    "fd4 = lambda x, t='np': (np.log(x) + 1) if t != 'sp' else (sp.log(x) + 1)\n",
    "\n",
    "# Tabela de comparação para o Exemplo 3\n",
    "comp_tb = [[]]"
   ]
  },
  {
   "cell_type": "code",
   "execution_count": 14,
   "id": "ed61f025-e73a-4e04-9d85-a2a6205a93cc",
   "metadata": {},
   "outputs": [
    {
     "data": {
      "image/png": "[encoded data removed]",
      "text/latex": [
       "$\\displaystyle \\left( x \\mapsto x \\log{\\left(x \\right)} - 1.2 \\right)$"
      ],
      "text/plain": [
       "x ↦ x⋅log(x) - 1.2"
      ]
     },
     "execution_count": 14,
     "metadata": {},
     "output_type": "execute_result"
    }
   ],
   "source": [
    "sp.var('x')\n",
    "f4_sp = sp.Lambda(x, f4(x, 'sp'))\n",
    "f4_sp"
   ]
  },
  {
   "cell_type": "code",
   "execution_count": 15,
   "id": "13d19117-5a9e-4579-974a-c6f065ab0d94",
   "metadata": {},
   "outputs": [
    {
     "data": {
      "image/png": "[encoded data removed]",
      "text/latex": [
       "$\\displaystyle \\left( x \\mapsto \\log{\\left(x \\right)} + 1 \\right)$"
      ],
      "text/plain": [
       "x ↦ log(x) + 1"
      ]
     },
     "execution_count": 15,
     "metadata": {},
     "output_type": "execute_result"
    }
   ],
   "source": [
    "sp.var('x')\n",
    "f4d_sp = sp.Lambda(x, fd4(x, 'sp'))\n",
    "f4d_sp"
   ]
  },
  {
   "cell_type": "markdown",
   "id": "e4274aba-cf59-40ce-8cda-fc44c82b8080",
   "metadata": {},
   "source": [
    "### Resultado de outros métodos para fins de comparação"
   ]
  },
  {
   "cell_type": "markdown",
   "id": "033d4471-e2f6-4acf-887e-79334a674f12",
   "metadata": {},
   "source": [
    "#### Método da Bisseção [BM]"
   ]
  },
  {
   "cell_type": "code",
   "execution_count": 16,
   "id": "07f522a5-c398-4166-83ce-05a2dc9e1b3b",
   "metadata": {},
   "outputs": [
    {
     "data": {
      "text/plain": [
       "      converged: True\n",
       "           flag: 'converged'\n",
       " function_calls: 42\n",
       "     iterations: 40\n",
       "           root: 2.740646095973716"
      ]
     },
     "execution_count": 16,
     "metadata": {},
     "output_type": "execute_result"
    }
   ],
   "source": [
    "comp_tb[0].append(cases(opt.root_scalar(f4, bracket=[a4, b4], method='bisect').root))\n",
    "opt.root_scalar(f4, bracket=[a4, b4], method='bisect') "
   ]
  },
  {
   "cell_type": "markdown",
   "id": "96436993-2aed-4610-86bd-88d2e91be547",
   "metadata": {},
   "source": [
    "#### Método da Falsa Posição [R-F]"
   ]
  },
  {
   "cell_type": "code",
   "execution_count": 17,
   "id": "4e4bc00a-87a5-4cb6-8dd6-9076331ac336",
   "metadata": {},
   "outputs": [
    {
     "data": {
      "image/png": "[encoded data removed]",
      "text/latex": [
       "$\\displaystyle \\left( 2.74064609597351, \\  8\\right)$"
      ],
      "text/plain": [
       "(2.740646095973513, 8)"
      ]
     },
     "execution_count": 17,
     "metadata": {},
     "output_type": "execute_result"
    }
   ],
   "source": [
    "x, i = regula_falsi(f4, a4, b4)\n",
    "comp_tb[0].append(cases(x))\n",
    "regula_falsi(f4, a4, b4)"
   ]
  },
  {
   "cell_type": "markdown",
   "id": "0b60ad25-79fd-4338-ab70-62ce273915cc",
   "metadata": {},
   "source": [
    "#### Método de Newton-Raphson [N-R]"
   ]
  },
  {
   "cell_type": "code",
   "execution_count": 18,
   "id": "d4f95fed-fac1-4e61-922a-7a2c87e38379",
   "metadata": {},
   "outputs": [
    {
     "data": {
      "text/plain": [
       "      converged: True\n",
       "           flag: 'converged'\n",
       " function_calls: 62\n",
       "     iterations: 31\n",
       "           root: 2.7406460774797683"
      ]
     },
     "execution_count": 18,
     "metadata": {},
     "output_type": "execute_result"
    }
   ],
   "source": [
    "comp_tb[0].append(cases(opt.root_scalar(f4, fprime=fd4, x0=a4, method='newton').root))\n",
    "opt.root_scalar(f4, fprime=fd4, x0=a4, method='newton')"
   ]
  },
  {
   "cell_type": "markdown",
   "id": "98a6b482-b5e3-4a12-bfe9-b129a5e3b661",
   "metadata": {},
   "source": [
    "### Minha implementação do Método Proposto"
   ]
  },
  {
   "cell_type": "code",
   "execution_count": 19,
   "id": "4688cda2-174d-444a-8ec4-a1a49f8cfa17",
   "metadata": {},
   "outputs": [
    {
     "name": "stdout",
     "output_type": "stream",
     "text": [
      "------------------------------------------------------------------------------------\n",
      "Erro abaixo da tolerância! A raíz encontrada foi 2.7406460959746797 em 20 iterações.\n",
      "------------------------------------------------------------------------------------\n"
     ]
    },
    {
     "data": {
      "text/html": [
       "<div>\n",
       "<style scoped>\n",
       "    .dataframe tbody tr th:only-of-type {\n",
       "        vertical-align: middle;\n",
       "    }\n",
       "\n",
       "    .dataframe tbody tr th {\n",
       "        vertical-align: top;\n",
       "    }\n",
       "\n",
       "    .dataframe thead th {\n",
       "        text-align: right;\n",
       "    }\n",
       "</style>\n",
       "<table border=\"1\" class=\"dataframe\">\n",
       "  <thead>\n",
       "    <tr style=\"text-align: right;\">\n",
       "      <th></th>\n",
       "      <th>a</th>\n",
       "      <th>b</th>\n",
       "      <th>x</th>\n",
       "      <th>Erro (%)</th>\n",
       "    </tr>\n",
       "  </thead>\n",
       "  <tbody>\n",
       "    <tr>\n",
       "      <th>0</th>\n",
       "      <td>1.000000000</td>\n",
       "      <td>3.000000000</td>\n",
       "      <td>2.438361310</td>\n",
       "      <td>58.988850585</td>\n",
       "    </tr>\n",
       "    <tr>\n",
       "      <th>1</th>\n",
       "      <td>3.000000000</td>\n",
       "      <td>2.438361310</td>\n",
       "      <td>2.811596468</td>\n",
       "      <td>13.274848019</td>\n",
       "    </tr>\n",
       "    <tr>\n",
       "      <th>2</th>\n",
       "      <td>2.811596468</td>\n",
       "      <td>2.438361310</td>\n",
       "      <td>2.759785190</td>\n",
       "      <td>1.877366331</td>\n",
       "    </tr>\n",
       "    <tr>\n",
       "      <th>3</th>\n",
       "      <td>2.759785190</td>\n",
       "      <td>2.438361310</td>\n",
       "      <td>2.745786945</td>\n",
       "      <td>0.509808101</td>\n",
       "    </tr>\n",
       "    <tr>\n",
       "      <th>4</th>\n",
       "      <td>2.745786945</td>\n",
       "      <td>2.438361310</td>\n",
       "      <td>2.742025315</td>\n",
       "      <td>0.137184394</td>\n",
       "    </tr>\n",
       "    <tr>\n",
       "      <th>5</th>\n",
       "      <td>2.742025315</td>\n",
       "      <td>2.438361310</td>\n",
       "      <td>2.741016002</td>\n",
       "      <td>0.036822562</td>\n",
       "    </tr>\n",
       "    <tr>\n",
       "      <th>6</th>\n",
       "      <td>2.741016002</td>\n",
       "      <td>2.438361310</td>\n",
       "      <td>2.740745296</td>\n",
       "      <td>0.009877098</td>\n",
       "    </tr>\n",
       "    <tr>\n",
       "      <th>7</th>\n",
       "      <td>2.740745296</td>\n",
       "      <td>2.438361310</td>\n",
       "      <td>2.740672699</td>\n",
       "      <td>0.002648901</td>\n",
       "    </tr>\n",
       "    <tr>\n",
       "      <th>8</th>\n",
       "      <td>2.740672699</td>\n",
       "      <td>2.438361310</td>\n",
       "      <td>2.740653230</td>\n",
       "      <td>0.000710364</td>\n",
       "    </tr>\n",
       "    <tr>\n",
       "      <th>9</th>\n",
       "      <td>2.740653230</td>\n",
       "      <td>2.438361310</td>\n",
       "      <td>2.740648009</td>\n",
       "      <td>0.000190498</td>\n",
       "    </tr>\n",
       "    <tr>\n",
       "      <th>10</th>\n",
       "      <td>2.740648009</td>\n",
       "      <td>2.438361310</td>\n",
       "      <td>2.740646609</td>\n",
       "      <td>0.000051086</td>\n",
       "    </tr>\n",
       "    <tr>\n",
       "      <th>11</th>\n",
       "      <td>2.740646609</td>\n",
       "      <td>2.438361310</td>\n",
       "      <td>2.740646234</td>\n",
       "      <td>0.000013700</td>\n",
       "    </tr>\n",
       "    <tr>\n",
       "      <th>12</th>\n",
       "      <td>2.740646234</td>\n",
       "      <td>2.438361310</td>\n",
       "      <td>2.740646133</td>\n",
       "      <td>0.000003674</td>\n",
       "    </tr>\n",
       "    <tr>\n",
       "      <th>13</th>\n",
       "      <td>2.740646133</td>\n",
       "      <td>2.438361310</td>\n",
       "      <td>2.740646106</td>\n",
       "      <td>0.000000985</td>\n",
       "    </tr>\n",
       "    <tr>\n",
       "      <th>14</th>\n",
       "      <td>2.740646106</td>\n",
       "      <td>2.438361310</td>\n",
       "      <td>2.740646099</td>\n",
       "      <td>0.000000264</td>\n",
       "    </tr>\n",
       "    <tr>\n",
       "      <th>15</th>\n",
       "      <td>2.740646099</td>\n",
       "      <td>2.438361310</td>\n",
       "      <td>2.740646097</td>\n",
       "      <td>0.000000071</td>\n",
       "    </tr>\n",
       "    <tr>\n",
       "      <th>16</th>\n",
       "      <td>2.740646097</td>\n",
       "      <td>2.438361310</td>\n",
       "      <td>2.740646096</td>\n",
       "      <td>0.000000019</td>\n",
       "    </tr>\n",
       "    <tr>\n",
       "      <th>17</th>\n",
       "      <td>2.740646096</td>\n",
       "      <td>2.438361310</td>\n",
       "      <td>2.740646096</td>\n",
       "      <td>0.000000005</td>\n",
       "    </tr>\n",
       "    <tr>\n",
       "      <th>18</th>\n",
       "      <td>2.740646096</td>\n",
       "      <td>2.438361310</td>\n",
       "      <td>2.740646096</td>\n",
       "      <td>0.000000001</td>\n",
       "    </tr>\n",
       "    <tr>\n",
       "      <th>19</th>\n",
       "      <td>2.740646096</td>\n",
       "      <td>2.438361310</td>\n",
       "      <td>2.740646096</td>\n",
       "      <td>0.000000000</td>\n",
       "    </tr>\n",
       "    <tr>\n",
       "      <th>20</th>\n",
       "      <td>2.740646096</td>\n",
       "      <td>2.438361310</td>\n",
       "      <td>2.740646096</td>\n",
       "      <td>0.000000000</td>\n",
       "    </tr>\n",
       "  </tbody>\n",
       "</table>\n",
       "</div>"
      ],
      "text/plain": [
       "              a            b            x      Erro (%)\n",
       "0   1.000000000  3.000000000  2.438361310  58.988850585\n",
       "1   3.000000000  2.438361310  2.811596468  13.274848019\n",
       "2   2.811596468  2.438361310  2.759785190   1.877366331\n",
       "3   2.759785190  2.438361310  2.745786945   0.509808101\n",
       "4   2.745786945  2.438361310  2.742025315   0.137184394\n",
       "5   2.742025315  2.438361310  2.741016002   0.036822562\n",
       "6   2.741016002  2.438361310  2.740745296   0.009877098\n",
       "7   2.740745296  2.438361310  2.740672699   0.002648901\n",
       "8   2.740672699  2.438361310  2.740653230   0.000710364\n",
       "9   2.740653230  2.438361310  2.740648009   0.000190498\n",
       "10  2.740648009  2.438361310  2.740646609   0.000051086\n",
       "11  2.740646609  2.438361310  2.740646234   0.000013700\n",
       "12  2.740646234  2.438361310  2.740646133   0.000003674\n",
       "13  2.740646133  2.438361310  2.740646106   0.000000985\n",
       "14  2.740646106  2.438361310  2.740646099   0.000000264\n",
       "15  2.740646099  2.438361310  2.740646097   0.000000071\n",
       "16  2.740646097  2.438361310  2.740646096   0.000000019\n",
       "17  2.740646096  2.438361310  2.740646096   0.000000005\n",
       "18  2.740646096  2.438361310  2.740646096   0.000000001\n",
       "19  2.740646096  2.438361310  2.740646096   0.000000000\n",
       "20  2.740646096  2.438361310  2.740646096   0.000000000"
      ]
     },
     "execution_count": 19,
     "metadata": {},
     "output_type": "execute_result"
    }
   ],
   "source": [
    "x, i, tb = proposed_method(f4, fd4, a4, b4)\n",
    "comp_tb[0].append(cases(x))\n",
    "pd.DataFrame(tb, columns=cols)"
   ]
  },
  {
   "cell_type": "markdown",
   "id": "2e31869e-7d46-4bf0-908d-8a77a510b150",
   "metadata": {},
   "source": [
    "#### Tabela de Comparação Exemplo 4"
   ]
  },
  {
   "cell_type": "code",
   "execution_count": 20,
   "id": "34fb6640-5cad-467b-a2ab-0b75ddab2966",
   "metadata": {},
   "outputs": [
    {
     "data": {
      "text/html": [
       "<div>\n",
       "<style scoped>\n",
       "    .dataframe tbody tr th:only-of-type {\n",
       "        vertical-align: middle;\n",
       "    }\n",
       "\n",
       "    .dataframe tbody tr th {\n",
       "        vertical-align: top;\n",
       "    }\n",
       "\n",
       "    .dataframe thead th {\n",
       "        text-align: right;\n",
       "    }\n",
       "</style>\n",
       "<table border=\"1\" class=\"dataframe\">\n",
       "  <thead>\n",
       "    <tr style=\"text-align: right;\">\n",
       "      <th></th>\n",
       "      <th>BM</th>\n",
       "      <th>R-F</th>\n",
       "      <th>N-R</th>\n",
       "      <th>PM</th>\n",
       "    </tr>\n",
       "  </thead>\n",
       "  <tbody>\n",
       "    <tr>\n",
       "      <th>0</th>\n",
       "      <td>2.740646095974</td>\n",
       "      <td>2.740646095974</td>\n",
       "      <td>2.740646077480</td>\n",
       "      <td>2.740646095975</td>\n",
       "    </tr>\n",
       "  </tbody>\n",
       "</table>\n",
       "</div>"
      ],
      "text/plain": [
       "               BM             R-F             N-R              PM\n",
       "0  2.740646095974  2.740646095974  2.740646077480  2.740646095975"
      ]
     },
     "execution_count": 20,
     "metadata": {},
     "output_type": "execute_result"
    }
   ],
   "source": [
    "pd.DataFrame(comp_tb, columns=comp_cols)"
   ]
  },
  {
   "cell_type": "markdown",
   "id": "366b4571-f900-4f9b-8a30-65ba388b7886",
   "metadata": {},
   "source": [
    "## Exemplo 5"
   ]
  },
  {
   "cell_type": "code",
   "execution_count": 21,
   "id": "9fc36b93-9448-4efe-9821-9887432b2c2d",
   "metadata": {},
   "outputs": [],
   "source": [
    "## Intervalos\n",
    "a5 = 0\n",
    "b5 = 2\n",
    "\n",
    "## Funções\n",
    "f5 = lambda x: (1 - x ** 2)\n",
    "fd5 = lambda x: (-2 * x)\n",
    "\n",
    "# Tabela de comparação para o Exemplo 3\n",
    "comp_tb = [[]]"
   ]
  },
  {
   "cell_type": "code",
   "execution_count": 22,
   "id": "cee371ec-a7d0-4b15-9aa0-e4754c0d0cef",
   "metadata": {},
   "outputs": [
    {
     "data": {
      "image/png": "[encoded data removed]",
      "text/latex": [
       "$\\displaystyle \\left( x \\mapsto 1 - x^{2} \\right)$"
      ],
      "text/plain": [
       "         2\n",
       "x ↦ 1 - x "
      ]
     },
     "execution_count": 22,
     "metadata": {},
     "output_type": "execute_result"
    }
   ],
   "source": [
    "sp.var('x')\n",
    "f5_sp = sp.Lambda(x, f5(x))\n",
    "f5_sp"
   ]
  },
  {
   "cell_type": "code",
   "execution_count": 23,
   "id": "2f67f645-a0f0-49c7-be85-ee2a16183116",
   "metadata": {},
   "outputs": [
    {
     "data": {
      "image/png": "[encoded data removed]",
      "text/latex": [
       "$\\displaystyle \\left( x \\mapsto - 2 x \\right)$"
      ],
      "text/plain": [
       "x ↦ -2⋅x"
      ]
     },
     "execution_count": 23,
     "metadata": {},
     "output_type": "execute_result"
    }
   ],
   "source": [
    "sp.var('x')\n",
    "f5d_sp = sp.Lambda(x, fd5(x))\n",
    "f5d_sp"
   ]
  },
  {
   "cell_type": "markdown",
   "id": "fb87ca10-6578-45d1-92e7-b5467a4a3dde",
   "metadata": {},
   "source": [
    "### Resultado de outros métodos para fins de comparação"
   ]
  },
  {
   "cell_type": "code",
   "execution_count": 24,
   "id": "1ffbbde9-e41f-4361-a193-9003bfe817fe",
   "metadata": {},
   "outputs": [
    {
     "data": {
      "text/plain": [
       "      converged: True\n",
       "           flag: 'converged'\n",
       " function_calls: 3\n",
       "     iterations: 1\n",
       "           root: 1.0"
      ]
     },
     "execution_count": 24,
     "metadata": {},
     "output_type": "execute_result"
    }
   ],
   "source": [
    "comp_tb[0].append(cases(opt.root_scalar(f5, bracket=[a5, b5], method='bisect').root))\n",
    "opt.root_scalar(f5, bracket=[a5, b5], method='bisect')"
   ]
  },
  {
   "cell_type": "code",
   "execution_count": 25,
   "id": "a9c0d8d0-1e86-47ff-a9d1-0d2611b69584",
   "metadata": {},
   "outputs": [
    {
     "data": {
      "image/png": "[encoded data removed]",
      "text/latex": [
       "$\\displaystyle \\left( 0.999999999978756, \\  23\\right)$"
      ],
      "text/plain": [
       "(0.9999999999787559, 23)"
      ]
     },
     "execution_count": 25,
     "metadata": {},
     "output_type": "execute_result"
    }
   ],
   "source": [
    "x, i = regula_falsi(f5, a5, b5)\n",
    "comp_tb[0].append(cases(x))\n",
    "regula_falsi(f5, a5, b5)"
   ]
  },
  {
   "cell_type": "code",
   "execution_count": 26,
   "id": "c46f24de-7e4e-498d-9883-1711431ee396",
   "metadata": {},
   "outputs": [
    {
     "data": {
      "text/plain": [
       "      converged: False\n",
       "           flag: 'convergence error'\n",
       " function_calls: 2\n",
       "     iterations: 1\n",
       "           root: 0.0"
      ]
     },
     "execution_count": 26,
     "metadata": {},
     "output_type": "execute_result"
    }
   ],
   "source": [
    "comp_tb[0].append(cases(opt.root_scalar(f5, fprime=fd5, x0=a5, method='newton').root))\n",
    "opt.root_scalar(f5, fprime=fd5, x0=a5, method='newton')"
   ]
  },
  {
   "cell_type": "markdown",
   "id": "4428580f-2186-4f14-a399-85a3ddacb846",
   "metadata": {},
   "source": [
    "### Minha implementação do Método Proposto"
   ]
  },
  {
   "cell_type": "code",
   "execution_count": 27,
   "id": "219a2e36-b64f-455f-aa31-cfb8119966a4",
   "metadata": {},
   "outputs": [
    {
     "name": "stdout",
     "output_type": "stream",
     "text": [
      "------------------------------------------------------------------------------------\n",
      "Erro abaixo da tolerância! A raíz encontrada foi 0.9999999999999643 em 16 iterações.\n",
      "------------------------------------------------------------------------------------\n"
     ]
    },
    {
     "data": {
      "text/html": [
       "<div>\n",
       "<style scoped>\n",
       "    .dataframe tbody tr th:only-of-type {\n",
       "        vertical-align: middle;\n",
       "    }\n",
       "\n",
       "    .dataframe tbody tr th {\n",
       "        vertical-align: top;\n",
       "    }\n",
       "\n",
       "    .dataframe thead th {\n",
       "        text-align: right;\n",
       "    }\n",
       "</style>\n",
       "<table border=\"1\" class=\"dataframe\">\n",
       "  <thead>\n",
       "    <tr style=\"text-align: right;\">\n",
       "      <th></th>\n",
       "      <th>a</th>\n",
       "      <th>b</th>\n",
       "      <th>x</th>\n",
       "      <th>Erro (%)</th>\n",
       "    </tr>\n",
       "  </thead>\n",
       "  <tbody>\n",
       "    <tr>\n",
       "      <th>0</th>\n",
       "      <td>2.000000000</td>\n",
       "      <td>0.000000000</td>\n",
       "      <td>0.875000000</td>\n",
       "      <td>100.000000000</td>\n",
       "    </tr>\n",
       "    <tr>\n",
       "      <th>1</th>\n",
       "      <td>0.875000000</td>\n",
       "      <td>2.000000000</td>\n",
       "      <td>0.982725155</td>\n",
       "      <td>10.961880308</td>\n",
       "    </tr>\n",
       "    <tr>\n",
       "      <th>2</th>\n",
       "      <td>0.982725155</td>\n",
       "      <td>2.000000000</td>\n",
       "      <td>0.997180101</td>\n",
       "      <td>1.449582228</td>\n",
       "    </tr>\n",
       "    <tr>\n",
       "      <th>3</th>\n",
       "      <td>0.997180101</td>\n",
       "      <td>2.000000000</td>\n",
       "      <td>0.999531568</td>\n",
       "      <td>0.235256941</td>\n",
       "    </tr>\n",
       "    <tr>\n",
       "      <th>4</th>\n",
       "      <td>0.999531568</td>\n",
       "      <td>2.000000000</td>\n",
       "      <td>0.999921971</td>\n",
       "      <td>0.039043299</td>\n",
       "    </tr>\n",
       "    <tr>\n",
       "      <th>5</th>\n",
       "      <td>0.999921971</td>\n",
       "      <td>2.000000000</td>\n",
       "      <td>0.999986996</td>\n",
       "      <td>0.006502643</td>\n",
       "    </tr>\n",
       "    <tr>\n",
       "      <th>6</th>\n",
       "      <td>0.999986996</td>\n",
       "      <td>2.000000000</td>\n",
       "      <td>0.999997833</td>\n",
       "      <td>0.001083647</td>\n",
       "    </tr>\n",
       "    <tr>\n",
       "      <th>7</th>\n",
       "      <td>0.999997833</td>\n",
       "      <td>2.000000000</td>\n",
       "      <td>0.999999639</td>\n",
       "      <td>0.000180604</td>\n",
       "    </tr>\n",
       "    <tr>\n",
       "      <th>8</th>\n",
       "      <td>0.999999639</td>\n",
       "      <td>2.000000000</td>\n",
       "      <td>0.999999940</td>\n",
       "      <td>0.000030101</td>\n",
       "    </tr>\n",
       "    <tr>\n",
       "      <th>9</th>\n",
       "      <td>0.999999940</td>\n",
       "      <td>2.000000000</td>\n",
       "      <td>0.999999990</td>\n",
       "      <td>0.000005017</td>\n",
       "    </tr>\n",
       "    <tr>\n",
       "      <th>10</th>\n",
       "      <td>0.999999990</td>\n",
       "      <td>2.000000000</td>\n",
       "      <td>0.999999998</td>\n",
       "      <td>0.000000836</td>\n",
       "    </tr>\n",
       "    <tr>\n",
       "      <th>11</th>\n",
       "      <td>0.999999998</td>\n",
       "      <td>2.000000000</td>\n",
       "      <td>1.000000000</td>\n",
       "      <td>0.000000139</td>\n",
       "    </tr>\n",
       "    <tr>\n",
       "      <th>12</th>\n",
       "      <td>1.000000000</td>\n",
       "      <td>2.000000000</td>\n",
       "      <td>1.000000000</td>\n",
       "      <td>0.000000023</td>\n",
       "    </tr>\n",
       "    <tr>\n",
       "      <th>13</th>\n",
       "      <td>1.000000000</td>\n",
       "      <td>2.000000000</td>\n",
       "      <td>1.000000000</td>\n",
       "      <td>0.000000004</td>\n",
       "    </tr>\n",
       "    <tr>\n",
       "      <th>14</th>\n",
       "      <td>1.000000000</td>\n",
       "      <td>2.000000000</td>\n",
       "      <td>1.000000000</td>\n",
       "      <td>0.000000001</td>\n",
       "    </tr>\n",
       "    <tr>\n",
       "      <th>15</th>\n",
       "      <td>1.000000000</td>\n",
       "      <td>2.000000000</td>\n",
       "      <td>1.000000000</td>\n",
       "      <td>0.000000000</td>\n",
       "    </tr>\n",
       "    <tr>\n",
       "      <th>16</th>\n",
       "      <td>1.000000000</td>\n",
       "      <td>2.000000000</td>\n",
       "      <td>1.000000000</td>\n",
       "      <td>0.000000000</td>\n",
       "    </tr>\n",
       "  </tbody>\n",
       "</table>\n",
       "</div>"
      ],
      "text/plain": [
       "              a            b            x       Erro (%)\n",
       "0   2.000000000  0.000000000  0.875000000  100.000000000\n",
       "1   0.875000000  2.000000000  0.982725155   10.961880308\n",
       "2   0.982725155  2.000000000  0.997180101    1.449582228\n",
       "3   0.997180101  2.000000000  0.999531568    0.235256941\n",
       "4   0.999531568  2.000000000  0.999921971    0.039043299\n",
       "5   0.999921971  2.000000000  0.999986996    0.006502643\n",
       "6   0.999986996  2.000000000  0.999997833    0.001083647\n",
       "7   0.999997833  2.000000000  0.999999639    0.000180604\n",
       "8   0.999999639  2.000000000  0.999999940    0.000030101\n",
       "9   0.999999940  2.000000000  0.999999990    0.000005017\n",
       "10  0.999999990  2.000000000  0.999999998    0.000000836\n",
       "11  0.999999998  2.000000000  1.000000000    0.000000139\n",
       "12  1.000000000  2.000000000  1.000000000    0.000000023\n",
       "13  1.000000000  2.000000000  1.000000000    0.000000004\n",
       "14  1.000000000  2.000000000  1.000000000    0.000000001\n",
       "15  1.000000000  2.000000000  1.000000000    0.000000000\n",
       "16  1.000000000  2.000000000  1.000000000    0.000000000"
      ]
     },
     "execution_count": 27,
     "metadata": {},
     "output_type": "execute_result"
    }
   ],
   "source": [
    "x, i, tb = proposed_method(f5, fd5, a5, b5)\n",
    "comp_tb[0].append(cases(x))\n",
    "pd.DataFrame(tb, columns=cols)"
   ]
  },
  {
   "cell_type": "markdown",
   "id": "0d9b0dbe-0701-4979-914b-1c6e78c0e7ad",
   "metadata": {},
   "source": [
    "#### Tabela de Comparação Exemplo 5"
   ]
  },
  {
   "cell_type": "code",
   "execution_count": 28,
   "id": "244ed06c-6056-4eb8-b389-25a27427a981",
   "metadata": {},
   "outputs": [
    {
     "data": {
      "text/html": [
       "<div>\n",
       "<style scoped>\n",
       "    .dataframe tbody tr th:only-of-type {\n",
       "        vertical-align: middle;\n",
       "    }\n",
       "\n",
       "    .dataframe tbody tr th {\n",
       "        vertical-align: top;\n",
       "    }\n",
       "\n",
       "    .dataframe thead th {\n",
       "        text-align: right;\n",
       "    }\n",
       "</style>\n",
       "<table border=\"1\" class=\"dataframe\">\n",
       "  <thead>\n",
       "    <tr style=\"text-align: right;\">\n",
       "      <th></th>\n",
       "      <th>BM</th>\n",
       "      <th>R-F</th>\n",
       "      <th>N-R</th>\n",
       "      <th>PM</th>\n",
       "    </tr>\n",
       "  </thead>\n",
       "  <tbody>\n",
       "    <tr>\n",
       "      <th>0</th>\n",
       "      <td>1.000000000000</td>\n",
       "      <td>0.999999999979</td>\n",
       "      <td>0.000000000000</td>\n",
       "      <td>1.000000000000</td>\n",
       "    </tr>\n",
       "  </tbody>\n",
       "</table>\n",
       "</div>"
      ],
      "text/plain": [
       "               BM             R-F             N-R              PM\n",
       "0  1.000000000000  0.999999999979  0.000000000000  1.000000000000"
      ]
     },
     "execution_count": 28,
     "metadata": {},
     "output_type": "execute_result"
    }
   ],
   "source": [
    "pd.DataFrame(comp_tb, columns=comp_cols)"
   ]
  },
  {
   "cell_type": "markdown",
   "id": "374f6394-3f52-45ae-bab3-39b73a37a662",
   "metadata": {},
   "source": [
    "# Parte 2: Aplicação em Problema Real"
   ]
  },
  {
   "cell_type": "code",
   "execution_count": 29,
   "id": "6385ac73-1dfe-4b92-8770-088df3475ae0",
   "metadata": {},
   "outputs": [],
   "source": [
    "S = 7.01\n",
    "K = 7.5\n",
    "r = 0.0225\n",
    "T = 6 / 252"
   ]
  },
  {
   "cell_type": "markdown",
   "id": "40b3f11e-946c-4084-9d23-fed4082c9684",
   "metadata": {},
   "source": [
    "$$\n",
    "\\phi(x) = \\dfrac{1}{\\sqrt{2\\pi}} \\int^{x}_{-\\infty} e^{-t^2/2}dt.\n",
    "$$"
   ]
  },
  {
   "cell_type": "code",
   "execution_count": 30,
   "id": "abeee30b-1efc-4ad6-a9a7-f3ee5109dfa6",
   "metadata": {},
   "outputs": [],
   "source": [
    "stdnormal = stats.norm(loc=0, scale=1)\n",
    "phi = lambda x: stdnormal.cdf(x)"
   ]
  },
  {
   "cell_type": "markdown",
   "id": "88a3b5e5-15bd-466e-9ae2-90e78d1d5855",
   "metadata": {},
   "source": [
    "$$\n",
    "\\Bbb{d_1} = \\dfrac{log(S/K) + (r + \\sigma^2/2)T}{\\sigma\\sqrt{T}}\n",
    "$$"
   ]
  },
  {
   "cell_type": "code",
   "execution_count": 31,
   "id": "c586bc71-3474-4a95-840a-b322a43237d3",
   "metadata": {},
   "outputs": [],
   "source": [
    "d1 = lambda x: (np.log(S / K) + (r + x ** 2 / 2) * T) / (x * np.sqrt(T))"
   ]
  },
  {
   "cell_type": "markdown",
   "id": "cfe08ef2-1727-4f86-b709-c4b1ba916f4f",
   "metadata": {},
   "source": [
    "$$\n",
    "\\Bbb{d_2} = \\Bbb{d_1} - \\sigma\\sqrt{T}\n",
    "$$"
   ]
  },
  {
   "cell_type": "code",
   "execution_count": 32,
   "id": "ad76c725-c156-49db-bf45-9fd6f924f4cd",
   "metadata": {},
   "outputs": [],
   "source": [
    "d2 = lambda x: d1(x) - x * np.sqrt(T)"
   ]
  },
  {
   "cell_type": "markdown",
   "id": "1619321f-c5b1-4817-ba14-34b48b893a8c",
   "metadata": {},
   "source": [
    " "
   ]
  },
  {
   "cell_type": "markdown",
   "id": "cc931b16-cb2c-4888-94c8-c4affab356ca",
   "metadata": {},
   "source": [
    "$$ \n",
    "C = S\\phi(\\Bbb{d_1}) - Ke^{rT}\\phi(\\Bbb{d_2}) \n",
    "$$"
   ]
  },
  {
   "cell_type": "code",
   "execution_count": 33,
   "id": "4fc083c2-15db-4e9b-8b6e-e77863b5b2e3",
   "metadata": {},
   "outputs": [],
   "source": [
    "def c(x):\n",
    "    d1_temp = d1(x)\n",
    "    d2_temp = d2(x)\n",
    "    return S * phi(d1_temp) - K * np.exp(-r * T) * phi(d2_temp)"
   ]
  },
  {
   "cell_type": "markdown",
   "id": "17d83816-3487-4fdb-aea0-f956c77ab773",
   "metadata": {},
   "source": [
    "---"
   ]
  },
  {
   "cell_type": "markdown",
   "id": "12f384cf-7eb4-49b2-8cd7-fc6fcf464c91",
   "metadata": {},
   "source": [
    "$$\n",
    "\\dfrac{d\\Bbb{d_1}}{d\\sigma} = \\dfrac{d}{d\\sigma} \\Bigg( \\dfrac{log(S/K) + (r+\\sigma^2/2)T}{\\sigma\\sqrt{T}} \\Bigg)\n",
    "$$"
   ]
  },
  {
   "cell_type": "code",
   "execution_count": 34,
   "id": "5dda502b-0584-4ab9-bde7-3c4d01e9c4f1",
   "metadata": {},
   "outputs": [],
   "source": [
    "d1_ = lambda x: (np.log(S / K) + (r + x ** 2 / 2) * T) / (x * np.sqrt(T))"
   ]
  },
  {
   "cell_type": "markdown",
   "id": "464e1664-3afd-4598-9cbd-6f1c79516c97",
   "metadata": {},
   "source": [
    "$$\n",
    "\\dfrac{d\\Bbb{d_2}}{d\\sigma} = \\dfrac{d\\Bbb{d_1}}{d\\sigma} - \\sqrt{T}\n",
    "$$"
   ]
  },
  {
   "cell_type": "code",
   "execution_count": 35,
   "id": "1eab9044-1769-4e5c-bffe-8d302d239e41",
   "metadata": {},
   "outputs": [],
   "source": [
    "d2_ = lambda x: d1(x) - x * np.sqrt(T)"
   ]
  },
  {
   "cell_type": "markdown",
   "id": "c2767f9f-9b9b-4980-a2c4-4519aced4c34",
   "metadata": {},
   "source": [
    " "
   ]
  },
  {
   "cell_type": "markdown",
   "id": "c47fa317-3317-42ef-806a-eee1ac8ab51f",
   "metadata": {},
   "source": [
    "$$\n",
    "\\dfrac{dC}{d\\sigma} = \\dfrac{Se^{-\\dfrac{\\Bbb{d_1}}{2}^2}}{\\sqrt{2\\pi}} \\Bigg( \\sqrt{T} - \\dfrac{log(\\dfrac{S}{K} + (r + \\dfrac{\\sigma^2}{2})T}{\\sigma^2\\sqrt{T}} \\Bigg) + K \\dfrac{e^{-(rT+\\dfrac{\\Bbb{d_2}^2}{2})}}{\\sqrt(2\\pi)} \\Bigg( \\dfrac{log(\\dfrac{S}{K} + (r + \\dfrac{\\sigma^2}{2})T}{\\sigma^2\\sqrt(T)} \\Bigg)\n",
    "$$"
   ]
  },
  {
   "cell_type": "code",
   "execution_count": 36,
   "id": "7a1dbd2e-bcee-4ea3-b45b-65bd3a2669d8",
   "metadata": {},
   "outputs": [],
   "source": [
    "def cprime(x):\n",
    "    d1_temp = d1_(x)\n",
    "    d2_temp = d2_(x)\n",
    "    A = (np.log(S / K) + (r + x ** 2 / 2) * T) / (np.sqrt(T) * x ** 2)\n",
    "    return S * (np.exp(-d1_temp ** 2 / 2) / np.sqrt(2 * np.pi)) * (np.sqrt(T) - A) + K * np.exp(-(r * T + d2_temp ** 2 / 2)) * A / np.sqrt(2 * np.pi)"
   ]
  },
  {
   "cell_type": "markdown",
   "id": "8a128e78-f41c-4e73-8869-5dd7b60307b5",
   "metadata": {},
   "source": [
    "---"
   ]
  },
  {
   "cell_type": "code",
   "execution_count": 37,
   "id": "655c4805-ba4b-4545-814e-0f43c01ac08b",
   "metadata": {},
   "outputs": [],
   "source": [
    "# Variáveis Auxiliares\n",
    "ca = -1\n",
    "cb = 1\n",
    "cxtol = 1e-4\n",
    "cmaxit = 60\n",
    "func = lambda x: c(x)-0.1\n",
    "\n",
    "# Tabela de comparação\n",
    "comp_tb = [[]]\n",
    "comp_hd = ['BM', 'R-F', 'N-R', 'PM']\n",
    "cases = lambda x: f'{x:.12f}'"
   ]
  },
  {
   "cell_type": "markdown",
   "id": "109d452a-2502-43ef-977e-703534755857",
   "metadata": {},
   "source": [
    "---"
   ]
  },
  {
   "cell_type": "markdown",
   "id": "412e2d91-c63f-4111-ba15-b1dcacdeebf6",
   "metadata": {},
   "source": [
    "### Analisando Graficamente"
   ]
  },
  {
   "cell_type": "code",
   "execution_count": 38,
   "id": "268b95d2-df2a-40eb-8e09-76bc1030d47f",
   "metadata": {},
   "outputs": [
    {
     "data": {
      "image/png": "[encoded data removed]",
      "text/plain": [
       "<Figure size 432x432 with 1 Axes>"
      ]
     },
     "metadata": {
      "needs_background": "light"
     },
     "output_type": "display_data"
    }
   ],
   "source": [
    "x = np.linspace(-1, 1, 100)\n",
    "y = func(x)\n",
    "\n",
    "raiz1 = opt.root(func, -1)\n",
    "raiz2 = opt.root(func, 1)\n",
    "raizes = np.array([raiz1.x, raiz2.x])\n",
    "\n",
    "fig = plt.figure(figsize=(6, 6))\n",
    "ax = fig.add_subplot(111)\n",
    "\n",
    "ax.axhline(0, color='b')\n",
    "\n",
    "plt.vlines(x=raiz1.x, ymin=func(1), ymax=0, colors='gray', ls=':', lw=2)\n",
    "plt.vlines(x=raiz2.x, ymin=func(1), ymax=0, colors='gray', ls=':', lw=2)\n",
    "\n",
    "ax.plot(x, func(x), 'r', label=\"$f(x)$\")\n",
    "ax.plot(raizes, func(raizes), 'kv', label=\"$Raizes$\")\n",
    "\n",
    "ax.legend(loc='best')\n",
    "ax.set_xlabel('$x$')\n",
    "ax.set_ylabel('$f(x)$')\n",
    "\n",
    "plt.grid()\n",
    "plt.show()"
   ]
  },
  {
   "cell_type": "markdown",
   "id": "533e24bb-b318-4cc0-96f3-61fe3f97e796",
   "metadata": {},
   "source": [
    "---"
   ]
  },
  {
   "cell_type": "markdown",
   "id": "714325b6-2d5e-41cd-a14c-9be752a7c776",
   "metadata": {},
   "source": [
    "### Resultado de outros métodos para fins de comparação"
   ]
  },
  {
   "cell_type": "markdown",
   "id": "4300f923-f173-4b21-8cc5-833f7738ead2",
   "metadata": {},
   "source": [
    "#### Método da Bisseção [BM]"
   ]
  },
  {
   "cell_type": "code",
   "execution_count": 39,
   "id": "ec61fa80-c17e-4139-8348-5f71358b3908",
   "metadata": {},
   "outputs": [
    {
     "data": {
      "text/plain": [
       "      converged: True\n",
       "           flag: 'converged'\n",
       " function_calls: 42\n",
       "     iterations: 40\n",
       "           root: 0.623113839808866"
      ]
     },
     "execution_count": 39,
     "metadata": {},
     "output_type": "execute_result"
    }
   ],
   "source": [
    "comp_tb[0].append(cases(opt.root_scalar(func, bracket=[ca, cb], method='bisect').root))\n",
    "opt.root_scalar(func, bracket=[ca, cb], method='bisect') "
   ]
  },
  {
   "cell_type": "markdown",
   "id": "eacd7487-ed8f-4956-b0f3-cb425ba70f6f",
   "metadata": {},
   "source": [
    "#### Método da Falsa Posição [R-F]"
   ]
  },
  {
   "cell_type": "code",
   "execution_count": 40,
   "id": "6db2d635-542a-45ca-8219-df5a8a9e6d16",
   "metadata": {},
   "outputs": [
    {
     "data": {
      "image/png": "[encoded data removed]",
      "text/latex": [
       "$\\displaystyle \\left( 0.623113839832844, \\  20\\right)$"
      ],
      "text/plain": [
       "(0.6231138398328442, 20)"
      ]
     },
     "execution_count": 40,
     "metadata": {},
     "output_type": "execute_result"
    }
   ],
   "source": [
    "x, i = regula_falsi(func, ca, cb)\n",
    "comp_tb[0].append(cases(x))\n",
    "regula_falsi(func, ca, cb)"
   ]
  },
  {
   "cell_type": "markdown",
   "id": "208607ba-405a-488b-ac1a-9c112ced5320",
   "metadata": {},
   "source": [
    "#### Método de Newton-Raphson [N-R]"
   ]
  },
  {
   "cell_type": "code",
   "execution_count": 41,
   "id": "7f05890c-18e4-4822-89b5-7d95da5c326a",
   "metadata": {},
   "outputs": [
    {
     "data": {
      "text/plain": [
       "      converged: True\n",
       "           flag: 'converged'\n",
       " function_calls: 8\n",
       "     iterations: 4\n",
       "           root: 0.6231138398099891"
      ]
     },
     "execution_count": 41,
     "metadata": {},
     "output_type": "execute_result"
    }
   ],
   "source": [
    "comp_tb[0].append(cases(opt.root_scalar(func, fprime=cprime, x0=ca, xtol=cxtol, maxiter=cmaxit, method='newton').root))\n",
    "opt.root_scalar(func, fprime=cprime, x0=cb, xtol=cxtol, maxiter=cmaxit, method='newton')"
   ]
  },
  {
   "cell_type": "markdown",
   "id": "ae3b4131-8e6e-4139-aa6f-177eb7bff3db",
   "metadata": {},
   "source": [
    "---"
   ]
  },
  {
   "cell_type": "markdown",
   "id": "34a30f68-1a0c-490e-a7c0-36e3b6733a74",
   "metadata": {},
   "source": [
    "### Método Proposto"
   ]
  },
  {
   "cell_type": "code",
   "execution_count": 42,
   "id": "efd949fc-72c2-478b-87e9-e98f1b840dd6",
   "metadata": {},
   "outputs": [
    {
     "name": "stdout",
     "output_type": "stream",
     "text": [
      "-----------------------------------------------------------------------------------\n",
      "Erro abaixo da tolerância! A raíz encontrada foi 0.6231139305095494 em 8 iterações.\n",
      "-----------------------------------------------------------------------------------\n"
     ]
    },
    {
     "data": {
      "text/html": [
       "<div>\n",
       "<style scoped>\n",
       "    .dataframe tbody tr th:only-of-type {\n",
       "        vertical-align: middle;\n",
       "    }\n",
       "\n",
       "    .dataframe tbody tr th {\n",
       "        vertical-align: top;\n",
       "    }\n",
       "\n",
       "    .dataframe thead th {\n",
       "        text-align: right;\n",
       "    }\n",
       "</style>\n",
       "<table border=\"1\" class=\"dataframe\">\n",
       "  <thead>\n",
       "    <tr style=\"text-align: right;\">\n",
       "      <th></th>\n",
       "      <th>a</th>\n",
       "      <th>b</th>\n",
       "      <th>x</th>\n",
       "      <th>Erro (%)</th>\n",
       "    </tr>\n",
       "  </thead>\n",
       "  <tbody>\n",
       "    <tr>\n",
       "      <th>0</th>\n",
       "      <td>-1.000000000</td>\n",
       "      <td>1.000000000</td>\n",
       "      <td>0.877409622</td>\n",
       "      <td>213.971852453</td>\n",
       "    </tr>\n",
       "    <tr>\n",
       "      <th>1</th>\n",
       "      <td>0.877409622</td>\n",
       "      <td>-1.000000000</td>\n",
       "      <td>0.659606256</td>\n",
       "      <td>33.020209284</td>\n",
       "    </tr>\n",
       "    <tr>\n",
       "      <th>2</th>\n",
       "      <td>0.659606256</td>\n",
       "      <td>-1.000000000</td>\n",
       "      <td>0.628866955</td>\n",
       "      <td>4.888045196</td>\n",
       "    </tr>\n",
       "    <tr>\n",
       "      <th>3</th>\n",
       "      <td>0.628866955</td>\n",
       "      <td>-1.000000000</td>\n",
       "      <td>0.624024637</td>\n",
       "      <td>0.775981795</td>\n",
       "    </tr>\n",
       "    <tr>\n",
       "      <th>4</th>\n",
       "      <td>0.624024637</td>\n",
       "      <td>-1.000000000</td>\n",
       "      <td>0.623258067</td>\n",
       "      <td>0.122994028</td>\n",
       "    </tr>\n",
       "    <tr>\n",
       "      <th>5</th>\n",
       "      <td>0.623258067</td>\n",
       "      <td>-1.000000000</td>\n",
       "      <td>0.623136679</td>\n",
       "      <td>0.019480152</td>\n",
       "    </tr>\n",
       "    <tr>\n",
       "      <th>6</th>\n",
       "      <td>0.623136679</td>\n",
       "      <td>-1.000000000</td>\n",
       "      <td>0.623117457</td>\n",
       "      <td>0.003084915</td>\n",
       "    </tr>\n",
       "    <tr>\n",
       "      <th>7</th>\n",
       "      <td>0.623117457</td>\n",
       "      <td>-1.000000000</td>\n",
       "      <td>0.623114413</td>\n",
       "      <td>0.000488523</td>\n",
       "    </tr>\n",
       "    <tr>\n",
       "      <th>8</th>\n",
       "      <td>0.623114413</td>\n",
       "      <td>-1.000000000</td>\n",
       "      <td>0.623113931</td>\n",
       "      <td>0.000077362</td>\n",
       "    </tr>\n",
       "  </tbody>\n",
       "</table>\n",
       "</div>"
      ],
      "text/plain": [
       "              a             b            x       Erro (%)\n",
       "0  -1.000000000   1.000000000  0.877409622  213.971852453\n",
       "1   0.877409622  -1.000000000  0.659606256   33.020209284\n",
       "2   0.659606256  -1.000000000  0.628866955    4.888045196\n",
       "3   0.628866955  -1.000000000  0.624024637    0.775981795\n",
       "4   0.624024637  -1.000000000  0.623258067    0.122994028\n",
       "5   0.623258067  -1.000000000  0.623136679    0.019480152\n",
       "6   0.623136679  -1.000000000  0.623117457    0.003084915\n",
       "7   0.623117457  -1.000000000  0.623114413    0.000488523\n",
       "8   0.623114413  -1.000000000  0.623113931    0.000077362"
      ]
     },
     "execution_count": 42,
     "metadata": {},
     "output_type": "execute_result"
    }
   ],
   "source": [
    "x, i, tb = proposed_method(func, cprime, ca, cb, cxtol, cmaxit)\n",
    "comp_tb[0].append(cases(x))\n",
    "pd.DataFrame(tb, columns=cols)"
   ]
  },
  {
   "cell_type": "markdown",
   "id": "b17a4d96-1af0-4ec9-a09e-75c44e7a961d",
   "metadata": {},
   "source": [
    "---"
   ]
  },
  {
   "cell_type": "markdown",
   "id": "bdf585cf-4f37-42b4-933e-fcfad6098cd7",
   "metadata": {},
   "source": [
    "### Tabela de Comparação"
   ]
  },
  {
   "cell_type": "code",
   "execution_count": 43,
   "id": "6725bbf9-7272-4ba5-bd77-12c3e7a1e506",
   "metadata": {},
   "outputs": [
    {
     "data": {
      "text/html": [
       "<div>\n",
       "<style scoped>\n",
       "    .dataframe tbody tr th:only-of-type {\n",
       "        vertical-align: middle;\n",
       "    }\n",
       "\n",
       "    .dataframe tbody tr th {\n",
       "        vertical-align: top;\n",
       "    }\n",
       "\n",
       "    .dataframe thead th {\n",
       "        text-align: right;\n",
       "    }\n",
       "</style>\n",
       "<table border=\"1\" class=\"dataframe\">\n",
       "  <thead>\n",
       "    <tr style=\"text-align: right;\">\n",
       "      <th></th>\n",
       "      <th>BM</th>\n",
       "      <th>R-F</th>\n",
       "      <th>N-R</th>\n",
       "      <th>PM</th>\n",
       "    </tr>\n",
       "  </thead>\n",
       "  <tbody>\n",
       "    <tr>\n",
       "      <th>0</th>\n",
       "      <td>0.623113839809</td>\n",
       "      <td>0.623113839833</td>\n",
       "      <td>0.623113839810</td>\n",
       "      <td>0.623113930510</td>\n",
       "    </tr>\n",
       "  </tbody>\n",
       "</table>\n",
       "</div>"
      ],
      "text/plain": [
       "               BM             R-F             N-R              PM\n",
       "0  0.623113839809  0.623113839833  0.623113839810  0.623113930510"
      ]
     },
     "execution_count": 43,
     "metadata": {},
     "output_type": "execute_result"
    }
   ],
   "source": [
    "pd.DataFrame(comp_tb, columns=comp_hd)"
   ]
  }
 ],
 "metadata": {
  "kernelspec": {
   "display_name": "Python 3",
   "language": "python",
   "name": "python3"
  },
  "language_info": {
   "codemirror_mode": {
    "name": "ipython",
    "version": 3
   },
   "file_extension": ".py",
   "mimetype": "text/x-python",
   "name": "python",
   "nbconvert_exporter": "python",
   "pygments_lexer": "ipython3",
   "version": "3.8.8"
  }
 },
 "nbformat": 4,
 "nbformat_minor": 5
}
