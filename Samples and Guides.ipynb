{
 "cells": [
  {
   "cell_type": "markdown",
   "id": "25b0e827-5e4e-45f3-b5c9-c1ec6b6d4e2e",
   "metadata": {},
   "source": [
    "<h1 style=\"border: 1.5px solid #ccc; \n",
    "           padding: 8px 12px; \n",
    "           color:#5bcf9a;\"\n",
    "    >\n",
    "    <center><br> Markdown Syntax Collections </center>\n",
    "</h1>"
   ]
  },
  {
   "cell_type": "markdown",
   "id": "e3c67cab-3fcd-45a1-aa67-c5b2a57bad9b",
   "metadata": {},
   "source": [
    "# HEADINGs"
   ]
  },
  {
   "cell_type": "markdown",
   "id": "d0ef5cea-4256-417b-9e8a-10ae60d431e4",
   "metadata": {},
   "source": [
    "### *Markdown Syntax*"
   ]
  },
  {
   "cell_type": "markdown",
   "id": "7575d6df-2e05-4485-b499-448bcb89cd29",
   "metadata": {
    "tags": []
   },
   "source": [
    "```markdown\n",
    "# Header 1\n",
    "## Header 2\n",
    "### Header 3\n",
    "#### Header 4\n",
    "##### Header 5\n",
    "###### Header 6\n",
    "```"
   ]
  },
  {
   "cell_type": "markdown",
   "id": "15d13681-3305-41d0-866f-1b3f59397c98",
   "metadata": {},
   "source": [
    "# Header 1\n",
    "## Header 2\n",
    "### Header 3\n",
    "#### Header 4\n",
    "##### Header 5\n",
    "###### Header 6"
   ]
  },
  {
   "cell_type": "markdown",
   "id": "0752dd86-6fa0-4908-ab6a-d94f4e3ba249",
   "metadata": {},
   "source": [
    "  "
   ]
  },
  {
   "cell_type": "markdown",
   "id": "93cabb9e-a5c4-446e-8da9-fc4d7a7b1d78",
   "metadata": {},
   "source": [
    "### *Equivalent HTML Syntax*"
   ]
  },
  {
   "cell_type": "markdown",
   "id": "2aff84bc-3f0c-42ea-a7e1-72e4fa5201be",
   "metadata": {},
   "source": [
    "```html\n",
    "<h1>Header 1</h1>\n",
    "<h2>Header 2</h2>\n",
    "<h3>Header 3</h3>\n",
    "<h4>Header 4</h4>\n",
    "<h5>Header 5</h5>\n",
    "<h6>Header 6</h6>\n",
    "```"
   ]
  },
  {
   "cell_type": "markdown",
   "id": "d7bd3bf8-ab44-43fb-97da-bd15ce6b57e5",
   "metadata": {},
   "source": [
    "<h1>Header 1</h1>\n",
    "<h2>Header 2</h2>\n",
    "<h3>Header 3</h3>\n",
    "<h4>Header 4</h4>\n",
    "<h5>Header 5</h5>\n",
    "<h6>Header 6</h6>"
   ]
  },
  {
   "cell_type": "markdown",
   "id": "eb8279ae-208d-41df-a520-70ce5a446c1b",
   "metadata": {},
   "source": [
    "---"
   ]
  },
  {
   "cell_type": "markdown",
   "id": "c7017c7a-b01d-4fe4-8769-2a17545b8f23",
   "metadata": {},
   "source": [
    "# **TEXT EMPHASIS**"
   ]
  },
  {
   "cell_type": "markdown",
   "id": "ee813476-174a-43ed-9eab-24f9ef3f8c1e",
   "metadata": {},
   "source": [
    "## **BOLD**"
   ]
  },
  {
   "cell_type": "markdown",
   "id": "733dd32c-f0b2-427b-96ec-fed73ffd3ec2",
   "metadata": {},
   "source": [
    "### *Markdown Syntax*"
   ]
  },
  {
   "cell_type": "markdown",
   "id": "5d7fdceb-583e-4b76-84a8-414fcdf0ece6",
   "metadata": {},
   "source": [
    "```markdown\n",
    "**This is bold text**  \n",
    "__This is bold text__\n",
    "```"
   ]
  },
  {
   "cell_type": "markdown",
   "id": "53c0b2fa-5d5f-4cc7-a4db-6e98617ac78a",
   "metadata": {},
   "source": [
    "**This is bold text**  \n",
    "__This is bold text__"
   ]
  },
  {
   "cell_type": "markdown",
   "id": "a6a9b402-1dfd-4478-aa3f-5947a9c1c81d",
   "metadata": {},
   "source": [
    " "
   ]
  },
  {
   "cell_type": "markdown",
   "id": "6bfc56af-8e47-491e-bbe7-bfa58621aa66",
   "metadata": {},
   "source": [
    "#### Equivalent HTML Syntax"
   ]
  },
  {
   "cell_type": "markdown",
   "id": "0ede0b87-64af-4085-96af-4665b6496850",
   "metadata": {},
   "source": [
    "```html\n",
    "<strong>This is bold text</strong>\n",
    "```"
   ]
  },
  {
   "cell_type": "markdown",
   "id": "c6c59798-88fa-4464-8357-710f68f7750d",
   "metadata": {},
   "source": [
    "<strong>This is bold text</strong>"
   ]
  },
  {
   "cell_type": "markdown",
   "id": "5a9b46fb-06b7-452f-8916-2149fb2d64ac",
   "metadata": {},
   "source": [
    " "
   ]
  },
  {
   "cell_type": "markdown",
   "id": "51a2dbe6-3745-49f6-bf0b-7dc1fb413202",
   "metadata": {},
   "source": [
    "## *ITALIC*"
   ]
  },
  {
   "cell_type": "markdown",
   "id": "6546650f-b656-4cba-a4cd-cab3fe1e9215",
   "metadata": {},
   "source": [
    "### *Markdown Syntax*"
   ]
  },
  {
   "cell_type": "markdown",
   "id": "b2759edd-653b-45b3-b60c-75b192149bac",
   "metadata": {},
   "source": [
    "```markdown\n",
    "*This is italic text*  \n",
    "_This is italic text_\n",
    "```"
   ]
  },
  {
   "cell_type": "markdown",
   "id": "1edb8e6c-e4b8-428c-b254-3ea43f7b7464",
   "metadata": {},
   "source": [
    "*This is italic text*  \n",
    "_This is italic text_"
   ]
  },
  {
   "cell_type": "markdown",
   "id": "1987a136-9bfa-4eac-aee4-9cbb1ba126ee",
   "metadata": {},
   "source": [
    " "
   ]
  },
  {
   "cell_type": "markdown",
   "id": "6f027b31-6495-43f8-ac57-9c620a8637fc",
   "metadata": {},
   "source": [
    "#### Equivalent HTML Syntax"
   ]
  },
  {
   "cell_type": "markdown",
   "id": "3ee132d3-bb18-46ec-98a9-9f2ea6eb0c20",
   "metadata": {},
   "source": [
    "```html\n",
    "<em>This is italic text</em>\n",
    "```"
   ]
  },
  {
   "cell_type": "markdown",
   "id": "dc4c81b5-dc19-4a5c-a87f-a11f1d7ee27f",
   "metadata": {},
   "source": [
    "<em>This is italic text</em>"
   ]
  },
  {
   "cell_type": "markdown",
   "id": "a9914a6b-7efc-4d20-9b9d-851cbf50bac1",
   "metadata": {},
   "source": [
    "## **BOLD** & *ITALIC*"
   ]
  },
  {
   "cell_type": "markdown",
   "id": "2a8e2d81-27a0-4d08-bdfa-2c91ce4c44e5",
   "metadata": {},
   "source": [
    "### *Markdown Syntax*"
   ]
  },
  {
   "cell_type": "markdown",
   "id": "6a9d52ff-d68c-4ad8-847e-18078d2c2057",
   "metadata": {},
   "source": [
    "```markdown\n",
    "***Bold and Italic***  \n",
    "___Bold and Italic___\n",
    "```"
   ]
  },
  {
   "cell_type": "markdown",
   "id": "5b8769d1-77a6-4a75-964e-1c5de66add0a",
   "metadata": {},
   "source": [
    "***Bold and Italic***  \n",
    "___Bold and Italic___"
   ]
  },
  {
   "cell_type": "markdown",
   "id": "7dcbd111-37f4-43fa-80a2-6d04ea7f471f",
   "metadata": {},
   "source": [
    " "
   ]
  },
  {
   "cell_type": "markdown",
   "id": "8012e8db-4dbb-44cc-ae03-3c9fb1758085",
   "metadata": {},
   "source": [
    "#### Equivalent HTML Syntax"
   ]
  },
  {
   "cell_type": "markdown",
   "id": "39c06ff9-d3f5-4ac2-ae86-fcbc04c6d343",
   "metadata": {},
   "source": [
    "```html\n",
    "<strong><em> Bold and Italic </em></strong>\n",
    "```"
   ]
  },
  {
   "cell_type": "markdown",
   "id": "4910a4c4-eb44-490f-928f-218d0c80b543",
   "metadata": {},
   "source": [
    "<strong><em> Bold and Italic </em></strong>"
   ]
  },
  {
   "cell_type": "markdown",
   "id": "f63b8a33-848c-4441-a397-48ea0d584af4",
   "metadata": {},
   "source": [
    "---"
   ]
  },
  {
   "cell_type": "markdown",
   "id": "f6e36b48-a2ea-4ead-a30a-3335bbd4be45",
   "metadata": {},
   "source": [
    "# **BLOCKQUOTES**"
   ]
  },
  {
   "cell_type": "markdown",
   "id": "bf75d38e-d8bb-449a-886a-6cf1cfc15af7",
   "metadata": {},
   "source": [
    "### *Markdown Syntax*"
   ]
  },
  {
   "cell_type": "markdown",
   "id": "c578691d-6f18-407d-8b61-a9aaf026e165",
   "metadata": {},
   "source": [
    "```markdown\n",
    "> This is a blockquote\n",
    "```"
   ]
  },
  {
   "cell_type": "markdown",
   "id": "ae4e2b99-f301-4c03-a605-76abade3fe69",
   "metadata": {},
   "source": [
    "> This is a blockquote"
   ]
  },
  {
   "cell_type": "markdown",
   "id": "20b2ad62-abe4-428e-a4c9-fe162da9562a",
   "metadata": {},
   "source": [
    "#### Equivalent HTML Syntax"
   ]
  },
  {
   "cell_type": "markdown",
   "id": "b34b57c5-c0cb-4c89-92df-ab97e8532eeb",
   "metadata": {},
   "source": [
    "```html\n",
    "<blockquote>This is a blockquote</blockquote>\n",
    "```"
   ]
  },
  {
   "cell_type": "markdown",
   "id": "5de0ebd2-d75a-474b-b03d-94d28084023e",
   "metadata": {},
   "source": [
    "---"
   ]
  },
  {
   "cell_type": "markdown",
   "id": "c0c454f4-c1b8-4315-97b2-1fc77b43a427",
   "metadata": {},
   "source": [
    "## **NESTED BLOCK QUOTING**"
   ]
  },
  {
   "cell_type": "markdown",
   "id": "5bf4cdb4-b4d4-4829-92bd-202c476a6911",
   "metadata": {},
   "source": [
    "### *Markdown Syntax*"
   ]
  },
  {
   "cell_type": "markdown",
   "id": "f4823708-bc12-4d06-93b0-e085e6abd3c6",
   "metadata": {},
   "source": [
    "```markdown\n",
    "> some text\n",
    ">> and then some more text\n",
    ">>> and then some more\n",
    "```"
   ]
  },
  {
   "cell_type": "markdown",
   "id": "26475f6a-235f-40eb-baff-6ef048b4f5f5",
   "metadata": {},
   "source": [
    "> some text\n",
    ">> and then some more text\n",
    ">>> and then some more"
   ]
  },
  {
   "cell_type": "markdown",
   "id": "b58ddaca-cf14-470c-b74f-b321f063c5d4",
   "metadata": {},
   "source": [
    "#### Equivalent HTML Syntax"
   ]
  },
  {
   "cell_type": "markdown",
   "id": "e7316fe3-b9b9-4f94-8d16-a48286e9297d",
   "metadata": {},
   "source": [
    "```html\n",
    "<blockquote>\n",
    "<p>some text</p>\n",
    "<blockquote>\n",
    "<p>and then some more text</p>\n",
    "<blockquote>\n",
    "<p>and then some more</p>\n",
    "</blockquote>\n",
    "</blockquote>\n",
    "</blockquote>\n",
    "```"
   ]
  },
  {
   "cell_type": "markdown",
   "id": "90e469e9-8a48-4778-b1f3-76a2c15ee9e5",
   "metadata": {},
   "source": [
    "<blockquote>\n",
    "<p>some text</p>\n",
    "<blockquote>\n",
    "<p>and then some more text</p>\n",
    "<blockquote>\n",
    "<p>and then some more</p>\n",
    "</blockquote>\n",
    "</blockquote>\n",
    "</blockquote>"
   ]
  },
  {
   "cell_type": "markdown",
   "id": "d383b48b-9c42-4187-9ab2-2aa7a8523160",
   "metadata": {},
   "source": [
    "---"
   ]
  },
  {
   "cell_type": "markdown",
   "id": "e918fd61-0d2d-4baf-ac66-bcf0a2582246",
   "metadata": {},
   "source": [
    "## **HORIZONTAL LINE**"
   ]
  },
  {
   "cell_type": "markdown",
   "id": "f88b074d-9546-488c-a51f-71e2f0a46ae6",
   "metadata": {},
   "source": [
    "### *Markdown Syntax*"
   ]
  },
  {
   "cell_type": "markdown",
   "id": "bd2c014c-7c63-46ec-b84a-ba3598ac3a1b",
   "metadata": {},
   "source": [
    "```markdown\n",
    "---\n",
    "___\n",
    "***\n",
    "```"
   ]
  },
  {
   "cell_type": "markdown",
   "id": "713f0a77-5c45-47fe-ab9f-592f624b1152",
   "metadata": {},
   "source": [
    "---\n",
    "___\n",
    "***"
   ]
  },
  {
   "cell_type": "markdown",
   "id": "2441b3ac-55b4-49fd-bc43-af6b70f86263",
   "metadata": {},
   "source": [
    "#### Equivalent HTML Syntax"
   ]
  },
  {
   "cell_type": "markdown",
   "id": "90b5a517-9939-4646-a23c-3e6e900464aa",
   "metadata": {},
   "source": [
    "```html\n",
    "<hr>\n",
    "```"
   ]
  },
  {
   "cell_type": "markdown",
   "id": "73673646-07a7-463c-98f2-9fda80eac506",
   "metadata": {},
   "source": [
    "<hr>"
   ]
  },
  {
   "cell_type": "markdown",
   "id": "5032bdd1-0fa0-4cb4-ad98-b7c4b6832e24",
   "metadata": {},
   "source": [
    "---"
   ]
  },
  {
   "cell_type": "markdown",
   "id": "9649abda-1c4a-4ee4-aee4-861e9e0fdc8a",
   "metadata": {},
   "source": [
    "# **ORDERED LIST**"
   ]
  },
  {
   "cell_type": "markdown",
   "id": "4c0b7122-3e07-4c8b-9231-47d38a9574dd",
   "metadata": {},
   "source": [
    "### *Markdown Syntax*"
   ]
  },
  {
   "cell_type": "markdown",
   "id": "95ae46a3-3e03-4a68-a627-fd5707911af3",
   "metadata": {},
   "source": [
    "```markdown\n",
    "1. Cheese\n",
    "2. Carrot\n",
    "3. Coconut\n",
    "```"
   ]
  },
  {
   "cell_type": "markdown",
   "id": "f851e04e-439e-461c-b9d3-43eab83801bb",
   "metadata": {},
   "source": [
    "1. Cheese\n",
    "2. Carrot\n",
    "3. Coconut"
   ]
  },
  {
   "cell_type": "markdown",
   "id": "a250f5cd-a722-4335-954c-6882238f0623",
   "metadata": {},
   "source": [
    "### *Equivalent HTML Syntax*"
   ]
  },
  {
   "cell_type": "markdown",
   "id": "c1eb560c-157e-44ff-825f-bb57d8d412d8",
   "metadata": {},
   "source": [
    "```html\n",
    "<ol>\n",
    " <li>Cheese</li>\n",
    " <li>Carrot</li>\n",
    " <li>Coconut</li>\n",
    "</ol>\n",
    "```"
   ]
  },
  {
   "cell_type": "markdown",
   "id": "725e403a-cb25-45ba-91f3-510782b79594",
   "metadata": {},
   "source": [
    "<ol>\n",
    " <li>Cheese</li>\n",
    " <li>Carrot</li>\n",
    " <li>Coconut</li>\n",
    "</ol>"
   ]
  },
  {
   "cell_type": "markdown",
   "id": "0070d434-7902-4010-810b-03c326742967",
   "metadata": {},
   "source": [
    "---"
   ]
  },
  {
   "cell_type": "markdown",
   "id": "8ba34b45-e5ef-428a-842a-d67e2ff01833",
   "metadata": {},
   "source": [
    "# **UNORDERED LIST**"
   ]
  },
  {
   "cell_type": "markdown",
   "id": "67a6c7ac-e13e-4708-8231-a8b86d4a2cfd",
   "metadata": {},
   "source": [
    "## Markdown Syntax"
   ]
  },
  {
   "cell_type": "markdown",
   "id": "b5884a6d-8e21-469c-92da-4f5048689c52",
   "metadata": {},
   "source": [
    "```markdown\n",
    "- Cheese\n",
    "- Carrot\n",
    "- Coconut\n",
    "```"
   ]
  },
  {
   "cell_type": "markdown",
   "id": "de413b2f-663f-431e-942c-182e197e0a98",
   "metadata": {},
   "source": [
    "- Cheese\n",
    "- Carrot\n",
    "- Coconut"
   ]
  },
  {
   "cell_type": "markdown",
   "id": "22166eb8-84b3-4753-aa26-3074924eea1b",
   "metadata": {},
   "source": [
    "## Equivalent HTML Syntax"
   ]
  },
  {
   "cell_type": "markdown",
   "id": "b26881b8-092b-4c82-869b-2a6a86222578",
   "metadata": {},
   "source": [
    "```html\n",
    "<ul>\n",
    "    <li>Cheese</li>\n",
    "    <li>Carrot</li>\n",
    "    <li>Coconut</li>\n",
    "</ul>\n",
    "```"
   ]
  },
  {
   "cell_type": "markdown",
   "id": "2672adb1-93c6-437d-bde3-04d3f260d216",
   "metadata": {},
   "source": [
    "<ul>\n",
    "    <li>Cheese</li>\n",
    "    <li>Carrot</li>\n",
    "    <li>Coconut</li>\n",
    "</ul>"
   ]
  },
  {
   "cell_type": "markdown",
   "id": "8b39c14b-4888-4b8b-9695-422b037d8083",
   "metadata": {},
   "source": [
    "---"
   ]
  },
  {
   "cell_type": "markdown",
   "id": "9f873d10-e871-426f-badd-03965482a60d",
   "metadata": {},
   "source": [
    "# **GRAPHICS**\n",
    "\n",
    "You can attach graphics (such as images) to a notebook in Markdown cells.\n",
    "\n",
    "*Note1: You can also Drag and Drop your images to the Markdown cell to attach it to the notebook.* \\\n",
    "*Note2: Below I have used links to images on the web but you can very well use an offline image by adding the complete filename (plus the file path if it is in a different directory other then the Jupyter Notebook).*"
   ]
  },
  {
   "cell_type": "markdown",
   "id": "e529a044-f6fd-4b6a-b132-2b9d100df44d",
   "metadata": {},
   "source": [
    "## Markdown Syntax"
   ]
  },
  {
   "cell_type": "markdown",
   "id": "110a35d5-9644-4918-9124-ba2810dab8ea",
   "metadata": {},
   "source": [
    "```markdown\n",
    "![](https://www.python.org/static/community_logos/python-logo-master-v3-TM.png)\n",
    "```"
   ]
  },
  {
   "cell_type": "markdown",
   "id": "fd926d27-82ab-41cd-866c-46faa5bc1896",
   "metadata": {},
   "source": [
    "![](https://www.python.org/static/community_logos/python-logo-master-v3-TM.png)"
   ]
  },
  {
   "cell_type": "markdown",
   "id": "89f2a135-d149-4290-8fec-554737956c26",
   "metadata": {},
   "source": [
    "You can also use the reference-style format for the images:"
   ]
  },
  {
   "cell_type": "markdown",
   "id": "9a9f19b2-1280-413c-8dfc-eb544c3a6fcd",
   "metadata": {},
   "source": [
    "```markdown\n",
    "![][some-id]\n",
    "\n",
    "[some-id]: https://www.python.org/static/community_logos/python-logo-master-v3-TM.png \"Python Logo\"\n",
    "```"
   ]
  },
  {
   "cell_type": "markdown",
   "id": "47db401f-cad3-4ab0-86a7-ce3fec2ee5ef",
   "metadata": {},
   "source": [
    "![][some-id]\n",
    "\n",
    "[some-id]: https://www.python.org/static/community_logos/python-logo-master-v3-TM.png \"Python Logo\""
   ]
  },
  {
   "cell_type": "markdown",
   "id": "16389d22-1612-4641-86ab-f2b83c69bf2e",
   "metadata": {},
   "source": [
    "## Equivalent HTML Syntax"
   ]
  },
  {
   "cell_type": "markdown",
   "id": "9384da6c-96c6-4a89-a009-3b477d7d3949",
   "metadata": {},
   "source": [
    "```html\n",
    "<img src=\"https://www.python.org/static/community_logos/python-logo-master-v3-TM.png\" title=\"Python Logo\"/>\n",
    "```"
   ]
  },
  {
   "cell_type": "markdown",
   "id": "dbfc2798-7f0a-4231-a926-8d180e5dd613",
   "metadata": {},
   "source": [
    "<img src=\"https://www.python.org/static/community_logos/python-logo-master-v3-TM.png\" title=\"Python Logo\"/>"
   ]
  },
  {
   "cell_type": "markdown",
   "id": "b093ece6-38a7-4fa6-805a-0445c03001a7",
   "metadata": {},
   "source": [
    "---"
   ]
  },
  {
   "cell_type": "markdown",
   "id": "7022514d-852b-437d-8bab-4ff861a45468",
   "metadata": {},
   "source": [
    "# **HYPERLINKS**"
   ]
  },
  {
   "cell_type": "markdown",
   "id": "dc4ab84c-4c19-41a5-ac72-cb05fad27cf6",
   "metadata": {},
   "source": [
    "## Markdown Syntax"
   ]
  },
  {
   "cell_type": "markdown",
   "id": "a97db1b2-d7a0-4a19-aed9-58debb78c060",
   "metadata": {},
   "source": [
    "```markdown\n",
    "https://en.wikipedia.org\n",
    "```"
   ]
  },
  {
   "cell_type": "markdown",
   "id": "0bbddde0-8c30-4d60-9a38-8eb2aa1ae4fe",
   "metadata": {},
   "source": [
    "https://en.wikipedia.org\n"
   ]
  },
  {
   "cell_type": "markdown",
   "id": "40afbbc7-45e8-429c-91c8-29983087a620",
   "metadata": {},
   "source": [
    "## Equivalent HTML Syntax"
   ]
  },
  {
   "cell_type": "markdown",
   "id": "50dd9189-4aa4-44de-9480-3a5b7cc41072",
   "metadata": {},
   "source": [
    "```html\n",
    "<a href=\"https://en.wikipedia.org\">https://en.wikipedia.org</a>\n",
    "```"
   ]
  },
  {
   "cell_type": "markdown",
   "id": "8de83a65-367d-4fe5-bb5b-a41af7e79196",
   "metadata": {},
   "source": [
    "<a href=\"https://en.wikipedia.org\">https://en.wikipedia.org</a>"
   ]
  },
  {
   "cell_type": "markdown",
   "id": "9d24328d-3c89-4af9-b8a2-103fa29ef67a",
   "metadata": {},
   "source": [
    "---"
   ]
  },
  {
   "cell_type": "markdown",
   "id": "52c0ca8a-517b-4430-8093-c6bf80f4198c",
   "metadata": {},
   "source": [
    "# **STANDARD LINKS**"
   ]
  },
  {
   "cell_type": "markdown",
   "id": "7424cd47-d205-4e70-96cc-696dae0ce6e2",
   "metadata": {},
   "source": [
    "## Markdown Syntax"
   ]
  },
  {
   "cell_type": "markdown",
   "id": "3b4e96f7-cafb-4258-b75e-d3ea97bff647",
   "metadata": {},
   "source": [
    "```markdown\n",
    "[click me](https://en.wikipedia.org)\n",
    "```"
   ]
  },
  {
   "cell_type": "markdown",
   "id": "3f813f6e-ebab-43ee-88f3-011125c753f8",
   "metadata": {},
   "source": [
    "[click me](https://en.wikipedia.org)"
   ]
  },
  {
   "cell_type": "markdown",
   "id": "66f05835-10c7-4401-bcd0-1c267033d300",
   "metadata": {},
   "source": [
    "## Equivalent HTML Syntax"
   ]
  },
  {
   "cell_type": "markdown",
   "id": "ec01e3d0-bf3a-46af-92af-f59992063f62",
   "metadata": {},
   "source": [
    "```html\n",
    "<a href=\"https://en.wikipedia.org\">click me</a>\n",
    "```"
   ]
  },
  {
   "cell_type": "markdown",
   "id": "4fa76f83-e5b4-4d51-bf8c-7e0eecd67c30",
   "metadata": {},
   "source": [
    "<a href=\"https://en.wikipedia.org\">click me</a>"
   ]
  },
  {
   "cell_type": "markdown",
   "id": "01046fee-bfdd-42dd-9ef6-f3cdd2d4cd82",
   "metadata": {},
   "source": [
    "---"
   ]
  },
  {
   "cell_type": "markdown",
   "id": "e54ac092-2d02-46a0-b186-dc67b0e02102",
   "metadata": {},
   "source": [
    "# **STANDARD LINKS (WITH MOUSE-OVER TITLES)**"
   ]
  },
  {
   "cell_type": "markdown",
   "id": "3017f93c-00a5-41c5-a21f-fd16ef2dfc41",
   "metadata": {},
   "source": [
    "## Markdown Syntax"
   ]
  },
  {
   "cell_type": "markdown",
   "id": "29555a9f-4906-473e-818a-9a02f4090fa1",
   "metadata": {},
   "source": [
    "```markdown\n",
    "[click me](https://en.wikipedia.org \"Wikipedia\")\n",
    "```"
   ]
  },
  {
   "cell_type": "markdown",
   "id": "4ad40f08-c613-4634-851f-97749301a826",
   "metadata": {},
   "source": [
    "[click me](https://en.wikipedia.org \"Wikipedia\")"
   ]
  },
  {
   "cell_type": "markdown",
   "id": "10e8b0aa-e8bb-4b56-ae52-7a84f6f357ad",
   "metadata": {},
   "source": [
    "## Equivalent HTML Syntax"
   ]
  },
  {
   "cell_type": "markdown",
   "id": "64d06480-8634-4da4-9fc6-45c3ef8fb209",
   "metadata": {},
   "source": [
    "```html\n",
    "<a href=\"https://en.wikipedia.org\" title=”Wikipedia”>click me</a>\n",
    "```"
   ]
  },
  {
   "cell_type": "markdown",
   "id": "83f6e35f-8820-406c-ae84-d60fd3e3951d",
   "metadata": {},
   "source": [
    "<a href=\"https://en.wikipedia.org\" title=”Wikipedia”>click me</a>"
   ]
  },
  {
   "cell_type": "markdown",
   "id": "8e62be6f-3d48-4f28-9af7-a15e64eda868",
   "metadata": {},
   "source": [
    "---"
   ]
  },
  {
   "cell_type": "markdown",
   "id": "8340d2ee-62a1-4b65-b1b4-5dbd66cb22a2",
   "metadata": {},
   "source": [
    "# **REFERENCE-STYLE LINKS**"
   ]
  },
  {
   "cell_type": "markdown",
   "id": "bed01681-f2d5-459c-a942-3ef062b9990b",
   "metadata": {},
   "source": [
    "## Markdown Syntax"
   ]
  },
  {
   "cell_type": "markdown",
   "id": "b8bdae3e-ed90-45e1-9ced-a497e4a7af95",
   "metadata": {},
   "source": [
    "```markdown\n",
    "This is [a reference][id]\n",
    "\n",
    "[id]: https://en.wikipedia.org \"Wikipedia\"\n",
    "```"
   ]
  },
  {
   "cell_type": "markdown",
   "id": "ef5bd8d7-5619-4284-b489-15d5702ae310",
   "metadata": {},
   "source": [
    "This is [a reference][id]\n",
    "\n",
    "[id]: https://en.wikipedia.org \"Wikipedia\""
   ]
  },
  {
   "cell_type": "markdown",
   "id": "d637960c-9a8f-4a35-b427-d8630e037523",
   "metadata": {},
   "source": [
    "*Note: Link IDs are not case-sensitive.*\n",
    "\n",
    "You don’t really have to give your link an ID. If you use the words in the first set of brackets to later define the link, Markdown will understand it. This works as follows:"
   ]
  },
  {
   "cell_type": "markdown",
   "id": "7b6f7ef9-a5a6-4817-9de6-364bb15ed7c1",
   "metadata": {},
   "source": [
    "```markdown\n",
    "This is [a reference][]\n",
    "\n",
    "[a reference]: https://en.wikipedia.org \"Wikipedia\"\n",
    "```"
   ]
  },
  {
   "cell_type": "markdown",
   "id": "66f720b4-a0f3-437e-b2c5-fdf627ad5986",
   "metadata": {},
   "source": [
    "This is [a reference][]\n",
    "\n",
    "[a reference]: https://en.wikipedia.org \"Wikipedia\""
   ]
  },
  {
   "cell_type": "markdown",
   "id": "0cd6c713-3e75-49ea-b69e-7ead1b67da29",
   "metadata": {},
   "source": [
    "## Equivalent HTML Syntax"
   ]
  },
  {
   "cell_type": "markdown",
   "id": "8d19f854-bb55-485e-912d-871e542e7b45",
   "metadata": {},
   "source": [
    "```html\n",
    "This is <a href=\"https://en.wikipedia.org\" title=\"Wikipedia\">a reference</a>\n",
    "```"
   ]
  },
  {
   "cell_type": "markdown",
   "id": "bb506cd8-422f-4236-9a72-e4fc19fb36c9",
   "metadata": {},
   "source": [
    "This is <a href=\"https://en.wikipedia.org\" title=\"Wikipedia\">a reference</a>"
   ]
  },
  {
   "cell_type": "markdown",
   "id": "432bd3b5-6d0f-4578-a4e5-f4fe7eb910f2",
   "metadata": {},
   "source": [
    "---"
   ]
  },
  {
   "cell_type": "markdown",
   "id": "2e56760e-a54c-4bb8-bddd-f25b495e5c58",
   "metadata": {},
   "source": [
    "# **ANCHOR LINKS**\n",
    "\n",
    "An anchor link is a link on a page that brings you to a specific place on that page. In a Jupyter Notebook, it can be used to link to any section of the notebook for easy navigation.\n",
    "\n",
    "*Note: The ID used for the linking should be unique to avoid misdirection.*"
   ]
  },
  {
   "cell_type": "markdown",
   "id": "b6244b8f-cf97-4f28-bc3d-97192b274450",
   "metadata": {},
   "source": [
    "## Technique 1\n",
    "\n",
    "Create a new cell above the section you want to link to and add the following line of code:"
   ]
  },
  {
   "cell_type": "markdown",
   "id": "42ee4ef0-48c4-4d59-95bf-493103e80830",
   "metadata": {},
   "source": [
    "```markdown\n",
    "<a id=\"id\"></a>\n",
    "```"
   ]
  },
  {
   "cell_type": "markdown",
   "id": "7b8ecd97-388a-4e31-b1bf-f7b0657362fb",
   "metadata": {},
   "source": [
    "To create an anchor link that links to the above section, simply add the following line of code:"
   ]
  },
  {
   "cell_type": "markdown",
   "id": "11def880-0c52-49d2-a275-df53c1ff3aff",
   "metadata": {},
   "source": [
    "```markdown\n",
    "[Section title](#id)\n",
    "```"
   ]
  },
  {
   "cell_type": "markdown",
   "id": "9d952453-b89a-4614-92a3-6d15160498ef",
   "metadata": {},
   "source": [
    "## Technique 2\n",
    "\n",
    "If you have a section with the heading — My Great Heading then to add an anchor link to this section, simply add a hyphen in place of the blank space like below:"
   ]
  },
  {
   "cell_type": "markdown",
   "id": "c4818bd0-ff0f-4a84-8b98-2c97b4610f1b",
   "metadata": {},
   "source": [
    "```markdown\n",
    "[Section title](#My-Great-Heading)\n",
    "```"
   ]
  },
  {
   "cell_type": "markdown",
   "id": "1ae6cf1a-125f-4e7b-ac51-cd92b32d8dff",
   "metadata": {},
   "source": [
    "---"
   ]
  },
  {
   "cell_type": "markdown",
   "id": "e77a8ff1-ffd5-4e08-8a7d-c493132b878f",
   "metadata": {},
   "source": [
    "# **TASK LISTS**"
   ]
  },
  {
   "cell_type": "markdown",
   "id": "04f6a962-49d1-4ad0-91d2-842ded79ed9f",
   "metadata": {},
   "source": [
    "## Markdown Syntax"
   ]
  },
  {
   "cell_type": "markdown",
   "id": "a23ad225-f72e-449c-995d-49daa60cdea3",
   "metadata": {},
   "source": [
    "```markdown\n",
    "- [x] Some task\n",
    "\n",
    "- [ ] Some more task\n",
    "```"
   ]
  },
  {
   "cell_type": "markdown",
   "id": "485db380-e979-45a9-8a53-7b61fe7daaa7",
   "metadata": {},
   "source": [
    "- [x] Some task\n",
    "\n",
    "- [ ] Some more task"
   ]
  },
  {
   "cell_type": "markdown",
   "id": "6783d236-cb23-4837-a09c-d57b1d245e22",
   "metadata": {},
   "source": [
    "## Equivalent HTML Syntax"
   ]
  },
  {
   "cell_type": "markdown",
   "id": "2c6b1721-5d68-4b6b-9a39-2f18b2485c42",
   "metadata": {},
   "source": [
    "```html\n",
    "<input type=”checkbox” disabled checked> Some task\n",
    "\n",
    "<input type=”checkbox” disabled> Some more task\n",
    "```"
   ]
  },
  {
   "cell_type": "markdown",
   "id": "fd6221a6-cecc-4de2-bfec-03d029c9f6e2",
   "metadata": {},
   "source": [
    "<input type=”checkbox” disabled checked> Some task\n",
    "\n",
    "<input type=”checkbox” disabled> Some more task"
   ]
  },
  {
   "cell_type": "markdown",
   "id": "8d0b89dc-264a-48cf-838b-4584ce0f1dcc",
   "metadata": {},
   "source": [
    "---"
   ]
  },
  {
   "cell_type": "markdown",
   "id": "67ad75b4-5c64-4482-8353-8dd73ccd7e39",
   "metadata": {},
   "source": [
    "# **TABLE**"
   ]
  },
  {
   "cell_type": "markdown",
   "id": "66e73010-0342-4d23-992b-2874e638ff2a",
   "metadata": {},
   "source": [
    "## Markdown Syntax"
   ]
  },
  {
   "cell_type": "markdown",
   "id": "44ec1e73-b462-4813-82ed-2c8a5f8eee56",
   "metadata": {},
   "source": [
    "```markdown\n",
    "|Header|Header|Header|\n",
    "|------|------|------|\n",
    "|A     |B     |C     |\n",
    "|X     |Y     |Z     |\n",
    "```"
   ]
  },
  {
   "cell_type": "markdown",
   "id": "68f329be-5f39-4eab-a24a-f12093b63e36",
   "metadata": {},
   "source": [
    "|Header|Header|Header|\n",
    "|------|------|------|\n",
    "|A     |B     |C     |\n",
    "|X     |Y     |Z     |"
   ]
  },
  {
   "cell_type": "markdown",
   "id": "e76c078f-7ec0-44ed-b07f-cd080e1ed246",
   "metadata": {},
   "source": [
    "*Note: It is not important to add spaces after each text, roughly aligning with the columns will do just fine. Also, the number of dashes is irrelevant and is just cosmetical.*\n",
    "\n",
    "The text in each header and cell of a table will by default justify to the right.\n",
    "\n",
    "For manually changing the justification, you can use:\n",
    "\n",
    "Use `:-:` for centered \\\n",
    "Use `—` for right centered \\\n",
    "Use `:-` for left centered"
   ]
  },
  {
   "cell_type": "markdown",
   "id": "86ccb4cd-f4db-4f6c-b4d8-edf8f6597656",
   "metadata": {},
   "source": [
    "| Right| Center | Left  |\n",
    "|------|:------:|------:|\n",
    "|A     |B       |C      |\n",
    "|X     |Y       |Z      |"
   ]
  },
  {
   "cell_type": "markdown",
   "id": "7270429b-1bee-44d8-9bf0-b8da57697dd0",
   "metadata": {},
   "source": [
    "## Equivalent HTML Syntax"
   ]
  },
  {
   "cell_type": "markdown",
   "id": "18804b40-d292-4367-b7df-e9fbe412774f",
   "metadata": {},
   "source": [
    "```html\n",
    "<table>\n",
    "    <thead>\n",
    "        <tr><th>Header</th><th>Header</th><th>Header</th></tr>\n",
    "    </thead>\n",
    "    <tbody>\n",
    "        <tr><td>A</td><td>B</td><td>C</td></tr>\n",
    "        <tr><td>X</td><td>Y</td><td>Z</td></tr>\n",
    "    </tbody>\n",
    "</table>\n",
    "```"
   ]
  },
  {
   "cell_type": "markdown",
   "id": "336bcfea-bcc3-4e17-97d3-9b5c1a8fd29e",
   "metadata": {},
   "source": [
    "<table>\n",
    "    <thead>\n",
    "        <tr><th>Header</th><th>Header</th><th>Header</th></tr>\n",
    "    </thead>\n",
    "    <tbody>\n",
    "        <tr><td>A</td><td>B</td><td>C</td></tr>\n",
    "        <tr><td>X</td><td>Y</td><td>Z</td></tr>\n",
    "    </tbody>\n",
    "</table>"
   ]
  },
  {
   "cell_type": "markdown",
   "id": "5f6c1831-0d25-4d91-8fb8-b8e140863d7b",
   "metadata": {},
   "source": [
    "---"
   ]
  },
  {
   "cell_type": "markdown",
   "id": "7aa3bc4f-c536-4b81-aa63-bdf976e0bfa4",
   "metadata": {},
   "source": [
    "# **INLINE HTML**"
   ]
  },
  {
   "cell_type": "markdown",
   "id": "d3a39189-69be-4188-9781-0368041dc4f5",
   "metadata": {},
   "source": [
    "## TEXT COLOR"
   ]
  },
  {
   "cell_type": "markdown",
   "id": "877d4aef-66df-4eff-a2c8-66ab87e70dc5",
   "metadata": {},
   "source": [
    "```html\n",
    "<span style=\"color:color\">Text</span>\n",
    "```"
   ]
  },
  {
   "cell_type": "markdown",
   "id": "11f00817-9268-43a2-8acd-3ad04c8f67f7",
   "metadata": {},
   "source": [
    "Where color = `blue|red|green|pink|yellow`\n",
    "\n",
    "For a list of all the supported color names, checkout [HTML Color Names](https://www.w3schools.com/colors/colors_names.asp).\n",
    "\n",
    "You can use also use the HEX color codes for customizing the text color."
   ]
  },
  {
   "cell_type": "markdown",
   "id": "abd7d8a0-1d0e-49fe-9b1c-156ee37731fa",
   "metadata": {},
   "source": [
    "<span style=\"color:red\">Text</span>"
   ]
  },
  {
   "cell_type": "markdown",
   "id": "5d70079d-2771-487a-94cc-a2a3331f37e7",
   "metadata": {},
   "source": [
    "## TEXT FONT FAMILY\n",
    "\n",
    "For a list of some commonly used fonts, checkout [CSS Font Family List](https://www.tutorialbrain.com/css_tutorial/css_font_family_list/)."
   ]
  },
  {
   "cell_type": "markdown",
   "id": "676f2d7f-180c-46a3-a0f5-2c987ab11747",
   "metadata": {},
   "source": [
    "```html\n",
    "<span style=\"font-family:Comic Sans MS\">This is a text</span>\n",
    "```"
   ]
  },
  {
   "cell_type": "markdown",
   "id": "e64d6f20-0f44-4f7a-b015-f268157963cd",
   "metadata": {},
   "source": [
    "<span style=\"font-family:Comic Sans MS\">This is a text</span>"
   ]
  },
  {
   "cell_type": "markdown",
   "id": "befe1fba-e33e-4ee9-8968-ec3995fa13e3",
   "metadata": {},
   "source": [
    "## COLORED NOTE BOXES\n",
    "\n",
    "Use one of the following <div> tags to display text in a colored box. The color of the box is determined by the alert type that is specified."
   ]
  },
  {
   "cell_type": "markdown",
   "id": "092291df-7afc-4e1c-a5f8-4203dc84caf6",
   "metadata": {},
   "source": [
    "### Blue boxes (alert-info)"
   ]
  },
  {
   "cell_type": "markdown",
   "id": "e1b8076f-af5a-444a-9c49-6705a82693df",
   "metadata": {},
   "source": [
    "```markdown\n",
    "<div class=\"alert alert-block alert-info\">\n",
    "    \n",
    "<b>Tip:</b> Use blue boxes (alert-info) for tips and notes.</div>\n",
    "```"
   ]
  },
  {
   "cell_type": "markdown",
   "id": "71cc73a0-4493-4961-800b-6c867543bf3b",
   "metadata": {},
   "source": [
    "<div class=\"alert alert-block alert-info\">\n",
    "    \n",
    "<b>Tip:</b> Use blue boxes (alert-info) for tips and notes.</div>"
   ]
  },
  {
   "cell_type": "markdown",
   "id": "c5760135-45cd-48b7-a24e-a5b4a2619278",
   "metadata": {},
   "source": [
    "### Yellow boxes (alert-warning)"
   ]
  },
  {
   "cell_type": "markdown",
   "id": "f7d93c3a-2591-4106-8b99-4bba506e58aa",
   "metadata": {},
   "source": [
    "```markdown\n",
    "<div class=\"alert alert-block alert-warning\">\n",
    "    <b>Example:</b> Use yellow boxes for examples that are not inside code cells, or use for mathematical formulas if needed. Typically also used to display warning messages.\n",
    "</div>\n",
    "```"
   ]
  },
  {
   "cell_type": "markdown",
   "id": "7e97cd03-ec8b-4d0f-951a-dc3dbc5d078c",
   "metadata": {},
   "source": [
    "<div class=\"alert alert-block alert-warning\">\n",
    "    <b>Example:</b> Use yellow boxes for examples that are not inside code cells, or use for mathematical formulas if needed. Typically also used to display warning messages.\n",
    "</div>"
   ]
  },
  {
   "cell_type": "markdown",
   "id": "9f90dd1c-0142-4dc9-b873-d5b813f9f582",
   "metadata": {},
   "source": [
    "### Green boxes (alert-success)"
   ]
  },
  {
   "cell_type": "markdown",
   "id": "1f0d7d02-9f56-4fe6-aa0b-2fd10e7bc6d0",
   "metadata": {},
   "source": [
    "```markdown\n",
    "<div class=\"alert alert-block alert-success\">\n",
    "    <b>Success:</b> This alert box indicates a successful or positive action.\n",
    "</div>\n",
    "```"
   ]
  },
  {
   "cell_type": "markdown",
   "id": "d7226236-63f5-4e10-b4f4-93d6b64f15d7",
   "metadata": {},
   "source": [
    "<div class=\"alert alert-block alert-success\">\n",
    "    <b>Success:</b> This alert box indicates a successful or positive action.\n",
    "</div>"
   ]
  },
  {
   "cell_type": "markdown",
   "id": "e4915d97-7afc-4e35-9bd3-740cf09e92fe",
   "metadata": {},
   "source": [
    "### Red boxes (alert-danger)"
   ]
  },
  {
   "cell_type": "markdown",
   "id": "247f69a7-4bb6-4aca-9f0e-6ba9270f86c8",
   "metadata": {},
   "source": [
    "```markdown\n",
    "<div class=\"alert alert-block alert-danger\">\n",
    "    <b>Danger:</b> This alert box indicates a dangerous or potentially negative action.\n",
    "</div>\n",
    "```"
   ]
  },
  {
   "cell_type": "markdown",
   "id": "fbdec07a-1db2-4dd7-a15f-54f18d3b4d3a",
   "metadata": {},
   "source": [
    "<div class=\"alert alert-block alert-danger\">\n",
    "    <b>Danger:</b> This alert box indicates a dangerous or potentially negative action.\n",
    "</div>"
   ]
  },
  {
   "cell_type": "markdown",
   "id": "f27f9d21-9bc7-45af-9669-3feaf99b404a",
   "metadata": {},
   "source": [
    "## CELL BACKGROUND COLOR"
   ]
  },
  {
   "cell_type": "markdown",
   "id": "7b493b4f-5e6f-47a0-b0ac-8a0e146d616a",
   "metadata": {},
   "source": [
    "```markdown\n",
    "<code style=\"background:yellow;color:black\">Useful for highlighting to grab the attention of the reader towards certain points.</code>\n",
    "```"
   ]
  },
  {
   "cell_type": "markdown",
   "id": "7c344d34-c81e-4982-a416-7f529f42b699",
   "metadata": {},
   "source": [
    "<code style=\"background:yellow;color:black\">Useful for highlighting to grab the attention of the reader towards certain points.</code>"
   ]
  },
  {
   "cell_type": "markdown",
   "id": "3acfc6d0-1ae4-498a-8d4c-37907291b894",
   "metadata": {},
   "source": [
    "### TERMINAL CODE STYLE"
   ]
  },
  {
   "cell_type": "markdown",
   "id": "1d20ca29-c378-47ca-b015-d54d50dae734",
   "metadata": {},
   "source": [
    "```markdown\n",
    "<p style=\"background:black\">\n",
    "    <code style=\"background:black;color:white\">C:\\Users\\YOUR_USERNAME> pip3 install roughviz</code>\n",
    "</p>\n",
    "```"
   ]
  },
  {
   "cell_type": "markdown",
   "id": "f42de16b-449e-438d-a5a2-1328600847fb",
   "metadata": {},
   "source": [
    "<p style=\"background:black\">\n",
    "    <code style=\"background:black;color:white\">C:\\Users\\YOUR_USERNAME> pip3 install roughviz</code>\n",
    "</p>"
   ]
  },
  {
   "cell_type": "markdown",
   "id": "a567d75d-9105-4e92-9f7c-0548ba893e19",
   "metadata": {},
   "source": [
    "## HTML MARK TAG"
   ]
  },
  {
   "cell_type": "markdown",
   "id": "aaa19773-62da-4c05-8732-879c652881ca",
   "metadata": {},
   "source": [
    "```markdown\n",
    "Do not forget to buy <mark>milk</mark> today.\n",
    "```"
   ]
  },
  {
   "cell_type": "markdown",
   "id": "fc600c8f-e406-4856-9941-de8578efbd96",
   "metadata": {},
   "source": [
    "Do not forget to buy <mark>milk</mark> today."
   ]
  },
  {
   "cell_type": "markdown",
   "id": "1694fa77-c869-4e11-94c4-aea6def02bba",
   "metadata": {},
   "source": [
    "## DEFINITION LISTS"
   ]
  },
  {
   "cell_type": "markdown",
   "id": "78e06d0f-2999-4512-bbca-69472953cbdf",
   "metadata": {},
   "source": [
    "```markdown\n",
    "<dl>\n",
    "    <dt>First Term</dt>\n",
    "    <dd>This is the definition of the first term.</dd>\n",
    "    \n",
    "    <dt>Second Term</dt>\n",
    "    <dd>This is one definition of the second term. </dd>\n",
    "    <dd>This is another definition of the second term.</dd>\n",
    "</dl>\n",
    "``` "
   ]
  },
  {
   "cell_type": "markdown",
   "id": "00ba226f-a86f-4794-b112-743d7f7bce70",
   "metadata": {},
   "source": [
    "<dl>\n",
    "    <dt>First Term</dt>\n",
    "    <dd>This is the definition of the first term.</dd>\n",
    "    \n",
    "    <dt>Second Term</dt>\n",
    "    <dd>This is one definition of the second term. </dd>\n",
    "    <dd>This is another definition of the second term.</dd>\n",
    "</dl>"
   ]
  },
  {
   "cell_type": "markdown",
   "id": "57c74c3a-0a28-465a-9a04-c570a8f84ac3",
   "metadata": {},
   "source": [
    "## NAVIGATION MENU"
   ]
  },
  {
   "cell_type": "markdown",
   "id": "6d7a30b0-fd8d-4cc0-99e1-05d8cda3d9e2",
   "metadata": {},
   "source": [
    "```markdown\n",
    "<nav>\n",
    "    <a href=”https://www.google.com\">LinkedIn</a> |\n",
    "    <a href=”/css/”>Github</a> |\n",
    "    <a href=”/js/”>Medium</a> |\n",
    "</nav>\n",
    "```"
   ]
  },
  {
   "cell_type": "markdown",
   "id": "6713f4b3-81f3-4c28-8481-4470ec8888a9",
   "metadata": {},
   "source": [
    "<nav>\n",
    "    <a href=”https://www.google.com\">LinkedIn</a> |\n",
    "    <a href=”/css/”>Github</a> |\n",
    "    <a href=”/js/”>Medium</a> |\n",
    "</nav>"
   ]
  },
  {
   "cell_type": "markdown",
   "id": "beab3557-da98-4cdf-8b84-aecc83c2ffcf",
   "metadata": {},
   "source": [
    "---"
   ]
  },
  {
   "cell_type": "markdown",
   "id": "adac2597-fa74-4cb3-b5d0-b757448eae8d",
   "metadata": {},
   "source": [
    "# LaTeX MATH"
   ]
  },
  {
   "cell_type": "markdown",
   "id": "6313d78e-54d0-4881-a7d3-87b8977f7c14",
   "metadata": {},
   "source": [
    "```markdown\n",
    "$\\sqrt{k}$\n",
    "```"
   ]
  },
  {
   "cell_type": "markdown",
   "id": "c1a06655-f37b-4bff-ba3e-4e70a3ccf6d3",
   "metadata": {},
   "source": [
    "$\\sqrt{k}$"
   ]
  },
  {
   "cell_type": "markdown",
   "id": "42f33bf7-84ae-4578-bc15-16328d82fc21",
   "metadata": {},
   "source": [
    "---"
   ]
  },
  {
   "cell_type": "markdown",
   "id": "3ee7342c-fd71-4252-996a-ae2d00e54e93",
   "metadata": {},
   "source": [
    "# GEOMETRIC SHAPES"
   ]
  },
  {
   "cell_type": "markdown",
   "id": "9c9b5161-341f-420a-b017-66dae199b129",
   "metadata": {},
   "source": [
    "```markdown\n",
    "&#reference_number;\n",
    "```"
   ]
  },
  {
   "cell_type": "markdown",
   "id": "fa27faa1-7ad1-409f-8c75-1be11866df2c",
   "metadata": {},
   "source": [
    "Use this code with a decimal or hex reference number from here: [UTF-8 Geometric shapes](http://www.w3schools.com/charsets/ref_utf_geometric.asp)"
   ]
  },
  {
   "cell_type": "markdown",
   "id": "4e944606-f797-45d9-9846-7ca0a55f1b3f",
   "metadata": {},
   "source": [
    "&#9654;"
   ]
  },
  {
   "cell_type": "markdown",
   "id": "efe7b00e-3b04-4ae5-b00f-c4e0b9c98356",
   "metadata": {},
   "source": [
    "&#9642; &#9718; &#9708; &#9677; &#9674; &#9648; &#9640;"
   ]
  },
  {
   "cell_type": "code",
   "execution_count": null,
   "id": "e1eea458-45c5-45e9-ab4b-8ca73fc14789",
   "metadata": {},
   "outputs": [],
   "source": []
  }
 ],
 "metadata": {
  "kernelspec": {
   "display_name": "Python 3",
   "language": "python",
   "name": "python3"
  },
  "language_info": {
   "codemirror_mode": {
    "name": "ipython",
    "version": 3
   },
   "file_extension": ".py",
   "mimetype": "text/x-python",
   "name": "python",
   "nbconvert_exporter": "python",
   "pygments_lexer": "ipython3",
   "version": "3.8.8"
  }
 },
 "nbformat": 4,
 "nbformat_minor": 5
}
