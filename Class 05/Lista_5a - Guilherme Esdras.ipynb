{
 "cells": [
  {
   "cell_type": "markdown",
   "id": "a96ff125-f664-4067-b359-1486d040aaf4",
   "metadata": {},
   "source": [
    "<h1 style=\"border: 1.5px solid #ccc; \n",
    "           padding: 8px 12px; \n",
    "           color:#56BFCB;\"\n",
    "    >\n",
    "    <center> <br/>\n",
    "        Lista de Exercícios 5a <br/>\n",
    "        <span style=\"font-size:18px;\"> Guilherme Esdras </span>\n",
    "    </center>\n",
    "</h1>"
   ]
  },
  {
   "cell_type": "markdown",
   "id": "81965d4d-88c0-4540-9a06-3fb894d60e92",
   "metadata": {},
   "source": [
    "---"
   ]
  },
  {
   "cell_type": "markdown",
   "id": "060e0e72-f889-49bf-9465-eef0036f2f69",
   "metadata": {},
   "source": [
    "<b>\n",
    "    <center>\n",
    "        Imports\n",
    "    </center>\n",
    "</b>"
   ]
  },
  {
   "cell_type": "code",
   "execution_count": 1,
   "id": "3e52be9d-78c1-4583-905d-72b9e29def07",
   "metadata": {},
   "outputs": [],
   "source": [
    "import numpy as np\n",
    "import pandas as pd\n",
    "from scipy import optimize as opt\n",
    "\n",
    "import matplotlib as mpl\n",
    "import matplotlib.pyplot as plt\n",
    "%matplotlib inline\n",
    "plt.style.use('seaborn-poster')\n",
    "\n",
    "import sympy as sp\n",
    "sp.init_printing()"
   ]
  },
  {
   "cell_type": "markdown",
   "id": "d96e88d7-d45c-43dd-b760-a07af1aeaf23",
   "metadata": {},
   "source": [
    "---"
   ]
  },
  {
   "cell_type": "markdown",
   "id": "739b799e-8a0b-4a06-bc78-7816b2c14ba5",
   "metadata": {},
   "source": [
    "<div class=\"alert alert-block alert-info\" style=\"color:#20484d;\">\n",
    "    <b>Exercicio 1:</b> Implemente os algoritmos da iteração de ponto fixo, Newton-Raphson e secante usando somente a biblioteca Numpy.\n",
    "</div>"
   ]
  },
  {
   "cell_type": "markdown",
   "id": "9ad6fad2-992f-4100-a48b-410ecdd7b221",
   "metadata": {},
   "source": [
    "**Funções de teste:**"
   ]
  },
  {
   "cell_type": "code",
   "execution_count": 2,
   "id": "b7b2561f-8bc2-4af7-a258-6112124bbf90",
   "metadata": {},
   "outputs": [],
   "source": [
    "g_aula = lambda x: np.exp(-x)\n",
    "g_aula_x0 = 0\n",
    "\n",
    "fn_youtube = lambda x: np.cos(x) - np.sin(x)\n",
    "fD_youtube = lambda x: -np.sin(x) - np.cos(x)\n",
    "er_youtube = 0.01\n",
    "x0_youtube = 0\n",
    "x1_youtube = np.pi/2\n",
    "\n",
    "f_aula = lambda x: np.sin(x) - x\n",
    "f_aula_x1 = 0.7\n",
    "f_aula_x0 = 0.8"
   ]
  },
  {
   "cell_type": "markdown",
   "id": "6c81d0be-acbc-43a6-ada2-2776f629b8f7",
   "metadata": {},
   "source": [
    " "
   ]
  },
  {
   "cell_type": "markdown",
   "id": "d7ad6a0f-eabf-4913-bf72-151d9507858d",
   "metadata": {},
   "source": [
    "<div class=\"alert alert-block alert-info\" style=\"color:Blue;\">\n",
    "    Método da Iteração de Ponto Fixo\n",
    "</div> "
   ]
  },
  {
   "cell_type": "code",
   "execution_count": 3,
   "id": "e6a142be-c892-4648-8eb8-dd519bec7bcf",
   "metadata": {
    "tags": []
   },
   "outputs": [],
   "source": [
    "def ponto_fixo(f, x0, maxiter=1000, xtol=1e-10, verbose=True, r_tb=False, p_tb=False):\n",
    "\n",
    "    ''' Opcional... '''\n",
    "    if r_tb or p_tb: tb = []\n",
    "        \n",
    "    i = 0 # contador de iterações\n",
    "    \n",
    "    while i < maxiter:\n",
    "        # enquanto tanto o erro quanto o número de iterações não extrapolarem os limites estabelecidos...\n",
    "        \n",
    "        y = f(x0) # calcula f(x0) e atribui a y\n",
    "        \n",
    "        # calcula o erro abs\n",
    "        erro = np.abs(x0 - y)\n",
    "        \n",
    "        ''' Opcional... ''' \n",
    "        if r_tb or p_tb: tb.append([]); tb[i].append(x0); tb[i].append(y); tb[i].append(erro); tb[i].append(xtol);\n",
    "        \n",
    "        if erro < xtol:\n",
    "            msg = f'Raiz encontrada: {x0} | Em {i} iterações'\n",
    "            \n",
    "            if verbose:\n",
    "                print('-'*len(msg))\n",
    "                print(msg)\n",
    "                print('-'*len(msg))\n",
    "            \n",
    "            ''' Opcional... '''\n",
    "            if p_tb:\n",
    "                print(pd.DataFrame(tb, columns=[\"x0\", \"f(x0)\", \"Erro\", \"xtol\"]))\n",
    "                print('-'*len(msg))\n",
    "            ''' ----------- '''\n",
    "            \n",
    "            # retorna a raiz e o número de iterações\n",
    "            if r_tb:\n",
    "                return x0, i, tb\n",
    "            else:\n",
    "                return x0, i\n",
    "        \n",
    "        x0 = y # atualiza o valor de x0 com o atual y\n",
    "        i += 1 # incrementa contador\n",
    "    \n",
    "    if verbose: print(\"Número de iterações extrapolou o limite sem encontrar a raíz!\")\n",
    "    if r_tb: return False, False, tb\n",
    "    return None # saiu do while sem encontrar uma solução"
   ]
  },
  {
   "cell_type": "code",
   "execution_count": 4,
   "id": "dd83c2c3-3eee-42e6-a56b-d398a907c687",
   "metadata": {
    "collapsed": true,
    "jupyter": {
     "outputs_hidden": true,
     "source_hidden": true
    },
    "tags": []
   },
   "outputs": [
    {
     "name": "stdout",
     "output_type": "stream",
     "text": [
      "----------------------------------------------------\n",
      "Raiz encontrada: 0.6062435350855974 | Em 5 iterações\n",
      "----------------------------------------------------\n"
     ]
    },
    {
     "data": {
      "text/html": [
       "<div>\n",
       "<style scoped>\n",
       "    .dataframe tbody tr th:only-of-type {\n",
       "        vertical-align: middle;\n",
       "    }\n",
       "\n",
       "    .dataframe tbody tr th {\n",
       "        vertical-align: top;\n",
       "    }\n",
       "\n",
       "    .dataframe thead th {\n",
       "        text-align: right;\n",
       "    }\n",
       "</style>\n",
       "<table border=\"1\" class=\"dataframe\">\n",
       "  <thead>\n",
       "    <tr style=\"text-align: right;\">\n",
       "      <th></th>\n",
       "      <th>x0</th>\n",
       "      <th>f(x0)</th>\n",
       "      <th>Erro</th>\n",
       "      <th>xtol</th>\n",
       "    </tr>\n",
       "  </thead>\n",
       "  <tbody>\n",
       "    <tr>\n",
       "      <th>0</th>\n",
       "      <td>0.000000</td>\n",
       "      <td>1.000000</td>\n",
       "      <td>1.000000</td>\n",
       "      <td>0.1</td>\n",
       "    </tr>\n",
       "    <tr>\n",
       "      <th>1</th>\n",
       "      <td>1.000000</td>\n",
       "      <td>0.367879</td>\n",
       "      <td>0.632121</td>\n",
       "      <td>0.1</td>\n",
       "    </tr>\n",
       "    <tr>\n",
       "      <th>2</th>\n",
       "      <td>0.367879</td>\n",
       "      <td>0.692201</td>\n",
       "      <td>0.324321</td>\n",
       "      <td>0.1</td>\n",
       "    </tr>\n",
       "    <tr>\n",
       "      <th>3</th>\n",
       "      <td>0.692201</td>\n",
       "      <td>0.500474</td>\n",
       "      <td>0.191727</td>\n",
       "      <td>0.1</td>\n",
       "    </tr>\n",
       "    <tr>\n",
       "      <th>4</th>\n",
       "      <td>0.500474</td>\n",
       "      <td>0.606244</td>\n",
       "      <td>0.105770</td>\n",
       "      <td>0.1</td>\n",
       "    </tr>\n",
       "    <tr>\n",
       "      <th>5</th>\n",
       "      <td>0.606244</td>\n",
       "      <td>0.545396</td>\n",
       "      <td>0.060848</td>\n",
       "      <td>0.1</td>\n",
       "    </tr>\n",
       "  </tbody>\n",
       "</table>\n",
       "</div>"
      ],
      "text/plain": [
       "         x0     f(x0)      Erro  xtol\n",
       "0  0.000000  1.000000  1.000000   0.1\n",
       "1  1.000000  0.367879  0.632121   0.1\n",
       "2  0.367879  0.692201  0.324321   0.1\n",
       "3  0.692201  0.500474  0.191727   0.1\n",
       "4  0.500474  0.606244  0.105770   0.1\n",
       "5  0.606244  0.545396  0.060848   0.1"
      ]
     },
     "execution_count": 4,
     "metadata": {},
     "output_type": "execute_result"
    }
   ],
   "source": [
    "x, y, tb = ponto_fixo(g_aula, g_aula_x0, xtol=1e-1, r_tb=True)\n",
    "pd.DataFrame(tb, columns=[\"x0\", \"f(x0)\", \"Erro\", \"xtol\"])"
   ]
  },
  {
   "cell_type": "markdown",
   "id": "a69eedd1-8794-470b-87ae-e1fdcb7d4c4e",
   "metadata": {},
   "source": [
    " "
   ]
  },
  {
   "cell_type": "markdown",
   "id": "1a9504e3-97f1-4192-a018-67a004ef359a",
   "metadata": {},
   "source": [
    "<div class=\"alert alert-block alert-info\" style=\"color:Blue;\">\n",
    "    Método Newton-Raphson\n",
    "</div> "
   ]
  },
  {
   "cell_type": "code",
   "execution_count": 5,
   "id": "71b06a48-82d9-4d96-9a8c-e101a09e7c92",
   "metadata": {},
   "outputs": [],
   "source": [
    "def newton_raphson(f, fD, x, tol=1e-10, maxiter=500, verbose=False, r_tb=False, p_tb=False):\n",
    "    \n",
    "    Xk = x # o x da primeira iteração recebe o x de entrada\n",
    "    k = 0 # contador de iterações\n",
    "    \n",
    "    ''' Opcional... '''\n",
    "    if r_tb or p_tb: tb = []\n",
    "    \n",
    "    while k < maxiter:\n",
    "        # enquanto o número de iterações não extrapolarem o limite estabelecido...\n",
    "        \n",
    "        ''' Opcional... ''' \n",
    "        if r_tb or p_tb: tb.append([]);\n",
    "        \n",
    "        f_Xk = f(Xk) # calcula f(x) do x atual (dessa k-ézima iteração)\n",
    "        fD_Xk = fD(Xk) # calcula a derivada f'(x) do x atual (dessa k-ézima iteração)\n",
    "        \n",
    "        ''' Opcional... ''' \n",
    "        if r_tb or p_tb: tb[k].append(Xk); tb[k].append(f_Xk); tb[k].append(fD_Xk);\n",
    "        \n",
    "        # se a derivada for 0, não há o que fazer\n",
    "        if fD_Xk == 0:\n",
    "            if verbose: print(\"Derivada é == 0. Divisão por zero. Sem soluções possíveis!\")\n",
    "            return None\n",
    "        \n",
    "        # atualiza o valor de Xk+1 (x da próxima k-ézima iteração)\n",
    "        newton_div = f_Xk / fD_Xk\n",
    "        Xk1 = Xk - newton_div\n",
    "        \n",
    "        ''' Opcional... ''' \n",
    "        if r_tb or p_tb: tb[k].append(newton_div); tb[k].append(Xk1);\n",
    "        \n",
    "        erro = np.abs( Xk1 - Xk ) # calcula o erro relativo\n",
    "        \n",
    "        ''' Opcional... ''' \n",
    "        if r_tb or p_tb: tb[k].append(erro);\n",
    "        \n",
    "        # se o erro for menor ou igual a tolerância, retorna o resultado\n",
    "        if erro <= tol:\n",
    "            msg = f'Raiz encontrada: {Xk1} | Em {k} iterações'\n",
    "            \n",
    "            if verbose:\n",
    "                print('-'*len(msg))\n",
    "                print(msg)\n",
    "                print('-'*len(msg))\n",
    "            \n",
    "            ''' Opcional... '''\n",
    "            if p_tb:\n",
    "                print(pd.DataFrame(tb, columns=[\"Xk\", \"f(Xk)\", \"f(Xk)\", \"f(Xk)/f'(Xk)\", \"Xk+1\", \"Erro\"]))\n",
    "                print('-'*len(msg))\n",
    "            ''' ----------- '''\n",
    "            \n",
    "            # retorna a raiz e o número de iterações\n",
    "            if r_tb:\n",
    "                return Xk1, k, tb\n",
    "            else:\n",
    "                return Xk1, k, False\n",
    "        \n",
    "        Xk = Xk1 # atualiza o valor do x para a próxima iteração\n",
    "        k += 1 # incrementa o contador\n",
    "    \n",
    "    if verbose: print(\"Número de iterações extrapolou o limite sem encontrar a raíz!\")\n",
    "    if r_tb: return False, False, tb\n",
    "    return None # saiu do while sem encontrar uma solução"
   ]
  },
  {
   "cell_type": "code",
   "execution_count": 6,
   "id": "b23439a6-a218-4832-b565-1b5c72c95ec4",
   "metadata": {
    "collapsed": true,
    "jupyter": {
     "outputs_hidden": true,
     "source_hidden": true
    },
    "tags": []
   },
   "outputs": [
    {
     "name": "stdout",
     "output_type": "stream",
     "text": [
      "----------------------------------------------------\n",
      "Raiz encontrada: 0.7853981759997019 | Em 2 iterações\n",
      "----------------------------------------------------\n"
     ]
    },
    {
     "data": {
      "text/html": [
       "<div>\n",
       "<style scoped>\n",
       "    .dataframe tbody tr th:only-of-type {\n",
       "        vertical-align: middle;\n",
       "    }\n",
       "\n",
       "    .dataframe tbody tr th {\n",
       "        vertical-align: top;\n",
       "    }\n",
       "\n",
       "    .dataframe thead th {\n",
       "        text-align: right;\n",
       "    }\n",
       "</style>\n",
       "<table border=\"1\" class=\"dataframe\">\n",
       "  <thead>\n",
       "    <tr style=\"text-align: right;\">\n",
       "      <th></th>\n",
       "      <th>Xk</th>\n",
       "      <th>f(Xk)</th>\n",
       "      <th>f(Xk)</th>\n",
       "      <th>f(Xk)/f'(Xk)</th>\n",
       "      <th>Xk+1</th>\n",
       "      <th>Erro</th>\n",
       "    </tr>\n",
       "  </thead>\n",
       "  <tbody>\n",
       "    <tr>\n",
       "      <th>0</th>\n",
       "      <td>0.000000</td>\n",
       "      <td>1.000000</td>\n",
       "      <td>-1.000000</td>\n",
       "      <td>-1.000000</td>\n",
       "      <td>1.000000</td>\n",
       "      <td>1.000000</td>\n",
       "    </tr>\n",
       "    <tr>\n",
       "      <th>1</th>\n",
       "      <td>1.000000</td>\n",
       "      <td>-0.301169</td>\n",
       "      <td>-1.381773</td>\n",
       "      <td>0.217958</td>\n",
       "      <td>0.782042</td>\n",
       "      <td>0.217958</td>\n",
       "    </tr>\n",
       "    <tr>\n",
       "      <th>2</th>\n",
       "      <td>0.782042</td>\n",
       "      <td>0.004746</td>\n",
       "      <td>-1.414206</td>\n",
       "      <td>-0.003356</td>\n",
       "      <td>0.785398</td>\n",
       "      <td>0.003356</td>\n",
       "    </tr>\n",
       "  </tbody>\n",
       "</table>\n",
       "</div>"
      ],
      "text/plain": [
       "         Xk     f(Xk)     f(Xk)  f(Xk)/f'(Xk)      Xk+1      Erro\n",
       "0  0.000000  1.000000 -1.000000     -1.000000  1.000000  1.000000\n",
       "1  1.000000 -0.301169 -1.381773      0.217958  0.782042  0.217958\n",
       "2  0.782042  0.004746 -1.414206     -0.003356  0.785398  0.003356"
      ]
     },
     "execution_count": 6,
     "metadata": {},
     "output_type": "execute_result"
    }
   ],
   "source": [
    "x, k, tb = newton_raphson(fn_youtube, fD_youtube, x0_youtube, er_youtube, verbose=True, r_tb=True)\n",
    "pd.DataFrame(tb, columns=[\"Xk\", \"f(Xk)\", \"f(Xk)\", \"f(Xk)/f'(Xk)\", \"Xk+1\", \"Erro\"])"
   ]
  },
  {
   "cell_type": "markdown",
   "id": "b75d2d62-7f47-496a-b712-6e35afc0455e",
   "metadata": {},
   "source": [
    " "
   ]
  },
  {
   "cell_type": "markdown",
   "id": "89a3f2e1-6b5a-42b1-a77d-9831171ea0e0",
   "metadata": {},
   "source": [
    "<div class=\"alert alert-block alert-info\" style=\"color:Blue;\">\n",
    "    Método da Secante\n",
    "</div> "
   ]
  },
  {
   "cell_type": "code",
   "execution_count": 7,
   "id": "c93b245d-a548-49f4-8623-35acb2ddc4d1",
   "metadata": {},
   "outputs": [],
   "source": [
    "def secante(f, x0, x1, tol=1e-10, maxiter=500, verbose=True, r_tb=False, p_tb=False):\n",
    "    \n",
    "    if f(x0) * f(x1) >= 0:\n",
    "        if verbose: print(\"Incapaz de prosseguir!\")\n",
    "        return None\n",
    "    \n",
    "    ''' Opcional... '''\n",
    "    if r_tb or p_tb: tb = []\n",
    "    \n",
    "    erro = None\n",
    "    k = 0\n",
    "    \n",
    "    while k < maxiter:\n",
    "        \n",
    "        ''' Opcional... ''' \n",
    "#         if r_tb or p_tb: tb.append([]);\n",
    "        \n",
    "        fX1 = f(x1)\n",
    "        fX0 = f(x0)\n",
    "        \n",
    "        # calcula o valor intermediário\n",
    "        Xk = (x0 * fX1 - x1 * fX0) / (fX1 - fX0)\n",
    "        \n",
    "        # atualiza valor de x\n",
    "        x = fX0 * f(Xk);\n",
    "\n",
    "        # verifica se x é a raiz da equação, em caso positivo, retorna Xk e o número de iterações\n",
    "        if (x == 0):\n",
    "            if verbose: print(f\"Encontrou a raiz {Xk} em {k} iterações!\")\n",
    "            return Xk, k\n",
    "        \n",
    "        else:\n",
    "            # atualiza os valores do intervalo\n",
    "            x0 = x1;\n",
    "            x1 = Xk;\n",
    "            \n",
    "            Xk1 = Xk\n",
    "            \n",
    "            erro = abs(Xk1 - Xk)\n",
    "            \n",
    "            if erro <= tol:\n",
    "                if verbose: print(f\"Encontrou a raiz {Xk} em {k} iterações!\")\n",
    "                return Xk1, k # retorna a raiz e o número de iterações\n",
    "                \n",
    "            # update number of iteration\n",
    "            k += 1\n",
    "    \n",
    "    if verbose: print(f\"Número de iterações extrapolou o limite sem encontrar a raíz! Valor final foi {Xk1}\")\n",
    "    return None # saiu do while sem encontrar uma soluçãoint(\"Número de iterações extrapolou o limite sem encontrar a raíz!\")"
   ]
  },
  {
   "cell_type": "code",
   "execution_count": 8,
   "id": "64f99c4e-aac6-4624-9a95-8ef9e55eec5b",
   "metadata": {},
   "outputs": [
    {
     "name": "stdout",
     "output_type": "stream",
     "text": [
      "Encontrou a raiz 0.7853981633974483 em 0 iterações!\n"
     ]
    },
    {
     "data": {
      "image/png": "[encoded data removed]",
      "text/latex": [
       "$\\displaystyle \\left( 0.785398163397448, \\  0\\right)$"
      ],
      "text/plain": [
       "(0.7853981633974483, 0)"
      ]
     },
     "execution_count": 8,
     "metadata": {},
     "output_type": "execute_result"
    }
   ],
   "source": [
    "secante(fn_youtube, x0_youtube, x1_youtube, 0.01, verbose=True)"
   ]
  },
  {
   "cell_type": "markdown",
   "id": "652910d9-1d2f-47e5-ac96-973cb30d4a6a",
   "metadata": {},
   "source": [
    "---"
   ]
  },
  {
   "cell_type": "markdown",
   "id": "983ba151-be70-4f4a-9d3a-fcfffed781a4",
   "metadata": {},
   "source": [
    "<div class=\"alert alert-block alert-info\" style=\"color:#20484d;\">\n",
    "    <b>Exercicio 2:</b> Use a iteração de ponto fixo simples para localizar a raiz de $f(x)=2 sin(\\sqrt{x})−x$, tendo $x_0 = 0,5$ e adotando como critério de parada o erro $e_a ≤ 0,001\\%$.\n",
    "</div>"
   ]
  },
  {
   "cell_type": "code",
   "execution_count": 9,
   "id": "cd8bba1a-f59c-477b-a259-9a2fa1d21523",
   "metadata": {},
   "outputs": [],
   "source": [
    "ex2_f = lambda x: ( 2 * np.sin(np.sqrt(x)) - x )\n",
    "ex2_x0 = 0.5\n",
    "ex2_tol = 0.001"
   ]
  },
  {
   "cell_type": "code",
   "execution_count": 10,
   "id": "dc51f83c-a4d9-4692-b916-a69a23ba11b0",
   "metadata": {},
   "outputs": [
    {
     "name": "stdout",
     "output_type": "stream",
     "text": [
      "---------------------------------------------------\n",
      "Raiz encontrada: 0.768018090595916 | Em 4 iterações\n",
      "---------------------------------------------------\n"
     ]
    },
    {
     "data": {
      "image/png": "[encoded data removed]",
      "text/latex": [
       "$\\displaystyle \\left( 0.768018090595916, \\  4\\right)$"
      ],
      "text/plain": [
       "(0.768018090595916, 4)"
      ]
     },
     "execution_count": 10,
     "metadata": {},
     "output_type": "execute_result"
    }
   ],
   "source": [
    "ponto_fixo(ex2_f, ex2_x0, xtol=ex2_tol)"
   ]
  },
  {
   "cell_type": "code",
   "execution_count": 11,
   "id": "609f5ff2-1864-4132-9e7f-22f224d3124a",
   "metadata": {},
   "outputs": [
    {
     "data": {
      "text/plain": [
       "array(0.76864886)"
      ]
     },
     "execution_count": 11,
     "metadata": {},
     "output_type": "execute_result"
    }
   ],
   "source": [
    "opt.fixed_point(ex2_f, ex2_x0, xtol=ex2_tol, maxiter=3)"
   ]
  },
  {
   "cell_type": "markdown",
   "id": "348379d3-f12e-43a3-97b2-b9fb5dd697cb",
   "metadata": {},
   "source": [
    "---"
   ]
  },
  {
   "cell_type": "markdown",
   "id": "62cf864f-3297-41ee-bcc0-afc93a151804",
   "metadata": {},
   "source": [
    "<div class=\"alert alert-block alert-info\" style=\"color:#20484d;\">\n",
    "    <b>Exercicio 3:</b> Determine a maior raiz real de $f(x)=2x^3 − 11.7x^2 + 17.7x − 5$.\n",
    "</div>"
   ]
  },
  {
   "cell_type": "code",
   "execution_count": 12,
   "id": "fa009d80-3f75-4ea6-84e3-9d8d246c899f",
   "metadata": {},
   "outputs": [
    {
     "data": {
      "image/png": "[encoded data removed]",
      "text/latex": [
       "$\\displaystyle \\left( x \\mapsto 2 x^{3} - 11.7 x^{2} + 17.7 x - 5 \\right)$"
      ],
      "text/plain": [
       "       3         2             \n",
       "x ↦ 2⋅x  - 11.7⋅x  + 17.7⋅x - 5"
      ]
     },
     "execution_count": 12,
     "metadata": {},
     "output_type": "execute_result"
    }
   ],
   "source": [
    "# Definindo f(x)\n",
    "ex3_f = lambda x: 2 * x**3 - 11.7 * x**2 + 17.7 * x - 5\n",
    "\n",
    "sp.var('x')\n",
    "sp.Lambda(x, ex3_f(x)) # 'printando' a função de forma simbólica"
   ]
  },
  {
   "cell_type": "code",
   "execution_count": 13,
   "id": "9ef68de5-ec2f-4343-b9cc-79a6b3b5140b",
   "metadata": {},
   "outputs": [
    {
     "data": {
      "image/png": "[encoded data removed]",
      "text/latex": [
       "$\\displaystyle \\left( x \\mapsto 6 x^{2} - 23.4 x + 17.7 \\right)$"
      ],
      "text/plain": [
       "       2                \n",
       "x ↦ 6⋅x  - 23.4⋅x + 17.7"
      ]
     },
     "execution_count": 13,
     "metadata": {},
     "output_type": "execute_result"
    }
   ],
   "source": [
    "# ex3_fD = lambda x: 2*x**3 - 11.7*x**2 + 17.7*x - 5\n",
    "sp.var('x')\n",
    "\n",
    "# Calculando f'(x)\n",
    "ex3_fD_sym = lambda x: eval(sp.ccode(sp.diff(ex3_f(x), x)))\n",
    "\n",
    "sp.Lambda(x, ex3_fD_sym(x)) # 'printando' a função de forma simbólica"
   ]
  },
  {
   "cell_type": "code",
   "execution_count": 14,
   "id": "7425918a-25cc-47ec-ac90-648a81b05abb",
   "metadata": {},
   "outputs": [],
   "source": [
    "ex3_fD = lambda x: 6*x**2 - 23.4*x + 17.7"
   ]
  },
  {
   "cell_type": "markdown",
   "id": "df5e7ad5-2503-40a5-8b0e-9404ad7704bf",
   "metadata": {},
   "source": [
    "<div class=\"alert alert-block alert-info\" style=\"color:#20484d;\">\n",
    "    <b>a)</b> Graficamente;\n",
    "</div>"
   ]
  },
  {
   "cell_type": "code",
   "execution_count": 15,
   "id": "864df44d-2734-441c-a85f-e02c32419d15",
   "metadata": {},
   "outputs": [
    {
     "data": {
      "image/png": "[encoded data removed]",
      "text/plain": [
       "<Figure size 720x576 with 1 Axes>"
      ]
     },
     "metadata": {
      "needs_background": "light"
     },
     "output_type": "display_data"
    }
   ],
   "source": [
    "x = np.linspace(0, 4, 50)\n",
    "\n",
    "y = ex3_f(x)\n",
    "\n",
    "raiz1 = opt.root(ex3_f, 0)\n",
    "raiz2 = opt.root(ex3_f, 2)\n",
    "raiz3 = opt.root(ex3_f, 4)\n",
    "raizes = np.array([raiz1.x, raiz2.x, raiz3.x])\n",
    "\n",
    "fig = plt.figure(figsize=(10, 8))\n",
    "ax = fig.add_subplot(111)\n",
    "\n",
    "plt.vlines(x=raiz1.x, ymin=ex3_f(0), ymax=0, colors='gray', ls=':', lw=2)\n",
    "plt.vlines(x=raiz2.x, ymin=ex3_f(0), ymax=0, colors='gray', ls=':', lw=2)\n",
    "plt.vlines(x=raiz3.x, ymin=ex3_f(0), ymax=0, colors='gray', ls=':', lw=2)\n",
    "\n",
    "ax.axhline(0, color='b')\n",
    "\n",
    "ax.plot(x, ex3_f(x), 'r', label=\"$f(x)$\")\n",
    "ax.plot(raizes, ex3_f(raizes), 'kv', label=\"$Raizes$\")\n",
    "\n",
    "ax.legend(loc='best')\n",
    "ax.set_xlabel('$x$')\n",
    "ax.set_ylabel('$f(x)$')\n",
    "\n",
    "plt.show()"
   ]
  },
  {
   "cell_type": "markdown",
   "id": "91f2e5cb-ae26-4d9d-8c54-a598755da4ab",
   "metadata": {},
   "source": [
    "Analisando o gráfico plotado, podemos notar que a maior raíz real está entre 3.5 e 4.0."
   ]
  },
  {
   "cell_type": "markdown",
   "id": "1dfd6768-9c80-4cce-af95-136290c2d40e",
   "metadata": {},
   "source": [
    "<div class=\"alert alert-block alert-info\" style=\"color:#20484d;\">\n",
    "    <b>b)</b> Pelo método da iteração de ponto fixo (três iterações, $x_0=3$) (certifique-se de desenvolver uma solução que convirja para a raiz);\n",
    "</div>"
   ]
  },
  {
   "cell_type": "code",
   "execution_count": 16,
   "id": "c394c647-3d74-4e4a-9b61-8a30f9ab331f",
   "metadata": {},
   "outputs": [
    {
     "name": "stdout",
     "output_type": "stream",
     "text": [
      "Número de iterações extrapolou o limite sem encontrar a raíz!\n"
     ]
    }
   ],
   "source": [
    "ponto_fixo(ex3_f, 3, 3)"
   ]
  },
  {
   "cell_type": "code",
   "execution_count": 17,
   "id": "c1d149e6-b704-45ef-9066-22cb51816bc7",
   "metadata": {},
   "outputs": [
    {
     "name": "stdout",
     "output_type": "stream",
     "text": [
      "Failed to converge after 3 iterations, value is 3.7022048269565255\n"
     ]
    }
   ],
   "source": [
    "try: opt.fixed_point(ex3_f, 3, maxiter=3)\n",
    "except RuntimeError as re: print(str(re))"
   ]
  },
  {
   "cell_type": "markdown",
   "id": "582d78cc-9015-49f8-af1b-9511a69afb6a",
   "metadata": {},
   "source": [
    "<div class=\"alert alert-block alert-info\" style=\"color:#20484d;\">\n",
    "    <b>c)</b> Pelo método de Newton-Raphson (três iterações, $x_0=3$);\n",
    "</div>"
   ]
  },
  {
   "cell_type": "code",
   "execution_count": 18,
   "id": "1c60d5a2-7202-414e-9841-1b23b4e6e6b8",
   "metadata": {},
   "outputs": [
    {
     "data": {
      "text/plain": [
       "      converged: False\n",
       "           flag: 'convergence error'\n",
       " function_calls: 6\n",
       "     iterations: 3\n",
       "           root: 3.7929344806432264"
      ]
     },
     "execution_count": 18,
     "metadata": {},
     "output_type": "execute_result"
    }
   ],
   "source": [
    "opt.root_scalar(ex3_f, fprime=ex3_fD, x0=3, maxiter=3, method='newton')"
   ]
  },
  {
   "cell_type": "markdown",
   "id": "3e12cf21-c799-4946-aead-fae16d4ca4f7",
   "metadata": {},
   "source": [
    "<div class=\"alert alert-block alert-info\" style=\"color:#20484d;\">\n",
    "    <b>d)</b> Pelo método da secante (três iterações, $x_{−1}=3$, $x_0=4$).\n",
    "</div>"
   ]
  },
  {
   "cell_type": "code",
   "execution_count": 19,
   "id": "bd83ad4f-8958-4b4b-93cd-8a908ca2e1ec",
   "metadata": {},
   "outputs": [
    {
     "name": "stdout",
     "output_type": "stream",
     "text": [
      "Encontrou a raiz 3.326530612244898 em 0 iterações!\n"
     ]
    },
    {
     "data": {
      "image/png": "[encoded data removed]",
      "text/latex": [
       "$\\displaystyle \\left( 3.3265306122449, \\  0\\right)$"
      ],
      "text/plain": [
       "(3.326530612244898, 0)"
      ]
     },
     "execution_count": 19,
     "metadata": {},
     "output_type": "execute_result"
    }
   ],
   "source": [
    "secante(ex3_f, 3, 4, 3)"
   ]
  },
  {
   "cell_type": "markdown",
   "id": "4a448019-3f08-4744-ac3d-c4fe4808eef1",
   "metadata": {},
   "source": [
    "---"
   ]
  },
  {
   "cell_type": "markdown",
   "id": "11597e90-6128-4cd8-91fd-7cac1c592279",
   "metadata": {},
   "source": [
    "<div class=\"alert alert-block alert-info\" style=\"color:#20484d;\">\n",
    "    <b>Exercicio 4:</b> Compare os métodos da bisseção, falsa posição, do ponto fixo, de Newton-Raphson e da secante, localizando a raiz das seguintes equações:\n",
    "</div>"
   ]
  },
  {
   "cell_type": "markdown",
   "id": "a74d1e90-2bf2-4f7e-879b-e256c1ba9279",
   "metadata": {},
   "source": [
    "<div class=\"alert alert-block alert-warning\">\n",
    "    <p><b>Para as avaliações, deve-se considerar:</b></p>\n",
    "    <ul>\n",
    "        <li>o número máximo de iterações de todos os métodos testados não pode ultrapassar 200;</li>\n",
    "        <li>a tolerância deve ser de $10^{-10}$;</li>\n",
    "        <li>para os métodos abertos, escolha os limites do intervalo, respectivamente como $x_{?1}$ e $x_0$.</li>\n",
    "    </ul>\n",
    "    <p><b>Para cada método, estamos interessados em comparar:</b></p>\n",
    "    <ul>\n",
    "        <li>raiz;</li>\n",
    "        <li>número de iterações até o critério de parada;</li>\n",
    "        <li>se houve erro de convergência;</li>\n",
    "        <li>tempo de cálculo (procure como calcular tempo de execução usando jupyter notebooks, como %timeit).</li>\n",
    "    </ul>\n",
    "</div>"
   ]
  },
  {
   "cell_type": "code",
   "execution_count": 20,
   "id": "690bd73e-2c2e-48b1-bcd6-bcb0f171dc9b",
   "metadata": {},
   "outputs": [],
   "source": [
    "# Constantes\n",
    "ex4_maxit = 200\n",
    "ex4_tol = 1e-10"
   ]
  },
  {
   "cell_type": "markdown",
   "id": "78b85916-6cef-438c-aa28-289ad60dcc1a",
   "metadata": {},
   "source": [
    "---"
   ]
  },
  {
   "cell_type": "markdown",
   "id": "a7993a2d-802f-413d-81fc-9b0e9fbcefef",
   "metadata": {},
   "source": [
    "Método da Falsa Posição:"
   ]
  },
  {
   "cell_type": "code",
   "execution_count": 21,
   "id": "393ca32b-1a7c-4411-90de-136eae5473d9",
   "metadata": {
    "tags": []
   },
   "outputs": [],
   "source": [
    "def regula_falsi(f, xl, xu, tol=1e-10, maxit=10000):\n",
    "    \n",
    "    if (f(xl) * f(xu) >= 0):\n",
    "        return -1\n",
    "    \n",
    "    i = 0\n",
    "    x = xl\n",
    "    erro, x_ant = 1, x\n",
    "    \n",
    "    while erro > tol and i < maxit:\n",
    "        \n",
    "        x = xu - ( ( f(xu)*(xl-xu) ) / (f(xl)-f(xu)) )\n",
    "            \n",
    "        if f(x) * f(xl) < 0:\n",
    "            xu = x\n",
    "        \n",
    "        else:\n",
    "            xl = x\n",
    "            \n",
    "        erro = np.abs((x - x_ant) / np.abs(x))\n",
    "        x_ant = x\n",
    "        i += 1\n",
    "    \n",
    "    return ( x, i )"
   ]
  },
  {
   "cell_type": "markdown",
   "id": "1bbe2ae1-0632-4b04-94c2-a91f97ffb339",
   "metadata": {},
   "source": [
    "---"
   ]
  },
  {
   "cell_type": "markdown",
   "id": "79af477d-feab-498c-8bfe-5b14aa19ac5e",
   "metadata": {},
   "source": [
    "<div class=\"alert alert-block alert-info\" style=\"color:#20484d;\">\n",
    "    <b>a)</b> $f_1(x) = 2x^4 + 4x^3 + 3x^2 - 10x - 15$, com $x^* \\in [0, 3]$\n",
    "</div>"
   ]
  },
  {
   "cell_type": "markdown",
   "id": "c5e5b15c-b0ad-41a3-a19d-da901e1e1a2c",
   "metadata": {},
   "source": [
    "**Definindo $f_1(x)$**"
   ]
  },
  {
   "cell_type": "code",
   "execution_count": 22,
   "id": "47a79842-9c3a-43ad-b12e-cf60950efcc1",
   "metadata": {},
   "outputs": [
    {
     "data": {
      "image/png": "[encoded data removed]",
      "text/latex": [
       "$\\displaystyle \\left( x \\mapsto 2 x^{4} + 4 x^{3} + 3 x^{2} - 10 x - 15 \\right)$"
      ],
      "text/plain": [
       "       4      3      2            \n",
       "x ↦ 2⋅x  + 4⋅x  + 3⋅x  - 10⋅x - 15"
      ]
     },
     "execution_count": 22,
     "metadata": {},
     "output_type": "execute_result"
    }
   ],
   "source": [
    "sp.var('x')\n",
    "f1 = lambda x: 2*x**4 + 4*x**3 + 3*x**2 - 10*x - 15\n",
    "sp.Lambda(x, f1(x)) # 'printando' a função simbolicamente"
   ]
  },
  {
   "cell_type": "markdown",
   "id": "8d2ed61a-23c7-4085-8def-056d5eb8c2d4",
   "metadata": {},
   "source": [
    "**Calculando $f_1'(x)$**"
   ]
  },
  {
   "cell_type": "code",
   "execution_count": 23,
   "id": "32021d7d-7e56-42f8-8d9f-eb169d40fefe",
   "metadata": {},
   "outputs": [
    {
     "data": {
      "image/png": "[encoded data removed]",
      "text/latex": [
       "$\\displaystyle \\left( x \\mapsto 8 x^{3} + 12 x^{2} + 6 x - 10 \\right)$"
      ],
      "text/plain": [
       "       3       2           \n",
       "x ↦ 8⋅x  + 12⋅x  + 6⋅x - 10"
      ]
     },
     "execution_count": 23,
     "metadata": {},
     "output_type": "execute_result"
    }
   ],
   "source": [
    "sp.var('x')\n",
    "f1D = lambda x: eval(sp.ccode(sp.diff(f1(x), x)))\n",
    "sp.Lambda(x, f1D(x)) # 'printando' a função simbolicamente"
   ]
  },
  {
   "cell_type": "code",
   "execution_count": 24,
   "id": "53e23c93-5d20-4f59-bc17-50478652cdc9",
   "metadata": {},
   "outputs": [],
   "source": [
    "f1D_2 = lambda x: 8*x**3 + 12*x**2 + 6*x - 10"
   ]
  },
  {
   "cell_type": "markdown",
   "id": "8ecf7592-79b4-47a2-9e73-abc294932057",
   "metadata": {},
   "source": [
    "**Refatorando $f_1'(x)$**"
   ]
  },
  {
   "cell_type": "code",
   "execution_count": 25,
   "id": "b23d09ca-4d1e-40f6-82f1-c7e4a887d062",
   "metadata": {},
   "outputs": [
    {
     "data": {
      "image/png": "[encoded data removed]",
      "text/latex": [
       "$\\displaystyle \\left( x \\mapsto \\frac{15}{2 x^{3} + 4 x^{2} + 3 x - 10} \\right)$"
      ],
      "text/plain": [
       "              15          \n",
       "x ↦ ──────────────────────\n",
       "       3      2           \n",
       "    2⋅x  + 4⋅x  + 3⋅x - 10"
      ]
     },
     "execution_count": 25,
     "metadata": {},
     "output_type": "execute_result"
    }
   ],
   "source": [
    "sp.var('x')\n",
    "f1_ref = lambda x: 15 / (2*(x**3) + 4*(x**2) + 3*(x) - 10)\n",
    "sp.Lambda(x, f1_ref(x)) # 'printando' a função simbolicamente"
   ]
  },
  {
   "cell_type": "markdown",
   "id": "2922318c-6721-415f-857d-eab175e47c3f",
   "metadata": {},
   "source": [
    "**Limites do Intervalo**"
   ]
  },
  {
   "cell_type": "code",
   "execution_count": 26,
   "id": "b1872f6a-c838-40af-aa6b-cd8a1bbb2fdd",
   "metadata": {},
   "outputs": [],
   "source": [
    "f1_x0 = 0\n",
    "f1_x1 = 3"
   ]
  },
  {
   "cell_type": "markdown",
   "id": "6a4bb1c5-eb1b-40f7-b949-64d19e955a11",
   "metadata": {},
   "source": [
    " "
   ]
  },
  {
   "cell_type": "markdown",
   "id": "9ee38aff-488c-480a-bba1-1a23c665a211",
   "metadata": {},
   "source": [
    "**$f_1(x)$ - Bisseção**"
   ]
  },
  {
   "cell_type": "code",
   "execution_count": 27,
   "id": "9a95ab44-4377-44a3-a4b2-f7b45539d8fc",
   "metadata": {},
   "outputs": [
    {
     "name": "stdout",
     "output_type": "stream",
     "text": [
      "28.8 µs ± 5.16 µs per loop (mean ± std. dev. of 7 runs, 10000 loops each)\n"
     ]
    },
    {
     "data": {
      "text/plain": [
       "      converged: True\n",
       "           flag: 'converged'\n",
       " function_calls: 37\n",
       "     iterations: 35\n",
       "           root: 1.4928787086100783"
      ]
     },
     "execution_count": 27,
     "metadata": {},
     "output_type": "execute_result"
    }
   ],
   "source": [
    "%timeit opt.root_scalar(f1, method= 'bisect', bracket=[f1_x0, f1_x1], rtol=ex4_tol)\n",
    "opt.root_scalar(f1, method= 'bisect', bracket=[f1_x0, f1_x1], rtol=ex4_tol)"
   ]
  },
  {
   "cell_type": "markdown",
   "id": "76692f2a-9b5f-4b77-a4de-09e1a505d9a7",
   "metadata": {},
   "source": [
    " "
   ]
  },
  {
   "cell_type": "markdown",
   "id": "4953b125-c27e-4a68-b873-2baff2ad8c61",
   "metadata": {},
   "source": [
    "<p style=\"font-weight: bold\">$f_1(x)$ - Falsa Posição</p>"
   ]
  },
  {
   "cell_type": "code",
   "execution_count": 28,
   "id": "18e32563-c824-454d-be37-6e6446818881",
   "metadata": {},
   "outputs": [
    {
     "name": "stdout",
     "output_type": "stream",
     "text": [
      "378 µs ± 60.3 µs per loop (mean ± std. dev. of 7 runs, 1000 loops each)\n"
     ]
    },
    {
     "data": {
      "image/png": "[encoded data removed]",
      "text/latex": [
       "$\\displaystyle \\left( 1.49287870840677, \\  64\\right)$"
      ],
      "text/plain": [
       "(1.4928787084067687, 64)"
      ]
     },
     "execution_count": 28,
     "metadata": {},
     "output_type": "execute_result"
    }
   ],
   "source": [
    "%timeit regula_falsi(f1, f1_x0, f1_x1, ex4_tol, ex4_maxit)\n",
    "regula_falsi(f1, f1_x0, f1_x1, ex4_tol, ex4_maxit)"
   ]
  },
  {
   "cell_type": "markdown",
   "id": "ebcad59d-1878-4595-8777-e7f03289f200",
   "metadata": {},
   "source": [
    " "
   ]
  },
  {
   "cell_type": "markdown",
   "id": "98b8ea2b-c31b-4abc-8ed7-412473b42f5d",
   "metadata": {},
   "source": [
    "<p><b>$f_1(x)$ - Ponto Fixo</b></p>"
   ]
  },
  {
   "cell_type": "code",
   "execution_count": 29,
   "id": "17c6ba87-48f8-4603-ab98-871828c49e39",
   "metadata": {
    "tags": []
   },
   "outputs": [
    {
     "name": "stdout",
     "output_type": "stream",
     "text": [
      "789 µs ± 126 µs per loop (mean ± std. dev. of 7 runs, 1000 loops each)\n"
     ]
    },
    {
     "data": {
      "text/plain": [
       "array(1.49287871)"
      ]
     },
     "execution_count": 29,
     "metadata": {},
     "output_type": "execute_result"
    }
   ],
   "source": [
    "%timeit opt.fixed_point(f1_ref, 1.5, xtol=ex4_tol, maxiter=ex4_maxit)\n",
    "opt.fixed_point(f1_ref, 1.5, xtol=ex4_tol, maxiter=ex4_maxit)"
   ]
  },
  {
   "cell_type": "markdown",
   "id": "31430d18-febe-4f84-bffa-1a5e90f26c80",
   "metadata": {},
   "source": [
    " "
   ]
  },
  {
   "cell_type": "markdown",
   "id": "b1d8b7b1-e47a-4b80-81bd-1c8635e26218",
   "metadata": {},
   "source": [
    "<p><b>$f_1(x)$ - Newton-Raphson</b></p>"
   ]
  },
  {
   "cell_type": "code",
   "execution_count": 30,
   "id": "676dc516-ee64-4173-acb4-599220f9ab6c",
   "metadata": {
    "tags": []
   },
   "outputs": [
    {
     "name": "stdout",
     "output_type": "stream",
     "text": [
      "336 µs ± 23.6 µs per loop (mean ± std. dev. of 7 runs, 1000 loops each)\n"
     ]
    },
    {
     "data": {
      "text/plain": [
       "      converged: True\n",
       "           flag: 'converged'\n",
       " function_calls: 14\n",
       "     iterations: 7\n",
       "           root: 1.4928787086636037"
      ]
     },
     "execution_count": 30,
     "metadata": {},
     "output_type": "execute_result"
    }
   ],
   "source": [
    "%timeit opt.root_scalar(f1, fprime=f1D_2, x0=1, xtol=ex4_tol, maxiter=ex4_maxit, method='newton')\n",
    "opt.root_scalar(f1, fprime=f1D_2, x0=1, xtol=ex4_tol, maxiter=ex4_maxit, method='newton')"
   ]
  },
  {
   "cell_type": "markdown",
   "id": "b28981e6-cd13-4565-a753-4336a5c73075",
   "metadata": {},
   "source": [
    " "
   ]
  },
  {
   "cell_type": "markdown",
   "id": "bdc21996-0258-490d-8070-4d443e2dbdab",
   "metadata": {},
   "source": [
    "<p><b>$f_1(x)$ - Secante</b></p>"
   ]
  },
  {
   "cell_type": "code",
   "execution_count": 31,
   "id": "f170dcdc-449c-41d6-9c62-c477438632c0",
   "metadata": {},
   "outputs": [
    {
     "name": "stdout",
     "output_type": "stream",
     "text": [
      "509 µs ± 86.4 µs per loop (mean ± std. dev. of 7 runs, 1000 loops each)\n"
     ]
    },
    {
     "data": {
      "text/plain": [
       "      converged: True\n",
       "           flag: 'converged'\n",
       " function_calls: 10\n",
       "     iterations: 9\n",
       "           root: 1.4928787086636037"
      ]
     },
     "execution_count": 31,
     "metadata": {},
     "output_type": "execute_result"
    }
   ],
   "source": [
    "%timeit opt.root_scalar(f1, x0=1, x1=f1_x1, method='secant')\n",
    "opt.root_scalar(f1, x0=1, x1=f1_x1, method='secant')"
   ]
  },
  {
   "cell_type": "markdown",
   "id": "6bfd8211-9807-44da-8ca2-8bcb7444174a",
   "metadata": {},
   "source": [
    " "
   ]
  },
  {
   "cell_type": "markdown",
   "id": "3d78534e-5cf4-4ed5-887d-70db9bdd8069",
   "metadata": {},
   "source": [
    "---"
   ]
  },
  {
   "cell_type": "markdown",
   "id": "aa3f3493-a5ba-4982-a2c1-d1e95eb172c7",
   "metadata": {},
   "source": [
    "<div class=\"alert alert-block alert-info\" style=\"color:#20484d;\">\n",
    "    <b>b)</b> $f_2(x) = (x + 3)(x + 1)(x - 2)^3$, com $x^* \\in [0,5]$\n",
    "</div>"
   ]
  },
  {
   "cell_type": "markdown",
   "id": "caa0c6ef-b6fd-4dae-8bef-9caa0c5e70f2",
   "metadata": {},
   "source": [
    "**Definindo $f_2(x)$**"
   ]
  },
  {
   "cell_type": "code",
   "execution_count": 32,
   "id": "ad90962f-03c6-49d1-8be5-04b886913806",
   "metadata": {},
   "outputs": [
    {
     "data": {
      "image/png": "[encoded data removed]",
      "text/latex": [
       "$\\displaystyle \\left( x \\mapsto \\left(x - 2\\right)^{3} \\left(x + 1\\right) \\left(x + 3\\right) \\right)$"
      ],
      "text/plain": [
       "           3                \n",
       "x ↦ (x - 2) ⋅(x + 1)⋅(x + 3)"
      ]
     },
     "execution_count": 32,
     "metadata": {},
     "output_type": "execute_result"
    }
   ],
   "source": [
    "sp.var('x')\n",
    "f2 = lambda x: (x + 3)*(x + 1)*(x - 2)**3\n",
    "sp.Lambda(x, f2(x)) # 'printando' a função simbolicamente"
   ]
  },
  {
   "cell_type": "markdown",
   "id": "d828736a-1e31-4713-96ec-c89a8d8ace4d",
   "metadata": {},
   "source": [
    "**Refatorando $f_2(x)$**"
   ]
  },
  {
   "cell_type": "code",
   "execution_count": 33,
   "id": "b07f0540-70f5-4875-89d7-75f06a91d366",
   "metadata": {},
   "outputs": [
    {
     "data": {
      "image/png": "[encoded data removed]",
      "text/latex": [
       "$\\displaystyle \\left( x \\mapsto \\frac{24}{x^{4} - 2 x^{3} - 9 x^{2} + 22 x + 4} \\right)$"
      ],
      "text/plain": [
       "                 24            \n",
       "x ↦ ───────────────────────────\n",
       "     4      3      2           \n",
       "    x  - 2⋅x  - 9⋅x  + 22⋅x + 4"
      ]
     },
     "execution_count": 33,
     "metadata": {},
     "output_type": "execute_result"
    }
   ],
   "source": [
    "sp.var('x')\n",
    "f2R = lambda x: 24 / ( (x**4) - 2*(x**3) - 9*(x**2) + 22*x + 4 )\n",
    "sp.Lambda(x, f2R(x)) # vendo o resultado simbólico"
   ]
  },
  {
   "cell_type": "markdown",
   "id": "75103874-16db-47f6-8485-275fe79d909e",
   "metadata": {},
   "source": [
    "**Calculando $f_2'(x)$**"
   ]
  },
  {
   "cell_type": "code",
   "execution_count": 34,
   "id": "7f301953-a657-4375-a246-d5356ae9b672",
   "metadata": {},
   "outputs": [
    {
     "data": {
      "image/png": "[encoded data removed]",
      "text/latex": [
       "$\\displaystyle \\left( x \\mapsto \\left(x - 2\\right)^{3} \\left(x + 1\\right) + \\left(x - 2\\right)^{3} \\left(x + 3\\right) + 3 \\left(x - 2\\right)^{2} \\left(x + 1\\right) \\left(x + 3\\right) \\right)$"
      ],
      "text/plain": [
       "           3                  3                    2                \n",
       "x ↦ (x - 2) ⋅(x + 1) + (x - 2) ⋅(x + 3) + 3⋅(x - 2) ⋅(x + 1)⋅(x + 3)"
      ]
     },
     "execution_count": 34,
     "metadata": {},
     "output_type": "execute_result"
    }
   ],
   "source": [
    "sp.var('x')\n",
    "f2D_sym = lambda x: eval(sp.ccode(sp.diff(f2(x), x)))\n",
    "sp.Lambda(x, f2D_sym(x)) # 'printando' a função simbolicamente"
   ]
  },
  {
   "cell_type": "code",
   "execution_count": 35,
   "id": "1fe1b7ea-cb95-4895-918d-738edfd5455d",
   "metadata": {},
   "outputs": [],
   "source": [
    "f2D = lambda x: (x - 2)**3 * (x + 1) + (x - 2)**3 * (x + 3) + 3*(x - 2)**2 * (x + 1) * (x + 3)"
   ]
  },
  {
   "cell_type": "markdown",
   "id": "bd218039-033d-4e1e-8e8f-03a28cad5391",
   "metadata": {},
   "source": [
    "**Limites do Intervalo**"
   ]
  },
  {
   "cell_type": "code",
   "execution_count": 36,
   "id": "24dd6c42-8aae-4547-af46-2581683bed04",
   "metadata": {},
   "outputs": [],
   "source": [
    "f2_x0 = 0\n",
    "f2_x1 = 5"
   ]
  },
  {
   "cell_type": "markdown",
   "id": "0c28e0c9-16a6-4ae3-93aa-bdbffc90e59c",
   "metadata": {},
   "source": [
    " "
   ]
  },
  {
   "cell_type": "markdown",
   "id": "933e8620-aad5-442d-9b56-cbcded205be2",
   "metadata": {},
   "source": [
    "**$f_2(x)$ - Bisseção**"
   ]
  },
  {
   "cell_type": "code",
   "execution_count": 37,
   "id": "8345cadb-8339-41d5-aa58-968e592372d2",
   "metadata": {},
   "outputs": [
    {
     "name": "stdout",
     "output_type": "stream",
     "text": [
      "28.4 µs ± 6.51 µs per loop (mean ± std. dev. of 7 runs, 10000 loops each)\n"
     ]
    },
    {
     "data": {
      "text/plain": [
       "      converged: True\n",
       "           flag: 'converged'\n",
       " function_calls: 37\n",
       "     iterations: 35\n",
       "           root: 1.9999999999708962"
      ]
     },
     "execution_count": 37,
     "metadata": {},
     "output_type": "execute_result"
    }
   ],
   "source": [
    "%timeit opt.root_scalar(f2, method= 'bisect', bracket=[f2_x0, f2_x1], rtol=ex4_tol)\n",
    "opt.root_scalar(f2, method= 'bisect', bracket=[f2_x0, f2_x1], rtol=ex4_tol)"
   ]
  },
  {
   "cell_type": "markdown",
   "id": "0120e899-8e2a-4ebb-81db-4df2886c2c12",
   "metadata": {},
   "source": [
    " "
   ]
  },
  {
   "cell_type": "markdown",
   "id": "a539c946-59b9-43d6-acd5-e60904f7a806",
   "metadata": {},
   "source": [
    "**$f_2(x)$ - Falsa Posição**"
   ]
  },
  {
   "cell_type": "code",
   "execution_count": 38,
   "id": "63c09bca-8107-4716-b128-28b1ecce0ac7",
   "metadata": {},
   "outputs": [
    {
     "name": "stdout",
     "output_type": "stream",
     "text": [
      "811 µs ± 93.3 µs per loop (mean ± std. dev. of 7 runs, 1000 loops each)\n"
     ]
    },
    {
     "data": {
      "image/png": "[encoded data removed]",
      "text/latex": [
       "$\\displaystyle \\left( 1.71440913622764, \\  200\\right)$"
      ],
      "text/plain": [
       "(1.7144091362276437, 200)"
      ]
     },
     "execution_count": 38,
     "metadata": {},
     "output_type": "execute_result"
    }
   ],
   "source": [
    "%timeit regula_falsi(f2, f2_x0, f2_x1, ex4_tol, ex4_maxit)\n",
    "regula_falsi(f2, f2_x0, f2_x1, ex4_tol, ex4_maxit)"
   ]
  },
  {
   "cell_type": "markdown",
   "id": "ea2882dc-dbc2-4d35-b08a-a4191baa364f",
   "metadata": {},
   "source": [
    " "
   ]
  },
  {
   "cell_type": "markdown",
   "id": "126045f9-859b-4283-b299-4ad47a61ccc2",
   "metadata": {},
   "source": [
    "**$f_2(x)$ - Ponto Fixo**"
   ]
  },
  {
   "cell_type": "code",
   "execution_count": 39,
   "id": "aa150a64-6016-4b37-be91-afd646a89078",
   "metadata": {
    "tags": []
   },
   "outputs": [
    {
     "name": "stdout",
     "output_type": "stream",
     "text": [
      "6.8 ms ± 410 µs per loop (mean ± std. dev. of 7 runs, 100 loops each)\n"
     ]
    },
    {
     "data": {
      "text/plain": [
       "array(1.99966007)"
      ]
     },
     "execution_count": 39,
     "metadata": {},
     "output_type": "execute_result"
    }
   ],
   "source": [
    "%timeit opt.fixed_point(f2R, x0=1, xtol=ex4_tol, maxiter=ex4_maxit)\n",
    "opt.fixed_point(f2R, x0=1, xtol=ex4_tol, maxiter=ex4_maxit)"
   ]
  },
  {
   "cell_type": "markdown",
   "id": "a9e09a4d-dfd8-4c53-bc80-9ab7d6a4bf26",
   "metadata": {},
   "source": [
    " "
   ]
  },
  {
   "cell_type": "markdown",
   "id": "1afd10f8-1af9-4080-8b57-d9c510de4d36",
   "metadata": {},
   "source": [
    "**$f_2(x)$ - Newton-Raphson**"
   ]
  },
  {
   "cell_type": "code",
   "execution_count": 40,
   "id": "0551f0b5-a3a6-47f6-bd86-b9e19e813508",
   "metadata": {
    "tags": []
   },
   "outputs": [
    {
     "name": "stdout",
     "output_type": "stream",
     "text": [
      "1.88 ms ± 139 µs per loop (mean ± std. dev. of 7 runs, 100 loops each)\n"
     ]
    },
    {
     "data": {
      "text/plain": [
       "      converged: True\n",
       "           flag: 'converged'\n",
       " function_calls: 110\n",
       "     iterations: 55\n",
       "           root: 1.9999999998545246"
      ]
     },
     "execution_count": 40,
     "metadata": {},
     "output_type": "execute_result"
    }
   ],
   "source": [
    "%timeit opt.root_scalar(f2, fprime=f2D, x0=1, xtol=ex4_tol, maxiter=ex4_maxit, method='newton')\n",
    "opt.root_scalar(f2, fprime=f2D, x0=1, xtol=ex4_tol, maxiter=ex4_maxit, method='newton')"
   ]
  },
  {
   "cell_type": "markdown",
   "id": "e813f81e-eb6d-4ea8-8949-991f76c1b577",
   "metadata": {},
   "source": [
    " "
   ]
  },
  {
   "cell_type": "markdown",
   "id": "faf2d2b0-a662-4196-a12a-edcac8b7e681",
   "metadata": {},
   "source": [
    "**$f_2(x)$ - Secante**"
   ]
  },
  {
   "cell_type": "code",
   "execution_count": 41,
   "id": "9b31a34f-22bb-40b7-93f0-c6ed73cf010e",
   "metadata": {},
   "outputs": [
    {
     "name": "stdout",
     "output_type": "stream",
     "text": [
      "2.48 ms ± 117 µs per loop (mean ± std. dev. of 7 runs, 100 loops each)\n"
     ]
    },
    {
     "data": {
      "text/plain": [
       "      converged: True\n",
       "           flag: 'converged'\n",
       " function_calls: 79\n",
       "     iterations: 78\n",
       "           root: 2.0000000002448965"
      ]
     },
     "execution_count": 41,
     "metadata": {},
     "output_type": "execute_result"
    }
   ],
   "source": [
    "%timeit opt.root_scalar(f2, x0=f2_x0, x1=f2_x1, maxiter=ex4_maxit, xtol=ex4_tol, method='secant')\n",
    "opt.root_scalar(f2, x0=f2_x0, x1=f2_x1, maxiter=ex4_maxit, xtol=ex4_tol, method='secant')"
   ]
  },
  {
   "cell_type": "markdown",
   "id": "3835e8ac-ff5d-40cd-9c8c-36ed9aa1a2eb",
   "metadata": {},
   "source": [
    " "
   ]
  },
  {
   "cell_type": "markdown",
   "id": "ac562ea3-e596-48f1-b482-c046c8ca34d2",
   "metadata": {},
   "source": [
    "---"
   ]
  },
  {
   "cell_type": "markdown",
   "id": "51582e56-387f-4c7c-971d-b1ad2a2a38c6",
   "metadata": {},
   "source": [
    "<div class=\"alert alert-block alert-info\" style=\"color:#20484d;\">\n",
    "    <b>c)</b> $f_3(x) = 5x^3 + x^2 - e^{1-2x} + cos(x) + 20$, com $x^* \\in [-5, 5]$\n",
    "</div>"
   ]
  },
  {
   "cell_type": "markdown",
   "id": "eab44626-8290-401a-bdbc-91a40c6a0972",
   "metadata": {},
   "source": [
    "**Definindo $f_3(x)$**"
   ]
  },
  {
   "cell_type": "code",
   "execution_count": 42,
   "id": "75d167c4-2937-43a6-8399-072745b3a677",
   "metadata": {},
   "outputs": [
    {
     "data": {
      "image/png": "[encoded data removed]",
      "text/latex": [
       "$\\displaystyle \\left( x \\mapsto 5 x^{3} + x^{2} - e^{1 - 2 x} + \\cos{\\left(x \\right)} + 20 \\right)$"
      ],
      "text/plain": [
       "       3    2    1 - 2⋅x              \n",
       "x ↦ 5⋅x  + x  - ℯ        + cos(x) + 20"
      ]
     },
     "execution_count": 42,
     "metadata": {},
     "output_type": "execute_result"
    }
   ],
   "source": [
    "sp.var('x')\n",
    "\n",
    "def f3(x, t=None):\n",
    "    if t == 'sp':\n",
    "        return (5*x**3 + x**2 - sp.exp(1-2*x) + sp.cos(x) + 20)\n",
    "    return (5*x**3 + x**2 - np.exp(1-2*x) + np.cos(x) + 20)\n",
    "\n",
    "sp.Lambda(x, f3(x, 'sp')) # 'printando' a função simbolicamente"
   ]
  },
  {
   "cell_type": "markdown",
   "id": "b048b7bf-7c8b-49cc-9488-c399c8024cef",
   "metadata": {},
   "source": [
    "**Refatorando $f_3(x)$**"
   ]
  },
  {
   "cell_type": "code",
   "execution_count": 43,
   "id": "93066885-4a2e-4032-8bd7-959ba52718ab",
   "metadata": {},
   "outputs": [
    {
     "data": {
      "image/png": "[encoded data removed]",
      "text/latex": [
       "$\\displaystyle \\left( x \\mapsto 5 x^{3} + x^{2} + x - e^{1 - 2 x} + \\cos{\\left(x \\right)} + 20 \\right)$"
      ],
      "text/plain": [
       "       3    2        1 - 2⋅x              \n",
       "x ↦ 5⋅x  + x  + x - ℯ        + cos(x) + 20"
      ]
     },
     "execution_count": 43,
     "metadata": {},
     "output_type": "execute_result"
    }
   ],
   "source": [
    "sp.var('x')\n",
    "\n",
    "def f3R(x, t=None):\n",
    "    if t == 'sp':\n",
    "        return ( 5*x**3 + x**2 - sp.exp(1-2*x) + sp.cos(x) + 20 + x )\n",
    "    return ( 5*x**3 + x**2 - np.exp(1-2*x) + np.cos(x) + 20 + x )\n",
    "\n",
    "sp.Lambda(x, f3R(x, 'sp')) # vendo o resultado simbólico"
   ]
  },
  {
   "cell_type": "markdown",
   "id": "9858d1b8-fd4a-4b74-8681-84362e2a2651",
   "metadata": {},
   "source": [
    "**Calculando $f_3'(x)$**"
   ]
  },
  {
   "cell_type": "code",
   "execution_count": 44,
   "id": "8e2a654e-2cf3-48b7-80b0-af6336bc319c",
   "metadata": {},
   "outputs": [
    {
     "data": {
      "image/png": "[encoded data removed]",
      "text/latex": [
       "$\\displaystyle \\left( x \\mapsto 15 x^{2} + 2 x + 2 e^{1 - 2 x} - \\sin{\\left(x \\right)} \\right)$"
      ],
      "text/plain": [
       "        2            1 - 2⋅x         \n",
       "x ↦ 15⋅x  + 2⋅x + 2⋅ℯ        - sin(x)"
      ]
     },
     "execution_count": 44,
     "metadata": {},
     "output_type": "execute_result"
    }
   ],
   "source": [
    "sp.var('x')\n",
    "\n",
    "f3D_sym = lambda x: sp.diff(f3(x, 'sp'), x) # calcula a derivada\n",
    "\n",
    "sp.Lambda(x, f3D_sym(x)) # vendo o resultado simbólico"
   ]
  },
  {
   "cell_type": "code",
   "execution_count": 45,
   "id": "5acb7d78-59f1-4564-a1f0-cdc74a9f4301",
   "metadata": {},
   "outputs": [
    {
     "data": {
      "image/png": "[encoded data removed]",
      "text/latex": [
       "$\\displaystyle \\left( x \\mapsto 15 x^{2} + 2 x + 2 e^{1 - 2 x} - \\sin{\\left(x \\right)} \\right)$"
      ],
      "text/plain": [
       "        2            1 - 2⋅x         \n",
       "x ↦ 15⋅x  + 2⋅x + 2⋅ℯ        - sin(x)"
      ]
     },
     "execution_count": 45,
     "metadata": {},
     "output_type": "execute_result"
    }
   ],
   "source": [
    "# aplicando o resultado\n",
    "def f3D(x, t=None): \n",
    "    if t == 'sp':\n",
    "        return (15*x**2 + 2*x + 2*sp.exp(1-2*x) - sp.sin(x))\n",
    "    return (15*x**2 + 2*x + 2*np.exp(1-2*x) - np.sin(x))\n",
    "\n",
    "sp.Lambda(x, f3D(x, 'sp')) # 'printando' a função simbolicamente"
   ]
  },
  {
   "cell_type": "markdown",
   "id": "2ce62839-4905-4950-b624-4d1aaf532bfb",
   "metadata": {},
   "source": [
    "**Limites do Intervalo**"
   ]
  },
  {
   "cell_type": "code",
   "execution_count": 46,
   "id": "23e19e68-994a-4576-a268-3385c350dacc",
   "metadata": {},
   "outputs": [],
   "source": [
    "f3_x0 = -5\n",
    "f3_x1 = 5"
   ]
  },
  {
   "cell_type": "markdown",
   "id": "308985bd-9d9c-41b4-978f-b26e8ab36fad",
   "metadata": {},
   "source": [
    " "
   ]
  },
  {
   "cell_type": "markdown",
   "id": "9b3d1aee-7a76-4c0a-84e8-930d0e67e849",
   "metadata": {},
   "source": [
    "**$f_3(x)$ - Bisseção**"
   ]
  },
  {
   "cell_type": "code",
   "execution_count": 47,
   "id": "3d9daa59-1e5b-4ff0-8d73-f5cf93b3396f",
   "metadata": {},
   "outputs": [
    {
     "name": "stdout",
     "output_type": "stream",
     "text": [
      "115 µs ± 12.3 µs per loop (mean ± std. dev. of 7 runs, 10000 loops each)\n"
     ]
    },
    {
     "data": {
      "text/plain": [
       "      converged: True\n",
       "           flag: 'converged'\n",
       " function_calls: 39\n",
       "     iterations: 37\n",
       "           root: -0.9295604598446516"
      ]
     },
     "execution_count": 47,
     "metadata": {},
     "output_type": "execute_result"
    }
   ],
   "source": [
    "%timeit opt.root_scalar(f3, method= 'bisect', bracket=[f3_x0, f3_x1], rtol=ex4_tol)\n",
    "opt.root_scalar(f3, method= 'bisect', bracket=[f3_x0, f3_x1], rtol=ex4_tol)"
   ]
  },
  {
   "cell_type": "markdown",
   "id": "86d04b59-493e-49ba-b225-3960fa625707",
   "metadata": {},
   "source": [
    " "
   ]
  },
  {
   "cell_type": "markdown",
   "id": "014370cb-c915-4287-8438-1ee0a5882e4f",
   "metadata": {},
   "source": [
    "**$f_3(x)$ - Falsa Posição**"
   ]
  },
  {
   "cell_type": "code",
   "execution_count": 48,
   "id": "223dcb40-d842-4287-b8bc-cf2d0f00610e",
   "metadata": {},
   "outputs": [
    {
     "name": "stdout",
     "output_type": "stream",
     "text": [
      "4.91 ms ± 609 µs per loop (mean ± std. dev. of 7 runs, 100 loops each)\n"
     ]
    },
    {
     "data": {
      "image/png": "[encoded data removed]",
      "text/latex": [
       "$\\displaystyle \\left( 1.568769261078, \\  200\\right)$"
      ],
      "text/plain": [
       "(1.5687692610780044, 200)"
      ]
     },
     "execution_count": 48,
     "metadata": {},
     "output_type": "execute_result"
    }
   ],
   "source": [
    "%timeit regula_falsi(f3, f3_x0, f3_x1, ex4_tol, ex4_maxit)\n",
    "regula_falsi(f3, f3_x0, f3_x1, ex4_tol, ex4_maxit)"
   ]
  },
  {
   "cell_type": "markdown",
   "id": "9764b4d1-0cd7-4a3b-b97a-ea59e013f832",
   "metadata": {},
   "source": [
    "  "
   ]
  },
  {
   "cell_type": "markdown",
   "id": "8381e2e0-506f-46ea-ad00-b25cb30d8fc7",
   "metadata": {},
   "source": [
    "**$f_3(x)$ - Ponto Fixo**"
   ]
  },
  {
   "cell_type": "code",
   "execution_count": 49,
   "id": "cab70567-5e8a-4b81-b494-809c22e35a56",
   "metadata": {
    "tags": []
   },
   "outputs": [
    {
     "name": "stdout",
     "output_type": "stream",
     "text": [
      "25.6 ms ± 3.45 ms per loop (mean ± std. dev. of 7 runs, 10 loops each)\n"
     ]
    },
    {
     "data": {
      "text/plain": [
       "array(-0.92956046)"
      ]
     },
     "execution_count": 49,
     "metadata": {},
     "output_type": "execute_result"
    }
   ],
   "source": [
    "%timeit opt.fixed_point(f3R, x0=1, xtol=ex4_tol, maxiter=ex4_maxit)\n",
    "opt.fixed_point(f3R, x0=1, xtol=ex4_tol, maxiter=ex4_maxit)"
   ]
  },
  {
   "cell_type": "markdown",
   "id": "aef868c6-be5d-4e8b-b3b0-65799954bfd2",
   "metadata": {},
   "source": [
    " "
   ]
  },
  {
   "cell_type": "markdown",
   "id": "fe43e629-8eb5-4fb5-89a9-b7f5cbd96226",
   "metadata": {},
   "source": [
    "**$f_3(x)$ - Newton-Raphson**"
   ]
  },
  {
   "cell_type": "code",
   "execution_count": 50,
   "id": "b2610b35-7fbe-4892-8206-4347bc49fe05",
   "metadata": {
    "tags": []
   },
   "outputs": [
    {
     "name": "stdout",
     "output_type": "stream",
     "text": [
      "395 µs ± 90.1 µs per loop (mean ± std. dev. of 7 runs, 1000 loops each)\n"
     ]
    },
    {
     "data": {
      "text/plain": [
       "      converged: True\n",
       "           flag: 'converged'\n",
       " function_calls: 14\n",
       "     iterations: 7\n",
       "           root: -0.9295604598378413"
      ]
     },
     "execution_count": 50,
     "metadata": {},
     "output_type": "execute_result"
    }
   ],
   "source": [
    "%timeit opt.root_scalar(f3, fprime=f3D, x0=1, xtol=ex4_tol, maxiter=ex4_maxit, method='newton')\n",
    "opt.root_scalar(f3, fprime=f3D, x0=1, xtol=ex4_tol, maxiter=ex4_maxit, method='newton')"
   ]
  },
  {
   "cell_type": "markdown",
   "id": "818af43e-b953-400f-84ad-eba90128d00f",
   "metadata": {},
   "source": [
    " "
   ]
  },
  {
   "cell_type": "markdown",
   "id": "fd0ba9b7-de25-425f-b8b5-0f79342141b3",
   "metadata": {},
   "source": [
    "**$f_3(x)$ - Secante**"
   ]
  },
  {
   "cell_type": "code",
   "execution_count": 51,
   "id": "1cd32e18-e6da-4691-8fd3-088bd2b393da",
   "metadata": {},
   "outputs": [
    {
     "name": "stdout",
     "output_type": "stream",
     "text": [
      "974 µs ± 40.2 µs per loop (mean ± std. dev. of 7 runs, 1000 loops each)\n"
     ]
    },
    {
     "data": {
      "text/plain": [
       "      converged: True\n",
       "           flag: 'converged'\n",
       " function_calls: 25\n",
       "     iterations: 24\n",
       "           root: -0.9295604598378412"
      ]
     },
     "execution_count": 51,
     "metadata": {},
     "output_type": "execute_result"
    }
   ],
   "source": [
    "%timeit opt.root_scalar(f3, x0=f3_x0, x1=f3_x1, maxiter=ex4_maxit, xtol=ex4_tol, method='secant')\n",
    "opt.root_scalar(f3, x0=f3_x0, x1=f3_x1, maxiter=ex4_maxit, xtol=ex4_tol, method='secant')"
   ]
  },
  {
   "cell_type": "markdown",
   "id": "f5e3a2af-e886-4c54-b730-d1128887ac65",
   "metadata": {},
   "source": [
    " "
   ]
  },
  {
   "cell_type": "markdown",
   "id": "4a95c7a9-6b86-4eac-9aaf-d05a91368354",
   "metadata": {},
   "source": [
    "---"
   ]
  },
  {
   "cell_type": "markdown",
   "id": "8f92e413-8f31-4ab3-98ff-8138fb28c422",
   "metadata": {},
   "source": [
    "<div class=\"alert alert-block alert-info\" style=\"color:#20484d;\">\n",
    "    <b>d)</b> $f_4(x) = sin(x)x + 4$, com $x^* \\in [1, 5]$\n",
    "</div>"
   ]
  },
  {
   "cell_type": "markdown",
   "id": "dc60d4d1-495e-46e1-b6a4-ee00e4ecbeba",
   "metadata": {},
   "source": [
    "**Definindo $f_4(x)$**"
   ]
  },
  {
   "cell_type": "code",
   "execution_count": 52,
   "id": "472c3044-a09c-4e79-bf96-87eafe462cd6",
   "metadata": {},
   "outputs": [
    {
     "data": {
      "image/png": "[encoded data removed]",
      "text/latex": [
       "$\\displaystyle \\left( x \\mapsto x \\sin{\\left(x \\right)} + 4 \\right)$"
      ],
      "text/plain": [
       "x ↦ x⋅sin(x) + 4"
      ]
     },
     "execution_count": 52,
     "metadata": {},
     "output_type": "execute_result"
    }
   ],
   "source": [
    "sp.var('x')\n",
    "\n",
    "def f4(x, t=None):\n",
    "    if t == 'sp':\n",
    "        return (sp.sin(x)*x + 4)\n",
    "    return (np.sin(x)*x + 4)\n",
    "\n",
    "sp.Lambda(x, f4(x, 'sp')) # 'printando' a função simbolicamente"
   ]
  },
  {
   "cell_type": "markdown",
   "id": "679a270d-cc91-494a-ba72-975cf44ba609",
   "metadata": {},
   "source": [
    "**Refatorando $f_4(x)$**"
   ]
  },
  {
   "cell_type": "code",
   "execution_count": 53,
   "id": "924ea29b-13cc-4ef2-af1b-ce594a00b7f6",
   "metadata": {},
   "outputs": [
    {
     "data": {
      "image/png": "[encoded data removed]",
      "text/latex": [
       "$\\displaystyle \\left( x \\mapsto - \\frac{4}{\\sin{\\left(x \\right)}} \\right)$"
      ],
      "text/plain": [
       "     -4   \n",
       "x ↦ ──────\n",
       "    sin(x)"
      ]
     },
     "execution_count": 53,
     "metadata": {},
     "output_type": "execute_result"
    }
   ],
   "source": [
    "sp.var('x')\n",
    "\n",
    "def f4R(x, t=None):\n",
    "    if t == 'sp':\n",
    "        return ( (-4) / sp.sin(x) )\n",
    "    return ( (-4) / np.sin(x) )\n",
    "\n",
    "sp.Lambda(x, f4R(x, 'sp')) # vendo o resultado simbólico"
   ]
  },
  {
   "cell_type": "markdown",
   "id": "5623ac46-eba5-49e6-9961-d97e48fcbb5d",
   "metadata": {},
   "source": [
    "**Calculando $f_4'(x)$**"
   ]
  },
  {
   "cell_type": "code",
   "execution_count": 54,
   "id": "6642736d-d410-4ead-8a53-c6ecdfecb996",
   "metadata": {},
   "outputs": [
    {
     "data": {
      "image/png": "[encoded data removed]",
      "text/latex": [
       "$\\displaystyle \\left( x \\mapsto x \\cos{\\left(x \\right)} + \\sin{\\left(x \\right)} \\right)$"
      ],
      "text/plain": [
       "x ↦ x⋅cos(x) + sin(x)"
      ]
     },
     "execution_count": 54,
     "metadata": {},
     "output_type": "execute_result"
    }
   ],
   "source": [
    "sp.var('x')\n",
    "\n",
    "f4D_sym = lambda x: sp.diff(f4(x, 'sp'), x) # calcula a derivada\n",
    "\n",
    "sp.Lambda(x, f4D_sym(x)) # vendo o resultado simbólico"
   ]
  },
  {
   "cell_type": "code",
   "execution_count": 55,
   "id": "cef9893d-18b5-4acb-8752-0ad5d12769d2",
   "metadata": {},
   "outputs": [
    {
     "data": {
      "image/png": "[encoded data removed]",
      "text/latex": [
       "$\\displaystyle \\left( x \\mapsto x \\cos{\\left(x \\right)} + \\sin{\\left(x \\right)} \\right)$"
      ],
      "text/plain": [
       "x ↦ x⋅cos(x) + sin(x)"
      ]
     },
     "execution_count": 55,
     "metadata": {},
     "output_type": "execute_result"
    }
   ],
   "source": [
    "# aplicando o resultado\n",
    "def f4D(x, t=None): \n",
    "    if t == 'sp':\n",
    "        return (x * sp.cos(x) + sp.sin(x))\n",
    "    return (x * np.cos(x) + np.sin(x))\n",
    "\n",
    "sp.Lambda(x, f4D(x, 'sp')) # 'printando' a função simbolicamente"
   ]
  },
  {
   "cell_type": "markdown",
   "id": "b03c3788-6825-43c3-abae-0260afae68dd",
   "metadata": {},
   "source": [
    "**Limites do Intervalo**"
   ]
  },
  {
   "cell_type": "code",
   "execution_count": 56,
   "id": "850c8b62-954c-46ed-94f2-f388c0b5555f",
   "metadata": {},
   "outputs": [],
   "source": [
    "f4_x1 = 1\n",
    "f4_x0 = 5"
   ]
  },
  {
   "cell_type": "markdown",
   "id": "222dcba1-3c2e-47d1-a096-9a27afdc2009",
   "metadata": {},
   "source": [
    " "
   ]
  },
  {
   "cell_type": "markdown",
   "id": "37f25739-54be-4f87-b0d9-a76eaaedf69a",
   "metadata": {},
   "source": [
    "**$f_4(x)$ - Bisseção**"
   ]
  },
  {
   "cell_type": "code",
   "execution_count": 57,
   "id": "760fcb40-3077-441a-8ce0-e9224d003590",
   "metadata": {},
   "outputs": [
    {
     "name": "stdout",
     "output_type": "stream",
     "text": [
      "55.1 µs ± 2.85 µs per loop (mean ± std. dev. of 7 runs, 10000 loops each)\n"
     ]
    },
    {
     "data": {
      "text/plain": [
       "      converged: True\n",
       "           flag: 'converged'\n",
       " function_calls: 36\n",
       "     iterations: 34\n",
       "           root: 4.323239543708041"
      ]
     },
     "execution_count": 57,
     "metadata": {},
     "output_type": "execute_result"
    }
   ],
   "source": [
    "%timeit opt.root_scalar(f4, method= 'bisect', bracket=[f4_x0, f4_x1], rtol=ex4_tol)\n",
    "opt.root_scalar(f4, method= 'bisect', bracket=[f4_x0, f4_x1], rtol=ex4_tol)"
   ]
  },
  {
   "cell_type": "markdown",
   "id": "3a144f7d-41fd-4ac8-9cde-7a4dc6f88388",
   "metadata": {},
   "source": [
    " "
   ]
  },
  {
   "cell_type": "markdown",
   "id": "ab24c465-5065-40dd-b5c4-fa8ab3ea18dd",
   "metadata": {},
   "source": [
    "**$f_4(x)$ - Falsa Posição**"
   ]
  },
  {
   "cell_type": "code",
   "execution_count": 58,
   "id": "987a9e60-0895-48c3-8021-f32306b2b9b0",
   "metadata": {},
   "outputs": [
    {
     "name": "stdout",
     "output_type": "stream",
     "text": [
      "102 µs ± 648 ns per loop (mean ± std. dev. of 7 runs, 10000 loops each)\n"
     ]
    },
    {
     "data": {
      "image/png": "[encoded data removed]",
      "text/latex": [
       "$\\displaystyle \\left( 4.32323954371448, \\  10\\right)$"
      ],
      "text/plain": [
       "(4.323239543714482, 10)"
      ]
     },
     "execution_count": 58,
     "metadata": {},
     "output_type": "execute_result"
    }
   ],
   "source": [
    "%timeit regula_falsi(f4, f4_x0, f4_x1, ex4_tol, ex4_maxit)\n",
    "regula_falsi(f4, f4_x0, f4_x1, ex4_tol, ex4_maxit)"
   ]
  },
  {
   "cell_type": "markdown",
   "id": "1418157c-cbe2-4251-b2d6-29bb58b6ac8b",
   "metadata": {},
   "source": [
    " "
   ]
  },
  {
   "cell_type": "markdown",
   "id": "d30db0ff-a5c3-4710-99a5-80a7cbf4b0ad",
   "metadata": {},
   "source": [
    "**$f_4(x)$ - Ponto Fixo**"
   ]
  },
  {
   "cell_type": "code",
   "execution_count": 59,
   "id": "068b3f46-6090-4677-a11e-cd212589c250",
   "metadata": {
    "tags": []
   },
   "outputs": [
    {
     "name": "stdout",
     "output_type": "stream",
     "text": [
      "687 µs ± 51.7 µs per loop (mean ± std. dev. of 7 runs, 1000 loops each)\n"
     ]
    },
    {
     "data": {
      "text/plain": [
       "array(4.32323954)"
      ]
     },
     "execution_count": 59,
     "metadata": {},
     "output_type": "execute_result"
    }
   ],
   "source": [
    "%timeit opt.fixed_point(f4R, x0=f4_x0, xtol=ex4_tol, maxiter=ex4_maxit)\n",
    "opt.fixed_point(f4R, x0=f4_x0, xtol=ex4_tol, maxiter=ex4_maxit)"
   ]
  },
  {
   "cell_type": "markdown",
   "id": "b0b07448-5d54-4797-bcb8-6bb4336cedee",
   "metadata": {},
   "source": [
    " "
   ]
  },
  {
   "cell_type": "markdown",
   "id": "e2917e8e-0c23-4f5d-a996-e492c484d598",
   "metadata": {},
   "source": [
    "**$f_4(x)$ - Newton-Raphson**"
   ]
  },
  {
   "cell_type": "code",
   "execution_count": 60,
   "id": "b79fb300-ae5c-4258-b73c-35ad22f727b0",
   "metadata": {
    "tags": []
   },
   "outputs": [
    {
     "name": "stdout",
     "output_type": "stream",
     "text": [
      "209 µs ± 3.07 µs per loop (mean ± std. dev. of 7 runs, 1000 loops each)\n"
     ]
    },
    {
     "data": {
      "text/plain": [
       "      converged: True\n",
       "           flag: 'converged'\n",
       " function_calls: 10\n",
       "     iterations: 5\n",
       "           root: 4.323239543713714"
      ]
     },
     "execution_count": 60,
     "metadata": {},
     "output_type": "execute_result"
    }
   ],
   "source": [
    "%timeit opt.root_scalar(f4, fprime=f4D, x0=4, xtol=ex4_tol, maxiter=ex4_maxit, method='newton')\n",
    "opt.root_scalar(f4, fprime=f4D, x0=4, xtol=ex4_tol, maxiter=ex4_maxit, method='newton')"
   ]
  },
  {
   "cell_type": "markdown",
   "id": "21a975e7-774a-43ae-ae4b-53e1e628ac34",
   "metadata": {},
   "source": [
    " "
   ]
  },
  {
   "cell_type": "markdown",
   "id": "c17c6611-3823-4af1-8e24-038a7efe5f77",
   "metadata": {},
   "source": [
    "**$f_4(x)$ - Secante**"
   ]
  },
  {
   "cell_type": "code",
   "execution_count": 61,
   "id": "92da9dc4-c7b5-48c4-b2a9-0796eeb1c824",
   "metadata": {},
   "outputs": [
    {
     "name": "stdout",
     "output_type": "stream",
     "text": [
      "267 µs ± 2.57 µs per loop (mean ± std. dev. of 7 runs, 1000 loops each)\n"
     ]
    },
    {
     "data": {
      "text/plain": [
       "      converged: True\n",
       "           flag: 'converged'\n",
       " function_calls: 8\n",
       "     iterations: 7\n",
       "           root: 4.323239543713714"
      ]
     },
     "execution_count": 61,
     "metadata": {},
     "output_type": "execute_result"
    }
   ],
   "source": [
    "%timeit opt.root_scalar(f4, x0=f4_x0, x1=f4_x1, maxiter=ex4_maxit, xtol=ex4_tol, method='secant')\n",
    "opt.root_scalar(f4, x0=f4_x0, x1=f4_x1, maxiter=ex4_maxit, xtol=ex4_tol, method='secant')"
   ]
  },
  {
   "cell_type": "markdown",
   "id": "68213173-5611-434a-b097-ff276973003b",
   "metadata": {},
   "source": [
    " "
   ]
  },
  {
   "cell_type": "markdown",
   "id": "8b154ff8-119f-4baa-92fc-034e50c7095e",
   "metadata": {},
   "source": [
    "---"
   ]
  },
  {
   "cell_type": "markdown",
   "id": "13499dc8-b397-4495-84cc-4670e261f4bf",
   "metadata": {},
   "source": [
    "<div class=\"alert alert-block alert-info\" style=\"color:#20484d;\">\n",
    "    <b>e)</b> $f_5(x) = (x - 3)^5 ln(x)$, com $x^* \\in [2, 5]$\n",
    "</div>"
   ]
  },
  {
   "cell_type": "markdown",
   "id": "6a3e54f4-037f-47ec-8f86-d97baef8399d",
   "metadata": {},
   "source": [
    "**Definindo $f_5(x)$**"
   ]
  },
  {
   "cell_type": "code",
   "execution_count": 62,
   "id": "fe646cd0-5a16-4a11-ac40-46a32fa2f6e1",
   "metadata": {},
   "outputs": [
    {
     "data": {
      "image/png": "[encoded data removed]",
      "text/latex": [
       "$\\displaystyle \\left( x \\mapsto \\left(x - 3\\right)^{5} \\log{\\left(x \\right)} \\right)$"
      ],
      "text/plain": [
       "           5       \n",
       "x ↦ (x - 3) ⋅log(x)"
      ]
     },
     "execution_count": 62,
     "metadata": {},
     "output_type": "execute_result"
    }
   ],
   "source": [
    "sp.var('x')\n",
    "\n",
    "def f5(x, t=None):\n",
    "    if t == 'sp':\n",
    "        return ( (x - 3)**5 * sp.ln(x) )\n",
    "    return ( (x - 3)**5 * np.log(x) )\n",
    "\n",
    "sp.Lambda(x, f5(x, 'sp')) # 'printando' a função simbolicamente"
   ]
  },
  {
   "cell_type": "markdown",
   "id": "a8c1027a-35bb-49a9-b588-9284ffb16228",
   "metadata": {},
   "source": [
    "**Refatorando $f_5(x)$**"
   ]
  },
  {
   "cell_type": "code",
   "execution_count": 63,
   "id": "f632d6e9-7453-4835-aad2-55e6a94dffd6",
   "metadata": {},
   "outputs": [
    {
     "data": {
      "image/png": "[encoded data removed]",
      "text/latex": [
       "$\\displaystyle \\left( x \\mapsto x + \\left(x - 3\\right)^{5} \\log{\\left(x \\right)} \\right)$"
      ],
      "text/plain": [
       "               5       \n",
       "x ↦ x + (x - 3) ⋅log(x)"
      ]
     },
     "execution_count": 63,
     "metadata": {},
     "output_type": "execute_result"
    }
   ],
   "source": [
    "sp.var('x')\n",
    "\n",
    "def f5R(x, t=None):\n",
    "    if t == 'sp':\n",
    "        return ( (x-3)**5 * sp.log(x) + x )\n",
    "    return ( (x-3)**5 * np.log(x) + x )\n",
    "\n",
    "sp.Lambda(x, f5R(x, 'sp')) # vendo o resultado simbólico"
   ]
  },
  {
   "cell_type": "markdown",
   "id": "e6861e77-810b-420d-91da-baa92701576a",
   "metadata": {},
   "source": [
    "**Calculando $f_5'(x)$**"
   ]
  },
  {
   "cell_type": "code",
   "execution_count": 64,
   "id": "24c2c952-3fe7-4c7e-89bd-f80ac9053e28",
   "metadata": {},
   "outputs": [
    {
     "data": {
      "image/png": "[encoded data removed]",
      "text/latex": [
       "$\\displaystyle \\left( x \\mapsto 5 \\left(x - 3\\right)^{4} \\log{\\left(x \\right)} + \\frac{\\left(x - 3\\right)^{5}}{x} \\right)$"
      ],
      "text/plain": [
       "                               5\n",
       "             4          (x - 3) \n",
       "x ↦ 5⋅(x - 3) ⋅log(x) + ────────\n",
       "                           x    "
      ]
     },
     "execution_count": 64,
     "metadata": {},
     "output_type": "execute_result"
    }
   ],
   "source": [
    "sp.var('x')\n",
    "\n",
    "f5D_sym = lambda x: sp.diff(f5(x, 'sp'), x) # calcula a derivada\n",
    "\n",
    "sp.Lambda(x, f5D_sym(x)) # vendo o resultado simbólico"
   ]
  },
  {
   "cell_type": "code",
   "execution_count": 65,
   "id": "704c906d-193c-42dd-850f-91393cd3f189",
   "metadata": {},
   "outputs": [
    {
     "data": {
      "image/png": "[encoded data removed]",
      "text/latex": [
       "$\\displaystyle \\left( x \\mapsto 5 \\left(x - 3\\right)^{4} \\log{\\left(x \\right)} + \\frac{\\left(x - 3\\right)^{5}}{x} \\right)$"
      ],
      "text/plain": [
       "                               5\n",
       "             4          (x - 3) \n",
       "x ↦ 5⋅(x - 3) ⋅log(x) + ────────\n",
       "                           x    "
      ]
     },
     "execution_count": 65,
     "metadata": {},
     "output_type": "execute_result"
    }
   ],
   "source": [
    "# aplicando o resultado\n",
    "def f5D(x, t=None):\n",
    "    if t == 'sp':\n",
    "        return ( 5*(x - 3)**4 * sp.log(x) + sp.Pow((x-3),5) / x )\n",
    "    return ( 5*(x - 3)**4 * np.log(x) + ((x-3)**5 / x) )\n",
    "\n",
    "sp.Lambda(x, f5D(x, 'sp')) # 'printando' a função simbolicamente"
   ]
  },
  {
   "cell_type": "markdown",
   "id": "7af2d6a0-7c23-4922-b480-12cf5477d672",
   "metadata": {},
   "source": [
    "**Limites do Intervalo**"
   ]
  },
  {
   "cell_type": "code",
   "execution_count": 66,
   "id": "be9eafda-137d-4bf6-a25b-53f88422a12d",
   "metadata": {},
   "outputs": [],
   "source": [
    "f5_x0 = 2\n",
    "f5_x1 = 5"
   ]
  },
  {
   "cell_type": "markdown",
   "id": "a256aa1b-3da9-4610-9dae-3d642bf5957f",
   "metadata": {},
   "source": [
    " "
   ]
  },
  {
   "cell_type": "markdown",
   "id": "551637bb-8e02-47f7-b12d-0854a4da3a72",
   "metadata": {},
   "source": [
    "**$f_5(x)$ - Bisseção**"
   ]
  },
  {
   "cell_type": "code",
   "execution_count": 67,
   "id": "850e6f7b-2d46-4c85-86e8-3e71e4e7263d",
   "metadata": {},
   "outputs": [
    {
     "name": "stdout",
     "output_type": "stream",
     "text": [
      "46.2 µs ± 3.06 µs per loop (mean ± std. dev. of 7 runs, 10000 loops each)\n"
     ]
    },
    {
     "data": {
      "text/plain": [
       "      converged: True\n",
       "           flag: 'converged'\n",
       " function_calls: 36\n",
       "     iterations: 34\n",
       "           root: 2.9999999999417923"
      ]
     },
     "execution_count": 67,
     "metadata": {},
     "output_type": "execute_result"
    }
   ],
   "source": [
    "%timeit opt.root_scalar(f5, method= 'bisect', bracket=[f5_x0, f5_x1], rtol=ex4_tol)\n",
    "opt.root_scalar(f5, method= 'bisect', bracket=[f5_x0, f5_x1], rtol=ex4_tol)"
   ]
  },
  {
   "cell_type": "markdown",
   "id": "f95edc88-f664-47a3-918e-12c8de989d86",
   "metadata": {},
   "source": [
    " "
   ]
  },
  {
   "cell_type": "markdown",
   "id": "415a32d9-2713-4039-b45f-8f87fe372661",
   "metadata": {},
   "source": [
    "**$f_5(x)$ - Falsa Posição**"
   ]
  },
  {
   "cell_type": "code",
   "execution_count": 68,
   "id": "c97d7273-0354-43c8-b0d5-f53ca6fae38b",
   "metadata": {},
   "outputs": [
    {
     "name": "stdout",
     "output_type": "stream",
     "text": [
      "3.24 ms ± 813 µs per loop (mean ± std. dev. of 7 runs, 100 loops each)\n"
     ]
    },
    {
     "data": {
      "image/png": "[encoded data removed]",
      "text/latex": [
       "$\\displaystyle \\left( 2.59390976420546, \\  200\\right)$"
      ],
      "text/plain": [
       "(2.593909764205461, 200)"
      ]
     },
     "execution_count": 68,
     "metadata": {},
     "output_type": "execute_result"
    }
   ],
   "source": [
    "%timeit regula_falsi(f5, f5_x0, f5_x1, ex4_tol, ex4_maxit)\n",
    "regula_falsi(f5, f5_x0, f5_x1, ex4_tol, ex4_maxit)"
   ]
  },
  {
   "cell_type": "markdown",
   "id": "84d50313-643b-497d-8b69-6b9156ab2cd1",
   "metadata": {},
   "source": [
    " "
   ]
  },
  {
   "cell_type": "markdown",
   "id": "3a081626-8cf8-47a5-8747-bea24ace8fcb",
   "metadata": {},
   "source": [
    "**$f_5(x)$ - Ponto Fixo**"
   ]
  },
  {
   "cell_type": "code",
   "execution_count": 69,
   "id": "7a5e3564-99b5-4443-b396-0640a79297a7",
   "metadata": {
    "tags": []
   },
   "outputs": [
    {
     "name": "stdout",
     "output_type": "stream",
     "text": [
      "27 ms ± 1.89 ms per loop (mean ± std. dev. of 7 runs, 10 loops each)\n"
     ]
    },
    {
     "data": {
      "text/plain": [
       "array(2.98889825)"
      ]
     },
     "execution_count": 69,
     "metadata": {},
     "output_type": "execute_result"
    }
   ],
   "source": [
    "%timeit opt.fixed_point(f5R, x0=2, xtol=10**-9.9, maxiter=ex4_maxit)\n",
    "opt.fixed_point(f5R, x0=2, xtol=10**-9.9, maxiter=ex4_maxit)"
   ]
  },
  {
   "cell_type": "markdown",
   "id": "f1865758-2637-4699-aa8e-69fc4d4e6dae",
   "metadata": {},
   "source": [
    "**$f_5(x)$ - Newton-Raphson**"
   ]
  },
  {
   "cell_type": "code",
   "execution_count": 70,
   "id": "598fc825-1b52-4960-98d4-022c94f2bdfc",
   "metadata": {
    "tags": []
   },
   "outputs": [
    {
     "name": "stdout",
     "output_type": "stream",
     "text": [
      "4.73 ms ± 1.09 ms per loop (mean ± std. dev. of 7 runs, 100 loops each)\n"
     ]
    },
    {
     "data": {
      "text/plain": [
       "      converged: True\n",
       "           flag: 'converged'\n",
       " function_calls: 194\n",
       "     iterations: 97\n",
       "           root: 2.99999999964898"
      ]
     },
     "execution_count": 70,
     "metadata": {},
     "output_type": "execute_result"
    }
   ],
   "source": [
    "%timeit opt.root_scalar(f5, fprime=f5D, x0=f5_x0, xtol=ex4_tol, maxiter=ex4_maxit, method='newton')\n",
    "opt.root_scalar(f5, fprime=f5D, x0=f5_x0, xtol=ex4_tol, maxiter=ex4_maxit, method='newton')"
   ]
  },
  {
   "cell_type": "markdown",
   "id": "b6b5cd63-5e55-4bf0-bac7-979ac88d6303",
   "metadata": {},
   "source": [
    " "
   ]
  },
  {
   "cell_type": "markdown",
   "id": "09eed0b5-abdd-4bf5-9ae8-02c4edca18af",
   "metadata": {},
   "source": [
    "**$f_5(x)$ - Secante**"
   ]
  },
  {
   "cell_type": "code",
   "execution_count": 71,
   "id": "61854e24-6d11-4f42-bc24-b69953bfaa44",
   "metadata": {},
   "outputs": [
    {
     "name": "stdout",
     "output_type": "stream",
     "text": [
      "7.79 ms ± 1.62 ms per loop (mean ± std. dev. of 7 runs, 100 loops each)\n"
     ]
    },
    {
     "data": {
      "text/plain": [
       "      converged: True\n",
       "           flag: 'converged'\n",
       " function_calls: 139\n",
       "     iterations: 138\n",
       "           root: 2.999999999418057"
      ]
     },
     "execution_count": 71,
     "metadata": {},
     "output_type": "execute_result"
    }
   ],
   "source": [
    "%timeit opt.root_scalar(f5, x0=f5_x0, x1=f5_x1, maxiter=ex4_maxit, xtol=ex4_tol, method='secant')\n",
    "opt.root_scalar(f5, x0=f5_x0, x1=f5_x1, maxiter=ex4_maxit, xtol=ex4_tol, method='secant')"
   ]
  },
  {
   "cell_type": "markdown",
   "id": "24a7c40c-5124-42a1-b1dd-9723c6fd82f8",
   "metadata": {},
   "source": [
    " "
   ]
  },
  {
   "cell_type": "markdown",
   "id": "54781fba-3159-4e02-87b7-88252aa6749d",
   "metadata": {},
   "source": [
    "---"
   ]
  },
  {
   "cell_type": "markdown",
   "id": "f444dfc8-53a0-4170-87bb-46d5b5373ae5",
   "metadata": {},
   "source": [
    "<div class=\"alert alert-block alert-info\" style=\"color:#20484d;\">\n",
    "    <b>f)</b> $f_6(x) = x^{10} - 1$, com $x^* \\in [0.8, 1.2]$\n",
    "</div>"
   ]
  },
  {
   "cell_type": "markdown",
   "id": "88c78bf7-703d-4a92-894c-ae4a11f0048b",
   "metadata": {},
   "source": [
    "**Definindo $f_6(x)$**"
   ]
  },
  {
   "cell_type": "code",
   "execution_count": 72,
   "id": "dd1876f2-2e33-4642-a5bd-f0986c012634",
   "metadata": {},
   "outputs": [
    {
     "data": {
      "image/png": "[encoded data removed]",
      "text/latex": [
       "$\\displaystyle \\left( x \\mapsto x^{10} - 1 \\right)$"
      ],
      "text/plain": [
       "     10    \n",
       "x ↦ x   - 1"
      ]
     },
     "execution_count": 72,
     "metadata": {},
     "output_type": "execute_result"
    }
   ],
   "source": [
    "sp.var('x')\n",
    "\n",
    "f6 = lambda x: x**10 - 1\n",
    "\n",
    "sp.Lambda(x, f6(x)) # 'printando' a função simbolicamente"
   ]
  },
  {
   "cell_type": "markdown",
   "id": "7d62e88e-4ff3-4f9c-a7b3-bae0f84da2f9",
   "metadata": {},
   "source": [
    "**Refatorando $f_6(x)$**"
   ]
  },
  {
   "cell_type": "code",
   "execution_count": 73,
   "id": "21e2e48d-e40c-499b-994c-7272ace19549",
   "metadata": {},
   "outputs": [
    {
     "data": {
      "image/png": "[encoded data removed]",
      "text/latex": [
       "$\\displaystyle \\left( x \\mapsto \\frac{1}{x^{9}} \\right)$"
      ],
      "text/plain": [
       "    1 \n",
       "x ↦ ──\n",
       "     9\n",
       "    x "
      ]
     },
     "execution_count": 73,
     "metadata": {},
     "output_type": "execute_result"
    }
   ],
   "source": [
    "sp.var('x')\n",
    "\n",
    "f6R = lambda x: 1/(x)**9\n",
    "\n",
    "sp.Lambda(x, f6R(x)) # vendo o resultado simbólico"
   ]
  },
  {
   "cell_type": "markdown",
   "id": "279719f9-bb01-432f-945d-7acd35d215c9",
   "metadata": {},
   "source": [
    "**Calculando $f_6'(x)$**"
   ]
  },
  {
   "cell_type": "code",
   "execution_count": 74,
   "id": "839fb062-8058-4c83-998e-ba770a26fe8f",
   "metadata": {},
   "outputs": [
    {
     "data": {
      "image/png": "[encoded data removed]",
      "text/latex": [
       "$\\displaystyle \\left( x \\mapsto 10 x^{9} \\right)$"
      ],
      "text/plain": [
       "        9\n",
       "x ↦ 10⋅x "
      ]
     },
     "execution_count": 74,
     "metadata": {},
     "output_type": "execute_result"
    }
   ],
   "source": [
    "sp.var('x')\n",
    "\n",
    "f6D_sym = lambda x: eval(sp.ccode(sp.diff(f6(x), x)))\n",
    "\n",
    "sp.Lambda(x, f6D_sym(x)) # 'printando' a função simbolicamente"
   ]
  },
  {
   "cell_type": "code",
   "execution_count": 75,
   "id": "c49af8b3-b9b6-44cf-912a-510ee4d743f7",
   "metadata": {},
   "outputs": [],
   "source": [
    "f6D = lambda x: 10 * x**9"
   ]
  },
  {
   "cell_type": "markdown",
   "id": "df16ac52-8917-4dd5-b739-28d9351292b3",
   "metadata": {},
   "source": [
    "**Limites do Intervalo**"
   ]
  },
  {
   "cell_type": "code",
   "execution_count": 76,
   "id": "dd858a62-7a7d-4a75-9bfe-512b5d45d6e5",
   "metadata": {},
   "outputs": [],
   "source": [
    "f6_x0 = 0.8\n",
    "f6_x1 = 1.2"
   ]
  },
  {
   "cell_type": "markdown",
   "id": "621fbeda-eee0-47dd-91e5-1fcd189a3daf",
   "metadata": {},
   "source": [
    " "
   ]
  },
  {
   "cell_type": "markdown",
   "id": "4f7ee575-5c8d-4071-ac05-3476b757022c",
   "metadata": {},
   "source": [
    "**$f_6(x)$ - Bisseção**"
   ]
  },
  {
   "cell_type": "code",
   "execution_count": 77,
   "id": "5bc79f85-4103-48ab-ae8f-d3647dde24f9",
   "metadata": {},
   "outputs": [
    {
     "name": "stdout",
     "output_type": "stream",
     "text": [
      "9.41 µs ± 1.1 µs per loop (mean ± std. dev. of 7 runs, 100000 loops each)\n"
     ]
    },
    {
     "data": {
      "text/plain": [
       "      converged: True\n",
       "           flag: 'converged'\n",
       " function_calls: 3\n",
       "     iterations: 1\n",
       "           root: 1.0"
      ]
     },
     "execution_count": 77,
     "metadata": {},
     "output_type": "execute_result"
    }
   ],
   "source": [
    "%timeit opt.root_scalar(f6, method= 'bisect', bracket=[f6_x0, f6_x1], rtol=ex4_tol)\n",
    "opt.root_scalar(f6, method= 'bisect', bracket=[f6_x0, f6_x1], rtol=ex4_tol)"
   ]
  },
  {
   "cell_type": "markdown",
   "id": "b2e1e634-e845-4564-80fe-415fa19b742c",
   "metadata": {},
   "source": [
    " "
   ]
  },
  {
   "cell_type": "markdown",
   "id": "5c7a9f09-3066-4381-adee-a97663dc4bd1",
   "metadata": {},
   "source": [
    "**$f_6(x)$ - Falsa Posição**"
   ]
  },
  {
   "cell_type": "code",
   "execution_count": 78,
   "id": "1aaed92d-3c07-4384-a8dc-c9fb78861b0e",
   "metadata": {},
   "outputs": [
    {
     "name": "stdout",
     "output_type": "stream",
     "text": [
      "136 µs ± 7.35 µs per loop (mean ± std. dev. of 7 runs, 10000 loops each)\n"
     ]
    },
    {
     "data": {
      "image/png": "[encoded data removed]",
      "text/latex": [
       "$\\displaystyle \\left( 0.999999999900299, \\  45\\right)$"
      ],
      "text/plain": [
       "(0.9999999999002991, 45)"
      ]
     },
     "execution_count": 78,
     "metadata": {},
     "output_type": "execute_result"
    }
   ],
   "source": [
    "%timeit regula_falsi(f6, f6_x0, f6_x1, ex4_tol, ex4_maxit)\n",
    "regula_falsi(f6, f6_x0, f6_x1, ex4_tol, ex4_maxit)"
   ]
  },
  {
   "cell_type": "markdown",
   "id": "1b015eae-536a-43ec-8f1c-a404b37bba0d",
   "metadata": {},
   "source": [
    " "
   ]
  },
  {
   "cell_type": "markdown",
   "id": "42549459-0b13-4feb-b6cc-6d9bc895cc8f",
   "metadata": {},
   "source": [
    "**$f_6(x)$ - Ponto Fixo**"
   ]
  },
  {
   "cell_type": "code",
   "execution_count": 79,
   "id": "5acdb2c8-046d-46b2-81cb-9a8b15f6fd03",
   "metadata": {
    "tags": []
   },
   "outputs": [
    {
     "name": "stdout",
     "output_type": "stream",
     "text": [
      "157 µs ± 18.4 µs per loop (mean ± std. dev. of 7 runs, 10000 loops each)\n"
     ]
    },
    {
     "data": {
      "text/plain": [
       "array(1.)"
      ]
     },
     "execution_count": 79,
     "metadata": {},
     "output_type": "execute_result"
    }
   ],
   "source": [
    "%timeit opt.fixed_point(f6R, x0=1, xtol=ex4_tol, maxiter=ex4_maxit)\n",
    "opt.fixed_point(f6R, x0=1, xtol=ex4_tol, maxiter=ex4_maxit)"
   ]
  },
  {
   "cell_type": "markdown",
   "id": "b01f4ffb-b3d5-4cd7-9198-f66cf30fdba9",
   "metadata": {},
   "source": [
    " "
   ]
  },
  {
   "cell_type": "markdown",
   "id": "6cdfbce4-e928-41fe-a9fd-41d29cbe9469",
   "metadata": {},
   "source": [
    "**$f_6(x)$ - Newton-Raphson**"
   ]
  },
  {
   "cell_type": "code",
   "execution_count": 80,
   "id": "4c8b47b3-9864-4b32-ad91-13247a7d50c1",
   "metadata": {
    "tags": []
   },
   "outputs": [
    {
     "name": "stdout",
     "output_type": "stream",
     "text": [
      "414 µs ± 28.9 µs per loop (mean ± std. dev. of 7 runs, 1000 loops each)\n"
     ]
    },
    {
     "data": {
      "text/plain": [
       "      converged: True\n",
       "           flag: 'converged'\n",
       " function_calls: 20\n",
       "     iterations: 10\n",
       "           root: 1.0"
      ]
     },
     "execution_count": 80,
     "metadata": {},
     "output_type": "execute_result"
    }
   ],
   "source": [
    "%timeit opt.root_scalar(f6, fprime=f6D, x0=f6_x0, xtol=ex4_tol, maxiter=ex4_maxit, method='newton')\n",
    "opt.root_scalar(f6, fprime=f6D, x0=f6_x0, xtol=ex4_tol, maxiter=ex4_maxit, method='newton')"
   ]
  },
  {
   "cell_type": "markdown",
   "id": "27275043-453b-49ab-a7e6-a670d9288e79",
   "metadata": {},
   "source": [
    " "
   ]
  },
  {
   "cell_type": "markdown",
   "id": "55a90a94-3681-49a7-ab62-eef245a66aea",
   "metadata": {},
   "source": [
    "**$f_6(x)$ - Secante**"
   ]
  },
  {
   "cell_type": "code",
   "execution_count": 81,
   "id": "2d4a5e33-a997-41fb-ae1a-df4da3c20a52",
   "metadata": {},
   "outputs": [
    {
     "name": "stdout",
     "output_type": "stream",
     "text": [
      "370 µs ± 3.23 µs per loop (mean ± std. dev. of 7 runs, 1000 loops each)\n"
     ]
    },
    {
     "data": {
      "text/plain": [
       "      converged: True\n",
       "           flag: 'converged'\n",
       " function_calls: 12\n",
       "     iterations: 11\n",
       "           root: 1.0"
      ]
     },
     "execution_count": 81,
     "metadata": {},
     "output_type": "execute_result"
    }
   ],
   "source": [
    "%timeit opt.root_scalar(f6, x0=f6_x0, x1=f6_x1, maxiter=ex4_maxit, xtol=ex4_tol, method='secant')\n",
    "opt.root_scalar(f6, x0=f6_x0, x1=f6_x1, maxiter=ex4_maxit, xtol=ex4_tol, method='secant')"
   ]
  },
  {
   "cell_type": "markdown",
   "id": "87cdfff5-cd89-4a49-8871-423b76dd1af0",
   "metadata": {},
   "source": [
    " "
   ]
  },
  {
   "cell_type": "markdown",
   "id": "2414ba24-3bf2-4951-a187-d7988163e492",
   "metadata": {},
   "source": [
    "---"
   ]
  }
 ],
 "metadata": {
  "kernelspec": {
   "display_name": "Python 3",
   "language": "python",
   "name": "python3"
  },
  "language_info": {
   "codemirror_mode": {
    "name": "ipython",
    "version": 3
   },
   "file_extension": ".py",
   "mimetype": "text/x-python",
   "name": "python",
   "nbconvert_exporter": "python",
   "pygments_lexer": "ipython3",
   "version": "3.8.8"
  }
 },
 "nbformat": 4,
 "nbformat_minor": 5
}
