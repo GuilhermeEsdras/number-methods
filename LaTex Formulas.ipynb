{
 "cells": [
  {
   "cell_type": "code",
   "execution_count": null,
   "id": "228e4a40-553e-48e1-8264-5e46141c33ef",
   "metadata": {},
   "outputs": [],
   "source": []
  },
  {
   "cell_type": "markdown",
   "id": "a8dc1b7b-5626-4542-8c26-f7472b89db1e",
   "metadata": {},
   "source": [
    "$ \n",
    "\\begin{array}{rcll}\n",
    "y & = & x^{2}+bx+c\\\\\n",
    "  & = & x^{2}+2\\times\\dfrac{b}{2}x+c\\\\\n",
    "  & = & \\underbrace{x^{2}+2\\times\\dfrac{b}{2}x+\\left(\\frac{b}{2}\\right)^{2}}-\n",
    "      {\\left(\\dfrac{b}{2}\\right)^{2}+c}\\\\\n",
    "  &  & \\qquad\\left(x+{\\dfrac{b}{2}}\\right)^{2}\\\\\n",
    "  & = & \\left(x+\\dfrac{b}{2}\\right)^{2}-\\left(\\dfrac{b}{2}\\right)^{2}+c \n",
    "  & \\left|+\\left({\\dfrac{b}{2}}\\right)^{2}-c\\right.\\\\\n",
    "    y+\\left(\\dfrac{b}{2}\\right)^{2}-c & = & \\left(x+\n",
    "    \\dfrac{b}{2}\\right)^{2} & \\left|\\strut(\\textrm{vertex form})\\right.\\\\\n",
    "y-y_{S} & = & (x-x_{S})^{2}\\\\\n",
    "S(x_{S};y_{S}) & \\,\\textrm{or}\\, \n",
    "    & S\\left(-\\dfrac{b}{2};\\,\\left(\\dfrac{b}{2}\\right)^{2}-c\\right)\n",
    "\\end{array} \n",
    "$"
   ]
  },
  {
   "cell_type": "code",
   "execution_count": null,
   "id": "547639e2-b939-45d3-b3d5-1fc129b38b24",
   "metadata": {},
   "outputs": [],
   "source": []
  }
 ],
 "metadata": {
  "kernelspec": {
   "display_name": "Python 3",
   "language": "python",
   "name": "python3"
  },
  "language_info": {
   "codemirror_mode": {
    "name": "ipython",
    "version": 3
   },
   "file_extension": ".py",
   "mimetype": "text/x-python",
   "name": "python",
   "nbconvert_exporter": "python",
   "pygments_lexer": "ipython3",
   "version": "3.8.8"
  }
 },
 "nbformat": 4,
 "nbformat_minor": 5
}
